{
 "cells": [
  {
   "cell_type": "code",
   "execution_count": 3,
   "id": "e0c78394-3159-4fe8-9f23-9030c527a628",
   "metadata": {},
   "outputs": [
    {
     "name": "stdout",
     "output_type": "stream",
     "text": [
      "Collecting package metadata (current_repodata.json): done\n",
      "Solving environment: done\n",
      "\n",
      "## Package Plan ##\n",
      "\n",
      "  environment location: /opt/homebrew/anaconda3\n",
      "\n",
      "  added / updated specs:\n",
      "    - selenium\n",
      "\n",
      "\n",
      "The following packages will be downloaded:\n",
      "\n",
      "    package                    |            build\n",
      "    ---------------------------|-----------------\n",
      "    conda-4.14.0               |   py38h50d1736_0        1012 KB  conda-forge\n",
      "    python_abi-3.8             |           2_cp38           4 KB  conda-forge\n",
      "    selenium-3.141.0           |py38h96a0964_1003         900 KB  conda-forge\n",
      "    ------------------------------------------------------------\n",
      "                                           Total:         1.9 MB\n",
      "\n",
      "The following NEW packages will be INSTALLED:\n",
      "\n",
      "  python_abi         conda-forge/osx-64::python_abi-3.8-2_cp38\n",
      "  selenium           conda-forge/osx-64::selenium-3.141.0-py38h96a0964_1003\n",
      "\n",
      "The following packages will be UPDATED:\n",
      "\n",
      "  conda              pkgs/main::conda-4.10.1-py38hecd8cb5_1 --> conda-forge::conda-4.14.0-py38h50d1736_0\n",
      "\n",
      "\n",
      "\n",
      "Downloading and Extracting Packages\n",
      "python_abi-3.8       | 4 KB      | ##################################### | 100% \n",
      "conda-4.14.0         | 1012 KB   | ##################################### | 100% \n",
      "selenium-3.141.0     | 900 KB    | ##################################### | 100% \n",
      "Preparing transaction: done\n",
      "Verifying transaction: \\ WARNING conda.core.path_actions:verify(962): Unable to create environments file. Path not writable.\n",
      "  environment location: /Users/sanghunoh/.conda/environments.txt\n",
      "\n",
      "done\n",
      "Executing transaction: done\n"
     ]
    }
   ],
   "source": [
    "!conda install selenium -y"
   ]
  },
  {
   "cell_type": "code",
   "execution_count": 11,
   "id": "9e190532-a7a3-4e69-84d1-6af70581543f",
   "metadata": {},
   "outputs": [
    {
     "data": {
      "text/plain": [
       "'3.141.0'"
      ]
     },
     "execution_count": 11,
     "metadata": {},
     "output_type": "execute_result"
    }
   ],
   "source": [
    "import selenium\n",
    "from selenium import webdriver\n",
    "selenium.__version__"
   ]
  },
  {
   "cell_type": "code",
   "execution_count": 18,
   "id": "e377608a-7b5c-4005-a3f3-e2f78f7c74dd",
   "metadata": {},
   "outputs": [
    {
     "ename": "WebDriverException",
     "evalue": "Message: unknown error: cannot find Chrome binary\n",
     "output_type": "error",
     "traceback": [
      "\u001b[0;31m---------------------------------------------------------------------------\u001b[0m",
      "\u001b[0;31mWebDriverException\u001b[0m                        Traceback (most recent call last)",
      "\u001b[0;32m<ipython-input-18-54304bcdf587>\u001b[0m in \u001b[0;36m<module>\u001b[0;34m\u001b[0m\n\u001b[1;32m      1\u001b[0m \u001b[0;31m# open chrome browser\u001b[0m\u001b[0;34m\u001b[0m\u001b[0;34m\u001b[0m\u001b[0;34m\u001b[0m\u001b[0m\n\u001b[0;32m----> 2\u001b[0;31m \u001b[0mbrowser\u001b[0m \u001b[0;34m=\u001b[0m \u001b[0mwebdriver\u001b[0m\u001b[0;34m.\u001b[0m\u001b[0mChrome\u001b[0m\u001b[0;34m(\u001b[0m\u001b[0mexecutable_path\u001b[0m\u001b[0;34m=\u001b[0m\u001b[0;34m'../../../../../chromedriver'\u001b[0m\u001b[0;34m)\u001b[0m\u001b[0;34m\u001b[0m\u001b[0;34m\u001b[0m\u001b[0m\n\u001b[0m",
      "\u001b[0;32m/opt/homebrew/anaconda3/lib/python3.8/site-packages/selenium/webdriver/chrome/webdriver.py\u001b[0m in \u001b[0;36m__init__\u001b[0;34m(self, executable_path, port, options, service_args, desired_capabilities, service_log_path, chrome_options, keep_alive)\u001b[0m\n\u001b[1;32m     74\u001b[0m \u001b[0;34m\u001b[0m\u001b[0m\n\u001b[1;32m     75\u001b[0m         \u001b[0;32mtry\u001b[0m\u001b[0;34m:\u001b[0m\u001b[0;34m\u001b[0m\u001b[0;34m\u001b[0m\u001b[0m\n\u001b[0;32m---> 76\u001b[0;31m             RemoteWebDriver.__init__(\n\u001b[0m\u001b[1;32m     77\u001b[0m                 \u001b[0mself\u001b[0m\u001b[0;34m,\u001b[0m\u001b[0;34m\u001b[0m\u001b[0;34m\u001b[0m\u001b[0m\n\u001b[1;32m     78\u001b[0m                 command_executor=ChromeRemoteConnection(\n",
      "\u001b[0;32m/opt/homebrew/anaconda3/lib/python3.8/site-packages/selenium/webdriver/remote/webdriver.py\u001b[0m in \u001b[0;36m__init__\u001b[0;34m(self, command_executor, desired_capabilities, browser_profile, proxy, keep_alive, file_detector, options)\u001b[0m\n\u001b[1;32m    155\u001b[0m             warnings.warn(\"Please use FirefoxOptions to set browser profile\",\n\u001b[1;32m    156\u001b[0m                           DeprecationWarning, stacklevel=2)\n\u001b[0;32m--> 157\u001b[0;31m         \u001b[0mself\u001b[0m\u001b[0;34m.\u001b[0m\u001b[0mstart_session\u001b[0m\u001b[0;34m(\u001b[0m\u001b[0mcapabilities\u001b[0m\u001b[0;34m,\u001b[0m \u001b[0mbrowser_profile\u001b[0m\u001b[0;34m)\u001b[0m\u001b[0;34m\u001b[0m\u001b[0;34m\u001b[0m\u001b[0m\n\u001b[0m\u001b[1;32m    158\u001b[0m         \u001b[0mself\u001b[0m\u001b[0;34m.\u001b[0m\u001b[0m_switch_to\u001b[0m \u001b[0;34m=\u001b[0m \u001b[0mSwitchTo\u001b[0m\u001b[0;34m(\u001b[0m\u001b[0mself\u001b[0m\u001b[0;34m)\u001b[0m\u001b[0;34m\u001b[0m\u001b[0;34m\u001b[0m\u001b[0m\n\u001b[1;32m    159\u001b[0m         \u001b[0mself\u001b[0m\u001b[0;34m.\u001b[0m\u001b[0m_mobile\u001b[0m \u001b[0;34m=\u001b[0m \u001b[0mMobile\u001b[0m\u001b[0;34m(\u001b[0m\u001b[0mself\u001b[0m\u001b[0;34m)\u001b[0m\u001b[0;34m\u001b[0m\u001b[0;34m\u001b[0m\u001b[0m\n",
      "\u001b[0;32m/opt/homebrew/anaconda3/lib/python3.8/site-packages/selenium/webdriver/remote/webdriver.py\u001b[0m in \u001b[0;36mstart_session\u001b[0;34m(self, capabilities, browser_profile)\u001b[0m\n\u001b[1;32m    250\u001b[0m         parameters = {\"capabilities\": w3c_caps,\n\u001b[1;32m    251\u001b[0m                       \"desiredCapabilities\": capabilities}\n\u001b[0;32m--> 252\u001b[0;31m         \u001b[0mresponse\u001b[0m \u001b[0;34m=\u001b[0m \u001b[0mself\u001b[0m\u001b[0;34m.\u001b[0m\u001b[0mexecute\u001b[0m\u001b[0;34m(\u001b[0m\u001b[0mCommand\u001b[0m\u001b[0;34m.\u001b[0m\u001b[0mNEW_SESSION\u001b[0m\u001b[0;34m,\u001b[0m \u001b[0mparameters\u001b[0m\u001b[0;34m)\u001b[0m\u001b[0;34m\u001b[0m\u001b[0;34m\u001b[0m\u001b[0m\n\u001b[0m\u001b[1;32m    253\u001b[0m         \u001b[0;32mif\u001b[0m \u001b[0;34m'sessionId'\u001b[0m \u001b[0;32mnot\u001b[0m \u001b[0;32min\u001b[0m \u001b[0mresponse\u001b[0m\u001b[0;34m:\u001b[0m\u001b[0;34m\u001b[0m\u001b[0;34m\u001b[0m\u001b[0m\n\u001b[1;32m    254\u001b[0m             \u001b[0mresponse\u001b[0m \u001b[0;34m=\u001b[0m \u001b[0mresponse\u001b[0m\u001b[0;34m[\u001b[0m\u001b[0;34m'value'\u001b[0m\u001b[0;34m]\u001b[0m\u001b[0;34m\u001b[0m\u001b[0;34m\u001b[0m\u001b[0m\n",
      "\u001b[0;32m/opt/homebrew/anaconda3/lib/python3.8/site-packages/selenium/webdriver/remote/webdriver.py\u001b[0m in \u001b[0;36mexecute\u001b[0;34m(self, driver_command, params)\u001b[0m\n\u001b[1;32m    319\u001b[0m         \u001b[0mresponse\u001b[0m \u001b[0;34m=\u001b[0m \u001b[0mself\u001b[0m\u001b[0;34m.\u001b[0m\u001b[0mcommand_executor\u001b[0m\u001b[0;34m.\u001b[0m\u001b[0mexecute\u001b[0m\u001b[0;34m(\u001b[0m\u001b[0mdriver_command\u001b[0m\u001b[0;34m,\u001b[0m \u001b[0mparams\u001b[0m\u001b[0;34m)\u001b[0m\u001b[0;34m\u001b[0m\u001b[0;34m\u001b[0m\u001b[0m\n\u001b[1;32m    320\u001b[0m         \u001b[0;32mif\u001b[0m \u001b[0mresponse\u001b[0m\u001b[0;34m:\u001b[0m\u001b[0;34m\u001b[0m\u001b[0;34m\u001b[0m\u001b[0m\n\u001b[0;32m--> 321\u001b[0;31m             \u001b[0mself\u001b[0m\u001b[0;34m.\u001b[0m\u001b[0merror_handler\u001b[0m\u001b[0;34m.\u001b[0m\u001b[0mcheck_response\u001b[0m\u001b[0;34m(\u001b[0m\u001b[0mresponse\u001b[0m\u001b[0;34m)\u001b[0m\u001b[0;34m\u001b[0m\u001b[0;34m\u001b[0m\u001b[0m\n\u001b[0m\u001b[1;32m    322\u001b[0m             response['value'] = self._unwrap_value(\n\u001b[1;32m    323\u001b[0m                 response.get('value', None))\n",
      "\u001b[0;32m/opt/homebrew/anaconda3/lib/python3.8/site-packages/selenium/webdriver/remote/errorhandler.py\u001b[0m in \u001b[0;36mcheck_response\u001b[0;34m(self, response)\u001b[0m\n\u001b[1;32m    240\u001b[0m                 \u001b[0malert_text\u001b[0m \u001b[0;34m=\u001b[0m \u001b[0mvalue\u001b[0m\u001b[0;34m[\u001b[0m\u001b[0;34m'alert'\u001b[0m\u001b[0;34m]\u001b[0m\u001b[0;34m.\u001b[0m\u001b[0mget\u001b[0m\u001b[0;34m(\u001b[0m\u001b[0;34m'text'\u001b[0m\u001b[0;34m)\u001b[0m\u001b[0;34m\u001b[0m\u001b[0;34m\u001b[0m\u001b[0m\n\u001b[1;32m    241\u001b[0m             \u001b[0;32mraise\u001b[0m \u001b[0mexception_class\u001b[0m\u001b[0;34m(\u001b[0m\u001b[0mmessage\u001b[0m\u001b[0;34m,\u001b[0m \u001b[0mscreen\u001b[0m\u001b[0;34m,\u001b[0m \u001b[0mstacktrace\u001b[0m\u001b[0;34m,\u001b[0m \u001b[0malert_text\u001b[0m\u001b[0;34m)\u001b[0m\u001b[0;34m\u001b[0m\u001b[0;34m\u001b[0m\u001b[0m\n\u001b[0;32m--> 242\u001b[0;31m         \u001b[0;32mraise\u001b[0m \u001b[0mexception_class\u001b[0m\u001b[0;34m(\u001b[0m\u001b[0mmessage\u001b[0m\u001b[0;34m,\u001b[0m \u001b[0mscreen\u001b[0m\u001b[0;34m,\u001b[0m \u001b[0mstacktrace\u001b[0m\u001b[0;34m)\u001b[0m\u001b[0;34m\u001b[0m\u001b[0;34m\u001b[0m\u001b[0m\n\u001b[0m\u001b[1;32m    243\u001b[0m \u001b[0;34m\u001b[0m\u001b[0m\n\u001b[1;32m    244\u001b[0m     \u001b[0;32mdef\u001b[0m \u001b[0m_value_or_default\u001b[0m\u001b[0;34m(\u001b[0m\u001b[0mself\u001b[0m\u001b[0;34m,\u001b[0m \u001b[0mobj\u001b[0m\u001b[0;34m,\u001b[0m \u001b[0mkey\u001b[0m\u001b[0;34m,\u001b[0m \u001b[0mdefault\u001b[0m\u001b[0;34m)\u001b[0m\u001b[0;34m:\u001b[0m\u001b[0;34m\u001b[0m\u001b[0;34m\u001b[0m\u001b[0m\n",
      "\u001b[0;31mWebDriverException\u001b[0m: Message: unknown error: cannot find Chrome binary\n"
     ]
    }
   ],
   "source": [
    "# open chrome browser\n",
    "browser = webdriver.Chrome(executable_path='../../../../../chromedriver')"
   ]
  },
  {
   "cell_type": "code",
   "execution_count": null,
   "id": "89d5f541-f2dc-4a61-ba8e-2206ff4c26f7",
   "metadata": {},
   "outputs": [],
   "source": [
    "# url in address window\n",
    "browser.get('https://play.google.com/store/search?q=%ED%97%AC%EC%8A%A4%EC%BC%80%EC%96%B4%EC%95%B1&c=apps&hl=ko-KR')"
   ]
  },
  {
   "cell_type": "code",
   "execution_count": null,
   "id": "545bdec0-21ed-4b5f-8ecd-18252eb8dd9a",
   "metadata": {},
   "outputs": [],
   "source": [
    "browser.implicitly_wait(10)"
   ]
  },
  {
   "cell_type": "markdown",
   "id": "da0ab377-4c4e-479f-84b7-711978116ca8",
   "metadata": {},
   "source": [
    "## 제품 클릭\n",
    "- section > div > div > div > div:nth-child(2) > div > div > div"
   ]
  },
  {
   "cell_type": "code",
   "execution_count": null,
   "id": "1eebcbd2-fde4-4b8e-a833-42b270859da2",
   "metadata": {},
   "outputs": [],
   "source": [
    "click_path = 'section > div > div > div > div'\n",
    "company_list = browser.find_elements_by_css_selector(click_path)\n",
    "len(company_list)"
   ]
  },
  {
   "cell_type": "markdown",
   "id": "71274383-684e-4346-9f5d-291632dcb7a5",
   "metadata": {},
   "source": [
    "## 제품 정보\n",
    "- 서비스명 tag : div > h1 > span\n",
    "- 만든회사명 tag : div.Il7kR > div > div > div > a > span\n",
    "- 앱정보 tag : div:nth-child(1) > c-wiz:nth-child(2) > div > section > div"
   ]
  },
  {
   "cell_type": "code",
   "execution_count": 6,
   "id": "2bf1f14d-8784-42a9-bbf9-78f20de905cd",
   "metadata": {},
   "outputs": [
    {
     "data": {
      "text/plain": [
       "['NH헬스케어',\n",
       " 'NH농협생명',\n",
       " '한국인의 건강관리 NH 헬스케어!\\n\\n지인들과 재밌고 건강하게 즐기는 NH헬스케어만의 새로운 걷기 방법 – 걷기 배틀\\n걷기 목표 달성시 지급되는 포인트로 완성하는 온라인 텃밭 – 랜선 텃밭 가꾸기\\n\\n즐겁고 과학적인 당신만을 위한 건강 솔루션 NH 헬스케어!\\n업데이트 날짜\\n2023. 7. 21.\\n건강/운동']"
      ]
     },
     "execution_count": 6,
     "metadata": {},
     "output_type": "execute_result"
    }
   ],
   "source": [
    "service_name = browser.find_element_by_css_selector('div > h1 > span').text\n",
    "company_name = browser.find_element_by_css_selector('div.Il7kR > div > div > div > a > span').text\n",
    "app_information = browser.find_element_by_css_selector('div:nth-child(1) > c-wiz:nth-child(2) > div > section > div').text\n",
    "\n",
    "[service_name, company_name, app_information]"
   ]
  },
  {
   "cell_type": "markdown",
   "id": "48fede69-b1b3-4a2d-b99f-f31b84f75ac0",
   "metadata": {},
   "source": [
    "### 리뷰 모두 보기\n",
    "- click tag : div:nth-child(5) > div > div > button > span"
   ]
  },
  {
   "cell_type": "code",
   "execution_count": 7,
   "id": "472959d7-a780-44c5-9303-98f76489724e",
   "metadata": {},
   "outputs": [],
   "source": [
    "import time\n",
    "time.sleep(2)"
   ]
  },
  {
   "cell_type": "code",
   "execution_count": 8,
   "id": "c8c9cd09-6607-4717-9f48-084aceb049a9",
   "metadata": {},
   "outputs": [],
   "source": [
    "browser.find_element_by_xpath('//*/div/div/button/*[contains(text(), \"리뷰\")]').click()"
   ]
  },
  {
   "cell_type": "markdown",
   "id": "a6ccedc5-3c3e-4055-a6b9-f89da921b976",
   "metadata": {},
   "source": [
    "## 리뷰 내용 가져오기\n",
    "- 리뷰 묶음 tag : div.fysCi > div > div:nth-child(2) > div\n",
    "- 내용 tag : div.h3YV2d\n",
    "- 날짜 tag : header > div.Jx4nYe > span\n",
    "- 별점 tag : header > div.Jx4nYe > div"
   ]
  },
  {
   "cell_type": "code",
   "execution_count": 9,
   "id": "e6ce98e0-0326-46a7-857b-e13ece15cf25",
   "metadata": {},
   "outputs": [
    {
     "data": {
      "text/plain": [
       "40"
      ]
     },
     "execution_count": 9,
     "metadata": {},
     "output_type": "execute_result"
    }
   ],
   "source": [
    "reviews_bundle = browser.find_elements_by_css_selector('div.fysCi > div > div:nth-child(2) > div')\n",
    "len(reviews_bundle)"
   ]
  },
  {
   "cell_type": "code",
   "execution_count": 12,
   "id": "5a274a3d-f150-44f6-9491-398dadd58709",
   "metadata": {},
   "outputs": [],
   "source": [
    "# 회사 서비스에 대한 전체 리뷰 가져오기\n",
    "reviews_list = list()\n",
    "for review_bundle in reviews_bundle:\n",
    "    content = review_bundle.find_element_by_css_selector('div.h3YV2d').text\n",
    "    date = review_bundle.find_element_by_css_selector('header > div.Jx4nYe > span').text\n",
    "    stars = review_bundle.find_element_by_css_selector('header > div.Jx4nYe > div').get_attribute('aria-label')\n",
    "    review_list = [content, date, stars]\n",
    "    reviews_list.append(review_list)  # 리뷰에 대한 모든 것(특정 회사 서비스에 대한)"
   ]
  },
  {
   "cell_type": "code",
   "execution_count": 13,
   "id": "695342c5-98d2-4156-a1ac-5bf3da6635c6",
   "metadata": {
    "collapsed": true,
    "jupyter": {
     "outputs_hidden": true
    },
    "tags": []
   },
   "outputs": [
    {
     "data": {
      "text/plain": [
       "[['안녕하세요. 그동안 헬스케어 앱을 잘 사용중에 있었는데요, 그전에는 앱을 클릭하면 자동 로그인이되어 걸음수도 확인하고 포인트도 받고 그랬는데요. 오늘 갑자기 회원가입 및 로그인 화면이 뜨더니 로그인이 아예 안되면서 자꾸 에러가 나네요. 기존 회원인데, 새로 회원가입할수도 없구요ㅜㅜ 어떻게 해야하는지 알려주시면 감사하겠습니다.',\n",
       "  '2023년 7월 21일',\n",
       "  '별표 5개 만점에 4개를 받았습니다.'],\n",
       " ['업데이트 이후로 계속 앱이 사용중지가 되네요. 걸음수도 틀리고. 여러가지가 사용하기 불편하네요. 자체적으로 걸음수를 카운팅하지말고 삼성헬스나 구글 피트니스를 활용하면 좋겠네요. 빠른 조치 부탁드립니다',\n",
       "  '2023년 4월 30일',\n",
       "  '별표 5개 만점에 1개를 받았습니다.'],\n",
       " ['잘 이용하고 있었는데요. 요즘 들어서 앱내에서 데이터 로드 속도가 급격하게 느려졌습니다. 지인 핸드폰으로도 확인해보니 그러한 현상이 나타나서요. 확인 조치 요청드립니다ㅠㅠ',\n",
       "  '2023년 8월 8일',\n",
       "  '별표 5개 만점에 3개를 받았습니다.'],\n",
       " ['업데이트 안내가 있어서 했는데, 걸음수 측정 오류가 생겼네요.. 업데이트 이전에는 측정이 잘 안되고 계속해서 강제종료 팝업이 떠서 불편했는데 업데이트 이후로 팝업은 사라졌지만, 삼성헬스앱 측정 기준 1만6천 보인데, NH헬스케어는 28만 보로 나옵니다 ㅎㅎ;;',\n",
       "  '2023년 7월 21일',\n",
       "  '별표 5개 만점에 5개를 받았습니다.'],\n",
       " ['앱이 몇시간 째 로딩 중. 왜 이러나요? 혹시 업데이트해야하나 싶어 플레이 스토어에서 업데이트도 했는데 무한 반복 로딩만. 회면이 안 열려요. 계속 걸어서 지구 한바퀴 돌 기세인 코끼리만 보이고. 뭐가 문제지요????',\n",
       "  '2023년 7월 21일',\n",
       "  '별표 5개 만점에 1개를 받았습니다.'],\n",
       " ['오늘 업데이트된이후에 로그인이되지않아요 문자인증 ,네이버 인증 .... 몇번을 해봐도 인증확인은 원활히 되는데 그 이후 로그인이 안된다고 계속 뜨네요',\n",
       "  '2023년 7월 20일',\n",
       "  '별표 5개 만점에 1개를 받았습니다.'],\n",
       " ['일주일정도 잘사용하다가 갑자기 핸드폰인증로그인이 안됩니다, 핸드폰인증로그인 오류나서 앱삭제 후 다시깔아서 시도했는데도 그대로입니다 이런경우 어떻게해야하는지 알려주세요',\n",
       "  '2023년 8월 9일',\n",
       "  '별표 5개 만점에 1개를 받았습니다.'],\n",
       " ['포인트도 넉넉하게 주고 다 좋은데 다른 앱 사용하는 중간중간 이 앱 응답없다는 팝업이 떠서 불편합니다. 그리고 오늘 갑자기 로그아웃 되어 있어서 로그인했는데 로그인이 안되네요ㅠ 포인트 많이 쌓았는데 왜이러죠?ㅜ',\n",
       "  '2023년 7월 20일',\n",
       "  '별표 5개 만점에 3개를 받았습니다.'],\n",
       " ['엄마가 포인트 쌓이는 재미로 걷기하셨는데 업뎃 후 실행이 안되어 3번이나 다시 깔고 문자 인증 받아도 소용없고 도 먹통이더니 겨우 로긴했는데 화면멈춤이 넘 심하고 실행도 넘 오래 걸려요',\n",
       "  '2023년 7월 21일',\n",
       "  '별표 5개 만점에 1개를 받았습니다.'],\n",
       " ['실행중지 팝업뜨는 것에 대해 6월14일날 문의했고, 원인파악하여 다음업데이트시 조치된다고하셨는데 7/1일자로 업데이트가 되었는데 아직 그대로 에러 발생됩니다. 조치된것 맞습니까?',\n",
       "  '2023년 7월 3일',\n",
       "  '별표 5개 만점에 1개를 받았습니다.'],\n",
       " ['아주 잘 쓰고 있습니다. 광고도 없고 좋네요 그런데 하트, 골드하트, 다이아는 어디에 쓰는건가요??? 아무리 찾아도 정보가 없어요',\n",
       "  '2023년 8월 2일',\n",
       "  '별표 5개 만점에 5개를 받았습니다.'],\n",
       " ['지금은 해결됐네요. 잘쓰고있습니다. /// 본인인증을 별에 별 방법으로 해도 계속 로그인에 실패했다고 뜹니다. 빨리 해결해주세요 앱을 쓸수가없네요',\n",
       "  '2023년 7월 21일',\n",
       "  '별표 5개 만점에 5개를 받았습니다.'],\n",
       " ['폰 사용하는 중간중간 앱이 응답없음 - 종료/대기 선택 팝업이 자꾸 나타나요.. 재설치랑 여러 조치를 해봤지만 해결이 안 되어 할 수 없이 삭제합니다..ㅠㅠ',\n",
       "  '2023년 7월 1일',\n",
       "  '별표 5개 만점에 3개를 받았습니다.'],\n",
       " ['liapp alert 팝업이 실행되면서 안됩니다 삭제후 재설치해도 안되네요 해당건 올리자마자 적극적 대응 감사합니다^^',\n",
       "  '2023년 8월 22일',\n",
       "  '별표 5개 만점에 5개를 받았습니다.'],\n",
       " ['만보기 카운팅도 잘 안되면서 에러 너무 자주나고 장난아님... 좀 제대로 만들지',\n",
       "  '2023년 8월 18일',\n",
       "  '별표 5개 만점에 1개를 받았습니다.'],\n",
       " ['그동안 잘 사용중이었는데 오늘 업데이트이후 로그인도 안되고 쌓은 포인트도 들락날락 난리네요ㅠㅠ 오류 해결 부탁드립니다.',\n",
       "  '2023년 7월 20일',\n",
       "  '별표 5개 만점에 3개를 받았습니다.'],\n",
       " ['앱 닫기 / 대기 창이 간헐적으로 뜹니다. 앱 최신 업데이트 했는데도 문제가 발생합니다. 해결 부탁드립니다.',\n",
       "  '2023년 8월 1일',\n",
       "  '별표 5개 만점에 1개를 받았습니다.'],\n",
       " ['1.0.88 업데이트 이후 로그인/회원가입 아무것도 안됩니다. 업뎃이후 앱정보에서 데이터를 삭제해도 마찬가지네요? 어떻게 사용할 수 있을까요?',\n",
       "  '2023년 7월 21일',\n",
       "  '별표 5개 만점에 2개를 받았습니다.'],\n",
       " ['오류가 많이떠요... 백그라운드 실행시 문제가 있는듯합니다. 수정 요청드립니다',\n",
       "  '2023년 7월 7일',\n",
       "  '별표 5개 만점에 4개를 받았습니다.'],\n",
       " ['며칠전부터 걸음수 오류가 너무 심해요 하루에 만보 조금 더 걷는데 10만 넘게 표시되고 있어요 ㅠ 이거 너무 오류 같은데 수정좀 해봐 주세요',\n",
       "  '2023년 7월 23일',\n",
       "  '별표 5개 만점에 3개를 받았습니다.'],\n",
       " ['오픈 멤버이고 다좋아요 다좋은데 걸음수가 실제 다른 어플이랑 차이가 두배넘게 납니다 그러므로 목표걸음수 하향을 해줘야 보다많은분들이 공정한기회를 부여받습니다',\n",
       "  '2023년 7월 21일',\n",
       "  '별표 5개 만점에 5개를 받았습니다.'],\n",
       " ['자주 멈추고 아예 시작도 안되고 다시 설치하고 로그인하는 것도 계속 안됨',\n",
       "  '2023년 8월 8일',\n",
       "  '별표 5개 만점에 1개를 받았습니다.'],\n",
       " ['개떡같이 만들어서 업데이트만 하면 먹통이니 장난하나 삭제하고 다시 깔아도 소용없고 어떻게 만들었길래 이런건지 아~~~~짜증난다 만든 의미가 건강을 위한건지 스트레스 유발이 목적인지',\n",
       "  '2023년 7월 20일',\n",
       "  '별표 5개 만점에 1개를 받았습니다.'],\n",
       " ['골드하트 차곡차곡 모으는 중인데 오늘 갑자기 로그인하라고 하네요 인증해서 로그인하려 해도 안되고 회원가입도 안된다그러고... 그러다 앱 점검 중이라고ㅠㅠ 매일 열심히 하다 하루 이러면 어떻게 되는건가요',\n",
       "  '2023년 8월 9일',\n",
       "  '별표 5개 만점에 4개를 받았습니다.'],\n",
       " ['이벤트하지말고 어플이나 신경쓰지 시간당한번씩 어플꺼지고 계속알수없는오류ㅋㅋㅋ 관리나하세요 새이벤트하지말고',\n",
       "  '2023년 9월 1일',\n",
       "  '별표 5개 만점에 1개를 받았습니다.'],\n",
       " ['실제 걸음수와 앱에서 표시되는 걸음수가 이번주부터 엄청 차이남. 목표걸음이 8000보 이상인데 실제 걸음수는 1000보 안되게 걸은 것으로 표시되는데 목표걸음 하트는 8000보 기준 도달했다고 하트보상이 지급됨. 실제 걸음이 정상적으로 반영 안되고 있음',\n",
       "  '2023년 4월 22일',\n",
       "  '별표 5개 만점에 1개를 받았습니다.'],\n",
       " ['AI푸드렌즈 기능은 언제가부터 안나타나는데~ 이제 서비스 안하나요~ 요긴하게 잘 섰는데...',\n",
       "  '2023년 8월 2일',\n",
       "  '별표 5개 만점에 5개를 받았습니다.'],\n",
       " ['오늘 갑자기 계속해서 로그인 실패가 뜨네요 본인인증도 안되구요 빠른조치 바랍니다',\n",
       "  '2023년 7월 20일',\n",
       "  '별표 5개 만점에 1개를 받았습니다.'],\n",
       " ['아주 좋습니다 가끔 팝업창으로 뜨긴하네요 에러가^^그러다 닿으면 해결도구있네요',\n",
       "  '2023년 7월 3일',\n",
       "  '별표 5개 만점에 5개를 받았습니다.'],\n",
       " ['이엡을 다운 받은 이후로 다른앱까지 못쓰게 계속 정지됩니다. 악성 앱이 아닐까 싶습니다. 앞으로 농협은 불매하겠습니다',\n",
       "  '2023년 8월 1일',\n",
       "  '별표 5개 만점에 1개를 받았습니다.'],\n",
       " ['앱을 열려면 활성화가 되지 않고 먹통이 되어 앱을 삭제하고 또 깔게되는 일을 반복하게 되어 열받네요~~ 개선될 방법이 없을까요~~~',\n",
       "  '2023년 6월 29일',\n",
       "  '별표 5개 만점에 2개를 받았습니다.'],\n",
       " ['업데이트 이후 접속하려면 5분이상 걸리고 응답하지 않는다고 뜨기 일수예요',\n",
       "  '2023년 8월 27일',\n",
       "  '별표 5개 만점에 1개를 받았습니다.'],\n",
       " ['오류창이 계속 뜨길래 삭제하고 다시 설치했습니다. 또 그러네요?',\n",
       "  '2023년 9월 1일',\n",
       "  '별표 5개 만점에 1개를 받았습니다.'],\n",
       " ['업데이트하고 포인트가 사라졌어요. 농작물도 사라지고 계속 로그인만 하라고해서 로그인만4번은 한거 같아요. 수정해주세요.',\n",
       "  '2023년 4월 17일',\n",
       "  '별표 5개 만점에 1개를 받았습니다.'],\n",
       " ['운동하면서 건강도 챙기고 포인트도챙기고 여러모로 좋은것같아요', '2023년 8월 9일', '별표 5개 만점에 5개를 받았습니다.'],\n",
       " ['걷기를해도 걸음수 측정도 안되고 설정에 어플사용방법이랄지 Q&A도 없고 불편하네요',\n",
       "  '2023년 8월 14일',\n",
       "  '별표 5개 만점에 1개를 받았습니다.'],\n",
       " ['업데이트 이후로 걸음수가 누락되는 오류가 잦습니다. 그리고 포인트를 왜 꼭 다음날에 눌러야 적립되나요? 업데이트 전엔 자동적립됬었는데 번거롭게 하네요',\n",
       "  '2023년 5월 16일',\n",
       "  '별표 5개 만점에 1개를 받았습니다.'],\n",
       " ['업뎃 전까지는 정상이엿는데 지금은 로그아웃에다 로그인도 불가능',\n",
       "  '2023년 7월 21일',\n",
       "  '별표 5개 만점에 1개를 받았습니다.'],\n",
       " ['여전히또 앱중지.... 고칠 생각이 없는건가.... 여러 만보기 어플 중 이앱만 그럼...',\n",
       "  '2023년 7월 25일',\n",
       "  '별표 5개 만점에 1개를 받았습니다.'],\n",
       " ['이거 왜자꾸 앱 응답없음 뜨면서 메세지 나오나요?? 이러면 어떻게 만보기를 쓰라는건지 몇주째이러는데 고칠생각이 없는건지 궁금하네요',\n",
       "  '2023년 7월 11일',\n",
       "  '별표 5개 만점에 1개를 받았습니다.']]"
      ]
     },
     "execution_count": 13,
     "metadata": {},
     "output_type": "execute_result"
    }
   ],
   "source": [
    "reviews_list"
   ]
  },
  {
   "cell_type": "code",
   "execution_count": 14,
   "id": "120fe077-cbb0-479e-9d96-19afb1e96358",
   "metadata": {},
   "outputs": [],
   "source": [
    "browser.back() # 팝업 닫기"
   ]
  },
  {
   "cell_type": "code",
   "execution_count": 15,
   "id": "f8fdbbaf-0935-46c1-87e9-ed0986d33419",
   "metadata": {},
   "outputs": [],
   "source": [
    "browser.back() # 리스트로 돌아가기"
   ]
  },
  {
   "cell_type": "code",
   "execution_count": null,
   "id": "2ec1fb2c-f57e-4802-b21b-f6806391b89c",
   "metadata": {},
   "outputs": [],
   "source": []
  }
 ],
 "metadata": {
  "kernelspec": {
   "display_name": "Python 3",
   "language": "python",
   "name": "python3"
  },
  "language_info": {
   "codemirror_mode": {
    "name": "ipython",
    "version": 3
   },
   "file_extension": ".py",
   "mimetype": "text/x-python",
   "name": "python",
   "nbconvert_exporter": "python",
   "pygments_lexer": "ipython3",
   "version": "3.8.8"
  }
 },
 "nbformat": 4,
 "nbformat_minor": 5
}
