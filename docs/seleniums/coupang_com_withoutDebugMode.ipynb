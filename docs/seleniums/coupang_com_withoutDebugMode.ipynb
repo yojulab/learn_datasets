{
 "cells": [
  {
   "cell_type": "code",
   "execution_count": 30,
   "id": "42187dfc-67e9-4578-a738-441832086217",
   "metadata": {
    "id": "42187dfc-67e9-4578-a738-441832086217",
    "tags": []
   },
   "outputs": [],
   "source": [
    "from selenium import webdriver\n",
    "import time"
   ]
  },
  {
   "cell_type": "code",
   "execution_count": 39,
   "id": "89b772f5-eafb-4511-91ad-d0113799241d",
   "metadata": {},
   "outputs": [],
   "source": [
    "from selenium.webdriver.chrome.options import Options\n",
    "import subprocess\n",
    "import shutil\n",
    "\n",
    "# 자신 맞는 chrome.exe 위치 변경 필요\n",
    "subprocess.Popen(r'C:\\Program Files\\Google\\Chrome\\Application\\chrome.exe --remote-debugging-port=9222 --user-data-dir=\"C:\\chrometemp\"')\n",
    "\n",
    "options = webdriver.ChromeOptions()\n",
    "options.add_experimental_option(\"debuggerAddress\", \"127.0.0.1:9222\")"
   ]
  },
  {
   "cell_type": "code",
   "execution_count": 40,
   "id": "6383967b-1d0e-468c-bff4-9dad82df5931",
   "metadata": {
    "id": "6383967b-1d0e-468c-bff4-9dad82df5931",
    "tags": []
   },
   "outputs": [],
   "source": [
    "# open chrome browser\n",
    "browser = webdriver.Chrome(executable_path='../../../chromedriver.exe', options=options)"
   ]
  },
  {
   "cell_type": "code",
   "execution_count": 41,
   "id": "b91a5db4-a795-4e24-a50c-53b3e9d2caa0",
   "metadata": {
    "id": "b91a5db4-a795-4e24-a50c-53b3e9d2caa0",
    "tags": []
   },
   "outputs": [],
   "source": [
    "# url in address window(주소창에 url 입력)\n",
    "browser.get('https://www.coupang.com/np/search?q=%EA%B0%84%20%EA%B8%B0%EB%8A%A5%20%EC%98%81%EC%96%91%EC%A0%9C&channel=auto')\n",
    "browser.implicitly_wait(10)"
   ]
  },
  {
   "cell_type": "markdown",
   "id": "eee60104-f9b5-484f-862a-0a82ceff6fcb",
   "metadata": {
    "id": "eee60104-f9b5-484f-862a-0a82ceff6fcb"
   },
   "source": [
    "## 상품 사이트 열리지 않음. 클릭해도 열리지 않고, for문으로도 열리지 않음"
   ]
  },
  {
   "cell_type": "code",
   "execution_count": 42,
   "id": "4389b5f2-915e-484b-9cea-60cdf98bdd78",
   "metadata": {
    "id": "4389b5f2-915e-484b-9cea-60cdf98bdd78",
    "tags": []
   },
   "outputs": [],
   "source": [
    "import pandas as pd\n",
    "import pymongo as mg"
   ]
  },
  {
   "cell_type": "code",
   "execution_count": 43,
   "id": "231898ba-b85e-4823-9402-f93be3213a89",
   "metadata": {
    "id": "231898ba-b85e-4823-9402-f93be3213a89",
    "outputId": "e9cb2c8e-c6fa-40ca-b174-52fc8b7eaf8f",
    "tags": []
   },
   "outputs": [
    {
     "data": {
      "text/plain": [
       "36"
      ]
     },
     "execution_count": 43,
     "metadata": {},
     "output_type": "execute_result"
    }
   ],
   "source": [
    "click_product ='.search-product-wrap'\n",
    "product_list = browser.find_elements_by_css_selector(click_product)\n",
    "len(product_list) # 한 페이지당 36개 상품"
   ]
  },
  {
   "cell_type": "code",
   "execution_count": null,
   "id": "1a8df6b4-5a06-4014-b9db-667bfd7bf67f",
   "metadata": {
    "id": "1a8df6b4-5a06-4014-b9db-667bfd7bf67f",
    "outputId": "7750625b-06f5-4e1b-a820-51f1d2f6a741",
    "tags": []
   },
   "outputs": [],
   "source": [
    "main_window = browser.current_window_handle  # 현재 창의 핸들 저장\n",
    "\n",
    "for product in product_list:\n",
    "    product.click()\n",
    "\n",
    "    browser.implicitly_wait(10)\n",
    "    time.sleep(2)\n",
    "    # 다시 메인 창으로 전환\n",
    "    browser.switch_to.window(main_window)\n",
    "    time.sleep(2)\n"
   ]
  },
  {
   "cell_type": "code",
   "execution_count": null,
   "id": "7809c30f-6300-43d4-abdc-1611640e0f52",
   "metadata": {
    "id": "7809c30f-6300-43d4-abdc-1611640e0f52"
   },
   "outputs": [],
   "source": [
    "#browser.quitit()"
   ]
  }
 ],
 "metadata": {
  "colab": {
   "provenance": []
  },
  "kernelspec": {
   "display_name": "Python 3 (ipykernel)",
   "language": "python",
   "name": "python3"
  },
  "language_info": {
   "codemirror_mode": {
    "name": "ipython",
    "version": 3
   },
   "file_extension": ".py",
   "mimetype": "text/x-python",
   "name": "python",
   "nbconvert_exporter": "python",
   "pygments_lexer": "ipython3",
   "version": "3.9.13"
  }
 },
 "nbformat": 4,
 "nbformat_minor": 5
}
