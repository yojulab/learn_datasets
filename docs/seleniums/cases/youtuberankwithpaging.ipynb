{
 "cells": [
  {
   "cell_type": "code",
   "execution_count": 1,
   "id": "7236cae9",
   "metadata": {},
   "outputs": [],
   "source": [
    "from selenium import webdriver"
   ]
  },
  {
   "cell_type": "code",
   "execution_count": 2,
   "id": "2dafad3e",
   "metadata": {},
   "outputs": [],
   "source": [
    "browser = webdriver.Chrome('./chromedriver.exe')"
   ]
  },
  {
   "cell_type": "code",
   "execution_count": 3,
   "id": "90ad1938",
   "metadata": {},
   "outputs": [],
   "source": [
    "browser.get('https://youtube-rank.com/board/bbs/board.php?bo_table=youtube')"
   ]
  },
  {
   "cell_type": "code",
   "execution_count": null,
   "id": "890e4b69",
   "metadata": {
    "collapsed": true
   },
   "outputs": [],
   "source": [
    "html = browser.page_source\n",
    "html"
   ]
  },
  {
   "cell_type": "code",
   "execution_count": 5,
   "id": "3d66cafd",
   "metadata": {},
   "outputs": [],
   "source": [
    "from bs4 import BeautifulSoup"
   ]
  },
  {
   "cell_type": "code",
   "execution_count": 6,
   "id": "1eab6c2b",
   "metadata": {},
   "outputs": [],
   "source": [
    "soup = BeautifulSoup(html, 'html.parser')"
   ]
  },
  {
   "cell_type": "code",
   "execution_count": 7,
   "id": "77273323",
   "metadata": {
    "collapsed": true
   },
   "outputs": [
    {
     "name": "stdout",
     "output_type": "stream",
     "text": [
      "<class 'bs4.element.ResultSet'>\n"
     ]
    },
    {
     "data": {
      "text/plain": [
       "<tr class=\"aos-init aos-animate\" data-aos=\"fade-up\" data-aos-duration=\"800\">\n",
       "<td class=\"rank\">\n",
       "                        1                    </td>\n",
       "<td class=\"td_img\">\n",
       "<div class=\"info_img\"><a href=\"https://youtube-rank.com/board/bbs/board.php?bo_table=youtube&amp;wr_id=3203\"><img class=\"lazyload\" data-src=\"https://yt3.ggpht.com/ytc/AKedOLTat8_vr7h2i29n67lvNLMp1F-9Ch2ejFRlRzt0zQ=s88-c-k-c0x00ffffff-no-rj-mo\" height=\"88\" src=\"https://yt3.ggpht.com/ytc/AKedOLTat8_vr7h2i29n67lvNLMp1F-9Ch2ejFRlRzt0zQ=s88-c-k-c0x00ffffff-no-rj-mo\" width=\"88\"/></a></div>\n",
       "<p class=\"info_rank\">1</p>\n",
       "</td>\n",
       "<td class=\"subject\">\n",
       "<h1>\n",
       "<p <a=\"\" class=\"category\" href=\"https://youtube-rank.com/board/bbs/board.php?bo_table=youtube&amp;sca=%EC%9D%8C%EC%95%85%2F%EB%8C%84%EC%8A%A4%2F%EA%B0%80%EC%88%98\">[음악/댄스/가수]\n",
       "                                \n",
       "                                </p>\n",
       "<a href=\"https://youtube-rank.com/board/bbs/board.php?bo_table=youtube&amp;wr_id=3203\">\n",
       "\t\t\t\t\t\t\t\t\n",
       "\t\t\t\t\t\t\t\tBLACKPINK\t\t\t\t\t\t\t</a>\n",
       "<span>\n",
       "<i class=\"fa fa-comment\"></i>\n",
       "\t\t\t\t\t\t\t\t1\t\t\t\t\t\t\t</span>\n",
       "<i aria-hidden=\"true\" class=\"fa fa-heart\"></i> </h1>\n",
       "<h2><span><a href=\"https://youtube-rank.com/board/bbs/board.php?bo_table=youtube&amp;wr_id=3203\">\"YG Entertainment\" YG 와이지 K-pop BLACKPINK 블랙핑크 블핑 제니 로제 리사 지수 Lisa Jisoo Jennie ...</a></span></h2>\n",
       "<h3>\n",
       "<i class=\"fa fa-user\"></i>\n",
       "                            6240만<i class=\"fa fa-play\"></i>182억0966만                            <i class=\"fa fa-video-camera\"></i>\n",
       "                            359                            <i class=\"fa fa-eye\"></i>\n",
       "                            13,282                        </h3>\n",
       "</td>\n",
       "<td class=\"subscriber_cnt\">6240만</td>\n",
       "<td class=\"view_cnt\">182억0966만</td>\n",
       "<td class=\"video_cnt\">359개</td>\n",
       "<td class=\"hit\">\n",
       "<strong>13,282</strong>\n",
       "<span>HIT</span>\n",
       "</td>\n",
       "</tr>"
      ]
     },
     "execution_count": 7,
     "metadata": {},
     "output_type": "execute_result"
    }
   ],
   "source": [
    "contents = soup.select('tr.aos-init')\n",
    "print(type(contents))\n",
    "contents[0]"
   ]
  },
  {
   "cell_type": "code",
   "execution_count": 8,
   "id": "11de7802",
   "metadata": {
    "collapsed": true
   },
   "outputs": [
    {
     "data": {
      "text/plain": [
       "<tr class=\"aos-init aos-animate\" data-aos=\"fade-up\" data-aos-duration=\"800\">\n",
       "<td class=\"rank\">\n",
       "                        1                    </td>\n",
       "<td class=\"td_img\">\n",
       "<div class=\"info_img\"><a href=\"https://youtube-rank.com/board/bbs/board.php?bo_table=youtube&amp;wr_id=3203\"><img class=\"lazyload\" data-src=\"https://yt3.ggpht.com/ytc/AKedOLTat8_vr7h2i29n67lvNLMp1F-9Ch2ejFRlRzt0zQ=s88-c-k-c0x00ffffff-no-rj-mo\" height=\"88\" src=\"https://yt3.ggpht.com/ytc/AKedOLTat8_vr7h2i29n67lvNLMp1F-9Ch2ejFRlRzt0zQ=s88-c-k-c0x00ffffff-no-rj-mo\" width=\"88\"/></a></div>\n",
       "<p class=\"info_rank\">1</p>\n",
       "</td>\n",
       "<td class=\"subject\">\n",
       "<h1>\n",
       "<p <a=\"\" class=\"category\" href=\"https://youtube-rank.com/board/bbs/board.php?bo_table=youtube&amp;sca=%EC%9D%8C%EC%95%85%2F%EB%8C%84%EC%8A%A4%2F%EA%B0%80%EC%88%98\">[음악/댄스/가수]\n",
       "                                \n",
       "                                </p>\n",
       "<a href=\"https://youtube-rank.com/board/bbs/board.php?bo_table=youtube&amp;wr_id=3203\">\n",
       "\t\t\t\t\t\t\t\t\n",
       "\t\t\t\t\t\t\t\tBLACKPINK\t\t\t\t\t\t\t</a>\n",
       "<span>\n",
       "<i class=\"fa fa-comment\"></i>\n",
       "\t\t\t\t\t\t\t\t1\t\t\t\t\t\t\t</span>\n",
       "<i aria-hidden=\"true\" class=\"fa fa-heart\"></i> </h1>\n",
       "<h2><span><a href=\"https://youtube-rank.com/board/bbs/board.php?bo_table=youtube&amp;wr_id=3203\">\"YG Entertainment\" YG 와이지 K-pop BLACKPINK 블랙핑크 블핑 제니 로제 리사 지수 Lisa Jisoo Jennie ...</a></span></h2>\n",
       "<h3>\n",
       "<i class=\"fa fa-user\"></i>\n",
       "                            6240만<i class=\"fa fa-play\"></i>182억0966만                            <i class=\"fa fa-video-camera\"></i>\n",
       "                            359                            <i class=\"fa fa-eye\"></i>\n",
       "                            13,282                        </h3>\n",
       "</td>\n",
       "<td class=\"subscriber_cnt\">6240만</td>\n",
       "<td class=\"view_cnt\">182억0966만</td>\n",
       "<td class=\"video_cnt\">359개</td>\n",
       "<td class=\"hit\">\n",
       "<strong>13,282</strong>\n",
       "<span>HIT</span>\n",
       "</td>\n",
       "</tr>"
      ]
     },
     "execution_count": 8,
     "metadata": {},
     "output_type": "execute_result"
    }
   ],
   "source": [
    "content = contents[0]\n",
    "content"
   ]
  },
  {
   "cell_type": "code",
   "execution_count": 9,
   "id": "140b855a",
   "metadata": {
    "collapsed": true
   },
   "outputs": [
    {
     "data": {
      "text/plain": [
       "<p <a=\"\" class=\"category\" href=\"https://youtube-rank.com/board/bbs/board.php?bo_table=youtube&amp;sca=%EC%9D%8C%EC%95%85%2F%EB%8C%84%EC%8A%A4%2F%EA%B0%80%EC%88%98\">[음악/댄스/가수]\n",
       "                                \n",
       "                                </p>"
      ]
     },
     "execution_count": 9,
     "metadata": {},
     "output_type": "execute_result"
    }
   ],
   "source": [
    "category = content.select('p.category')[0]\n",
    "category"
   ]
  },
  {
   "cell_type": "code",
   "execution_count": 10,
   "id": "c4ed4d5b",
   "metadata": {
    "collapsed": true
   },
   "outputs": [
    {
     "data": {
      "text/plain": [
       "<a href=\"https://youtube-rank.com/board/bbs/board.php?bo_table=youtube&amp;wr_id=3203\">\n",
       "\t\t\t\t\t\t\t\t\n",
       "\t\t\t\t\t\t\t\tBLACKPINK\t\t\t\t\t\t\t</a>"
      ]
     },
     "execution_count": 10,
     "metadata": {},
     "output_type": "execute_result"
    }
   ],
   "source": [
    "title = content.select('h1 > a[href*=\"board\"]')[0]\n",
    "title"
   ]
  },
  {
   "cell_type": "code",
   "execution_count": 11,
   "id": "a5da1581",
   "metadata": {},
   "outputs": [
    {
     "data": {
      "text/plain": [
       "('[음악/댄스/가수]', 'BLACKPINK')"
      ]
     },
     "execution_count": 11,
     "metadata": {},
     "output_type": "execute_result"
    }
   ],
   "source": [
    "category.text.strip(), title.text.strip()"
   ]
  },
  {
   "cell_type": "code",
   "execution_count": 12,
   "id": "c66b8bdb",
   "metadata": {
    "collapsed": true
   },
   "outputs": [
    {
     "name": "stdout",
     "output_type": "stream",
     "text": [
      "[음악/댄스/가수] BLACKPINK\n",
      "[음악/댄스/가수] HYBE LABELS\n",
      "[음악/댄스/가수] BANGTANTV\n",
      "[음악/댄스/가수] SMTOWN\n",
      "[키즈/어린이] Boram Tube Vlog [보람튜브 브이로그]\n",
      "[음악/댄스/가수] 1MILLION Dance Studio\n",
      "[음악/댄스/가수] 1theK (원더케이)\n",
      "[음악/댄스/가수] JYP Entertainment\n",
      "[음악/댄스/가수] Mnet K-POP\n",
      "[음악/댄스/가수] JFlaMusic\n",
      "[TV/방송] KBS WORLD TV\n",
      "[음악/댄스/가수] officialpsy\n",
      "[음악/댄스/가수] BIGBANG\n",
      "[음식/요리/레시피] Jane ASMR 제인\n",
      "[음악/댄스/가수] TWICE\n",
      "[키즈/어린이] Nao FunFun\n",
      "[음악/댄스/가수] Stone Music Entertainment\n",
      "[키즈/어린이] DuDuPopTOY\n",
      "[TV/방송] MBCkpop\n",
      "[키즈/어린이] 서은이야기[SeoeunStory]\n",
      "[키즈/어린이] 핑크퐁 (인기 동요・동화)\n",
      "[키즈/어린이] Larva TUBA\n",
      "[키즈/어린이] Toymong tv 토이몽TV\n",
      "[음식/요리/레시피] Hongyu ASMR 홍유\n",
      "[미분류] The Late Show with Stephen Colbert\n",
      "[뉴스/정치/사회] MBCentertainment\n",
      "[음악/댄스/가수] Mnet Official\n",
      "[음악/댄스/가수] iKON\n",
      "[음악/댄스/가수] EXO\n",
      "[미분류] Nintendo\n",
      "[키즈/어린이] MariAndKids\n",
      "[TV/방송] M2\n",
      "[키즈/어린이] SonicToy소닉토이\n",
      "[음식/요리/레시피] [햄지]Hamzy\n",
      "[음악/댄스/가수] TOMORROW X TOGETHER OFFICIAL\n",
      "[해외] Serie A\n",
      "[뉴스/정치/사회] JTBC Entertainment\n",
      "[음악/댄스/가수] Sungha Jung\n",
      "[음식/요리/레시피] Travel Thirsty\n",
      "[음악/댄스/가수] SEVENTEEN\n",
      "[음악/댄스/가수] Stray Kids\n",
      "[음악/댄스/가수] ALL THE K-POP\n",
      "[음악/댄스/가수] YG ENTERTAINMENT\n",
      "[음악/댄스/가수] 이지금 [IU Official]\n",
      "[TV/방송] KBS Kpop\n",
      "[음식/요리/레시피] 문복희 Eat with Boki\n",
      "[음악/댄스/가수] GOT7\n",
      "[음악/댄스/가수] MAMAMOO\n",
      "[음식/요리/레시피] 쏘영 Ssoyoung\n",
      "[패션/미용] PONY Syndrome\n",
      "[TV/방송] tvN DRAMA\n",
      "[TV/방송] 스브스케이팝 / SBS KPOP\n",
      "[회사/오피셜] Samsung\n",
      "[TV/방송] SBS Entertainment\n",
      "[키즈/어린이] 스위트티비 SweetTV\n",
      "[TV/방송] SBS Drama\n",
      "[음악/댄스/가수] ITZY\n",
      "[음악/댄스/가수] 2NE1\n",
      "[키즈/어린이] [장난감티비]TOYTV\n",
      "[키즈/어린이] 미니특공대TV\n",
      "[키즈/어린이] 콩순이 • 시크릿 쥬쥬 [Kongsuni • Secret Jouju]\n",
      "[BJ/인물/연예인] [Awesome Haeun]어썸하은\n",
      "[음식/요리/레시피] 백종원의 요리비책 Paik's Cuisine\n",
      "[키즈/어린이] ToyMart TV\n",
      "[음악/댄스/가수] starshipTV\n",
      "[키즈/어린이] 베이비버스 -인기 동요・동화\n",
      "[음악/댄스/가수] BT21\n",
      "[뉴스/정치/사회] SBS NOW / SBS 공식 채널\n",
      "[키즈/어린이] TOY GUMA\n",
      "[TV/방송] KBS Entertain\n",
      "[음식/요리/레시피] 떵개떵\n",
      "[음식/요리/레시피] 야미보이 Yummyboy\n",
      "[키즈/어린이] 뽀로로(Pororo)\n",
      "[음식/요리/레시피] 하루한끼 one meal a day\n",
      "[TV/방송] MBCdrama\n",
      "[음악/댄스/가수] ASTRO 아스트로\n",
      "[음악/댄스/가수] Raon Lee\n",
      "[키즈/어린이] 슈슈토이 Shushu ToysReview\n",
      "[음식/요리/레시피] [Dorothy]도로시\n",
      "[음악/댄스/가수] Red Velvet\n",
      "[TV/방송] 채널 NCT DAILY\n",
      "[음악/댄스/가수] TREASURE (트레저)\n",
      "[음식/요리/레시피] 푸메Fume\n",
      "[음식/요리/레시피] Cooking tree 쿠킹트리\n",
      "[애완/반려동물] SBS TV동물농장x애니멀봐\n",
      "[키즈/어린이] With Kids Playground [위드키즈 놀이터]\n",
      "[키즈/어린이] 로미유 스토리[Romiyu Story]\n",
      "[TV/방송] JTBC Drama\n",
      "[음식/요리/레시피] 까니짱 [ G-NI ]\n",
      "[키즈/어린이] Evan Kids\n",
      "[BJ/인물/연예인] 영국남자 Korean Englishman\n",
      "[음악/댄스/가수] NCT\n",
      "[애완/반려동물] 크림히어로즈\n",
      "[BJ/인물/연예인] 허팝Heopop\n",
      "[BJ/인물/연예인] 워크맨-Workman\n",
      "[BJ/인물/연예인] waveya 2011\n",
      "[키즈/어린이] Lime Tube[라임튜브]\n",
      "[취미/라이프] JaeYeol ASMR 재열\n",
      "[음악/댄스/가수] WINNER\n",
      "[키즈/어린이] Milana FamilyShow[EN]\n"
     ]
    },
    {
     "data": {
      "text/plain": [
       "[['[음악/댄스/가수]', 'BLACKPINK'],\n",
       " ['[음악/댄스/가수]', 'HYBE LABELS'],\n",
       " ['[음악/댄스/가수]', 'BANGTANTV'],\n",
       " ['[음악/댄스/가수]', 'SMTOWN'],\n",
       " ['[키즈/어린이]', 'Boram Tube Vlog [보람튜브 브이로그]'],\n",
       " ['[음악/댄스/가수]', '1MILLION Dance Studio'],\n",
       " ['[음악/댄스/가수]', '1theK (원더케이)'],\n",
       " ['[음악/댄스/가수]', 'JYP Entertainment'],\n",
       " ['[음악/댄스/가수]', 'Mnet K-POP'],\n",
       " ['[음악/댄스/가수]', 'JFlaMusic'],\n",
       " ['[TV/방송]', 'KBS WORLD TV'],\n",
       " ['[음악/댄스/가수]', 'officialpsy'],\n",
       " ['[음악/댄스/가수]', 'BIGBANG'],\n",
       " ['[음식/요리/레시피]', 'Jane ASMR 제인'],\n",
       " ['[음악/댄스/가수]', 'TWICE'],\n",
       " ['[키즈/어린이]', 'Nao FunFun'],\n",
       " ['[음악/댄스/가수]', 'Stone Music Entertainment'],\n",
       " ['[키즈/어린이]', 'DuDuPopTOY'],\n",
       " ['[TV/방송]', 'MBCkpop'],\n",
       " ['[키즈/어린이]', '서은이야기[SeoeunStory]'],\n",
       " ['[키즈/어린이]', '핑크퐁 (인기 동요・동화)'],\n",
       " ['[키즈/어린이]', 'Larva TUBA'],\n",
       " ['[키즈/어린이]', 'Toymong tv 토이몽TV'],\n",
       " ['[음식/요리/레시피]', 'Hongyu ASMR 홍유'],\n",
       " ['[미분류]', 'The Late Show with Stephen Colbert'],\n",
       " ['[뉴스/정치/사회]', 'MBCentertainment'],\n",
       " ['[음악/댄스/가수]', 'Mnet Official'],\n",
       " ['[음악/댄스/가수]', 'iKON'],\n",
       " ['[음악/댄스/가수]', 'EXO'],\n",
       " ['[미분류]', 'Nintendo'],\n",
       " ['[키즈/어린이]', 'MariAndKids'],\n",
       " ['[TV/방송]', 'M2'],\n",
       " ['[키즈/어린이]', 'SonicToy소닉토이'],\n",
       " ['[음식/요리/레시피]', '[햄지]Hamzy'],\n",
       " ['[음악/댄스/가수]', 'TOMORROW X TOGETHER OFFICIAL'],\n",
       " ['[해외]', 'Serie A'],\n",
       " ['[뉴스/정치/사회]', 'JTBC Entertainment'],\n",
       " ['[음악/댄스/가수]', 'Sungha Jung'],\n",
       " ['[음식/요리/레시피]', 'Travel Thirsty'],\n",
       " ['[음악/댄스/가수]', 'SEVENTEEN'],\n",
       " ['[음악/댄스/가수]', 'Stray Kids'],\n",
       " ['[음악/댄스/가수]', 'ALL THE K-POP'],\n",
       " ['[음악/댄스/가수]', 'YG ENTERTAINMENT'],\n",
       " ['[음악/댄스/가수]', '이지금 [IU Official]'],\n",
       " ['[TV/방송]', 'KBS Kpop'],\n",
       " ['[음식/요리/레시피]', '문복희 Eat with Boki'],\n",
       " ['[음악/댄스/가수]', 'GOT7'],\n",
       " ['[음악/댄스/가수]', 'MAMAMOO'],\n",
       " ['[음식/요리/레시피]', '쏘영 Ssoyoung'],\n",
       " ['[패션/미용]', 'PONY Syndrome'],\n",
       " ['[TV/방송]', 'tvN DRAMA'],\n",
       " ['[TV/방송]', '스브스케이팝 / SBS KPOP'],\n",
       " ['[회사/오피셜]', 'Samsung'],\n",
       " ['[TV/방송]', 'SBS Entertainment'],\n",
       " ['[키즈/어린이]', '스위트티비 SweetTV'],\n",
       " ['[TV/방송]', 'SBS Drama'],\n",
       " ['[음악/댄스/가수]', 'ITZY'],\n",
       " ['[음악/댄스/가수]', '2NE1'],\n",
       " ['[키즈/어린이]', '[장난감티비]TOYTV'],\n",
       " ['[키즈/어린이]', '미니특공대TV'],\n",
       " ['[키즈/어린이]', '콩순이 • 시크릿 쥬쥬 [Kongsuni • Secret Jouju]'],\n",
       " ['[BJ/인물/연예인]', '[Awesome Haeun]어썸하은'],\n",
       " ['[음식/요리/레시피]', \"백종원의 요리비책 Paik's Cuisine\"],\n",
       " ['[키즈/어린이]', 'ToyMart TV'],\n",
       " ['[음악/댄스/가수]', 'starshipTV'],\n",
       " ['[키즈/어린이]', '베이비버스 -인기 동요・동화'],\n",
       " ['[음악/댄스/가수]', 'BT21'],\n",
       " ['[뉴스/정치/사회]', 'SBS NOW / SBS 공식 채널'],\n",
       " ['[키즈/어린이]', 'TOY GUMA'],\n",
       " ['[TV/방송]', 'KBS Entertain'],\n",
       " ['[음식/요리/레시피]', '떵개떵'],\n",
       " ['[음식/요리/레시피]', '야미보이 Yummyboy'],\n",
       " ['[키즈/어린이]', '뽀로로(Pororo)'],\n",
       " ['[음식/요리/레시피]', '하루한끼 one meal a day'],\n",
       " ['[TV/방송]', 'MBCdrama'],\n",
       " ['[음악/댄스/가수]', 'ASTRO 아스트로'],\n",
       " ['[음악/댄스/가수]', 'Raon Lee'],\n",
       " ['[키즈/어린이]', '슈슈토이 Shushu ToysReview'],\n",
       " ['[음식/요리/레시피]', '[Dorothy]도로시'],\n",
       " ['[음악/댄스/가수]', 'Red Velvet'],\n",
       " ['[TV/방송]', '채널 NCT DAILY'],\n",
       " ['[음악/댄스/가수]', 'TREASURE (트레저)'],\n",
       " ['[음식/요리/레시피]', '푸메Fume'],\n",
       " ['[음식/요리/레시피]', 'Cooking tree 쿠킹트리'],\n",
       " ['[애완/반려동물]', 'SBS TV동물농장x애니멀봐'],\n",
       " ['[키즈/어린이]', 'With Kids Playground [위드키즈 놀이터]'],\n",
       " ['[키즈/어린이]', '로미유 스토리[Romiyu Story]'],\n",
       " ['[TV/방송]', 'JTBC Drama'],\n",
       " ['[음식/요리/레시피]', '까니짱 [ G-NI ]'],\n",
       " ['[키즈/어린이]', 'Evan Kids'],\n",
       " ['[BJ/인물/연예인]', '영국남자 Korean Englishman'],\n",
       " ['[음악/댄스/가수]', 'NCT'],\n",
       " ['[애완/반려동물]', '크림히어로즈'],\n",
       " ['[BJ/인물/연예인]', '허팝Heopop'],\n",
       " ['[BJ/인물/연예인]', '워크맨-Workman'],\n",
       " ['[BJ/인물/연예인]', 'waveya 2011'],\n",
       " ['[키즈/어린이]', 'Lime Tube[라임튜브]'],\n",
       " ['[취미/라이프]', 'JaeYeol ASMR 재열'],\n",
       " ['[음악/댄스/가수]', 'WINNER'],\n",
       " ['[키즈/어린이]', 'Milana FamilyShow[EN]']]"
      ]
     },
     "execution_count": 12,
     "metadata": {},
     "output_type": "execute_result"
    }
   ],
   "source": [
    "songs = [] # or list()\n",
    "for content in contents:\n",
    "    category = content.select('p.category')[0]\n",
    "    title = content.select('h1 > a[href*=\"board\"]')[0]\n",
    "    print(category.text.strip(), title.text.strip())\n",
    "    songs.append([category.text.strip(), title.text.strip()])\n",
    "songs"
   ]
  },
  {
   "cell_type": "code",
   "execution_count": 13,
   "id": "4b6fe70b",
   "metadata": {},
   "outputs": [],
   "source": [
    "import pandas as pd"
   ]
  },
  {
   "cell_type": "code",
   "execution_count": 14,
   "id": "3e7feb30",
   "metadata": {},
   "outputs": [],
   "source": [
    "pd_data = pd.DataFrame(songs)\n",
    "pd_data.to_excel('./datas/saves/youtuberank.xls')"
   ]
  },
  {
   "cell_type": "markdown",
   "id": "d23923bc",
   "metadata": {},
   "source": [
    "## pagenation"
   ]
  },
  {
   "cell_type": "code",
   "execution_count": 20,
   "id": "d520e014",
   "metadata": {},
   "outputs": [
    {
     "name": "stdout",
     "output_type": "stream",
     "text": [
      "https://youtube-rank.com/board/bbs/board.php?bo_table=youtube&page=1\n",
      "https://youtube-rank.com/board/bbs/board.php?bo_table=youtube&page=2\n",
      "https://youtube-rank.com/board/bbs/board.php?bo_table=youtube&page=3\n",
      "https://youtube-rank.com/board/bbs/board.php?bo_table=youtube&page=4\n",
      "https://youtube-rank.com/board/bbs/board.php?bo_table=youtube&page=5\n",
      "https://youtube-rank.com/board/bbs/board.php?bo_table=youtube&page=6\n",
      "https://youtube-rank.com/board/bbs/board.php?bo_table=youtube&page=7\n",
      "https://youtube-rank.com/board/bbs/board.php?bo_table=youtube&page=8\n",
      "https://youtube-rank.com/board/bbs/board.php?bo_table=youtube&page=9\n",
      "https://youtube-rank.com/board/bbs/board.php?bo_table=youtube&page=10\n"
     ]
    },
    {
     "data": {
      "text/plain": [
       "1000"
      ]
     },
     "execution_count": 20,
     "metadata": {},
     "output_type": "execute_result"
    }
   ],
   "source": [
    "uri = 'https://youtube-rank.com/board/bbs/board.php?bo_table=youtube&page='\n",
    "# uri = f\"https://youtube-rank.com/board/bbs/board.php?bo_table=youtube&page={page}\" \n",
    " \n",
    "songs = [] # or list()\n",
    "\n",
    "for page in range(1,11):\n",
    "    target = uri+str(page)\n",
    "    print(target)\n",
    "    browser.get(target)\n",
    "#     browser.get(uri)\n",
    "    html = browser.page_source\n",
    "    soup = BeautifulSoup(html, 'html.parser')\n",
    "    contents = soup.select('tr.aos-init')\n",
    "\n",
    "    for content in contents:\n",
    "        category = content.select('p.category')[0]\n",
    "        title = content.select('h1 > a[href*=\"board\"]')[0]\n",
    "        songs.append([category.text.strip(), title.text.strip()])\n",
    "        \n",
    "len(songs)\n",
    "    "
   ]
  },
  {
   "cell_type": "code",
   "execution_count": 21,
   "id": "dfa65977",
   "metadata": {},
   "outputs": [],
   "source": [
    "pd_data = pd.DataFrame(songs)\n",
    "pd_data.to_excel('./datas/saves/youtuberankwithpage.xls')"
   ]
  },
  {
   "cell_type": "code",
   "execution_count": null,
   "id": "792fb07f",
   "metadata": {},
   "outputs": [],
   "source": []
  }
 ],
 "metadata": {
  "kernelspec": {
   "display_name": "Python 3",
   "language": "python",
   "name": "python3"
  },
  "language_info": {
   "codemirror_mode": {
    "name": "ipython",
    "version": 3
   },
   "file_extension": ".py",
   "mimetype": "text/x-python",
   "name": "python",
   "nbconvert_exporter": "python",
   "pygments_lexer": "ipython3",
   "version": "3.6.4"
  }
 },
 "nbformat": 4,
 "nbformat_minor": 5
}
