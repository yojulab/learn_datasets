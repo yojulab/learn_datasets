{
 "cells": [
  {
   "cell_type": "code",
   "execution_count": 2,
   "metadata": {
    "colab": {
     "base_uri": "https://localhost:8080/",
     "height": 119
    },
    "colab_type": "code",
    "executionInfo": {
     "elapsed": 5453,
     "status": "ok",
     "timestamp": 1596788833140,
     "user": {
      "displayName": "sanghun oh",
      "photoUrl": "https://lh3.googleusercontent.com/a-/AOh14Ghlx86owSfLI1ysBzewc-4sBRVA0uQ32rdNEjLr1Q=s64",
      "userId": "06412681606171338922"
     },
     "user_tz": -540
    },
    "id": "ConRh42NB8Po",
    "outputId": "b0f20f16-a825-48fe-ce72-3ace7954d44d"
   },
   "outputs": [
    {
     "name": "stdout",
     "output_type": "stream",
     "text": [
      "Collecting selenium\n",
      "\u001b[?25l  Downloading https://files.pythonhosted.org/packages/80/d6/4294f0b4bce4de0abf13e17190289f9d0613b0a44e5dd6a7f5ca98459853/selenium-3.141.0-py2.py3-none-any.whl (904kB)\n",
      "\u001b[K     |████████████████████████████████| 911kB 2.8MB/s \n",
      "\u001b[?25hRequirement already satisfied: urllib3 in /usr/local/lib/python3.6/dist-packages (from selenium) (1.24.3)\n",
      "Installing collected packages: selenium\n",
      "Successfully installed selenium-3.141.0\n"
     ]
    }
   ],
   "source": [
    "pip install selenium"
   ]
  },
  {
   "cell_type": "code",
   "execution_count": 3,
   "metadata": {
    "colab": {},
    "colab_type": "code",
    "executionInfo": {
     "elapsed": 612,
     "status": "ok",
     "timestamp": 1596788855105,
     "user": {
      "displayName": "sanghun oh",
      "photoUrl": "https://lh3.googleusercontent.com/a-/AOh14Ghlx86owSfLI1ysBzewc-4sBRVA0uQ32rdNEjLr1Q=s64",
      "userId": "06412681606171338922"
     },
     "user_tz": -540
    },
    "id": "Z7ev3fjEB2Ji"
   },
   "outputs": [],
   "source": [
    "import time\n",
    "import requests\n",
    "from bs4 import BeautifulSoup\n",
    "from selenium import webdriver"
   ]
  },
  {
   "cell_type": "code",
   "execution_count": null,
   "metadata": {
    "colab": {},
    "colab_type": "code",
    "id": "j9ga127_Bc1o"
   },
   "outputs": [],
   "source": [
    "chrome_options = webdriver.ChromeOptions()\n",
    "chrome_options.add_argument(\"--no-sandbox\")\n",
    "chrome_options.add_argument('--disable-dev-shm-usage')\n",
    "chrome_options.add_argument('--headless')\n",
    "\n",
    "path = \"/home/sundooedu/Downloads/chromedriver_linux64/chromedriver\"\n",
    "driver = webdriver.Chrome(path, chrome_options=chrome_options)\n",
    "loginUrl = 'https://www.instagram.com/accounts/login/?next=%2Fofficial_sunmi%2F&source=desktop_nav'\n",
    "driver.implicitly_wait(5)\n",
    "driver.get(loginUrl)\n",
    "\n",
    "# 로그인\n",
    "username = 'sd_testid'\n",
    "userpw = 'project'\n",
    "driver.find_element_by_name('username').send_keys(username)\n",
    "driver.find_element_by_name('password').send_keys(userpw)\n",
    "driver.implicitly_wait(5)\n",
    "driver.find_element_by_xpath('//*[@id=\"react-root\"]/section/main/div/article/div/\\\n",
    "   div[1]/div/form/div[4]/button').submit()\n",
    "later = driver.find_element_by_css_selector('body > div#react-root > section > main > div > div > div > div > button')\n",
    "later.click()\n",
    "\n",
    "# 첫번째 게시물\n",
    "def select_first(driver):\n",
    "   first = driver.find_element_by_css_selector('body > div#react-root > section > main > div > div._2z6nI > article > div:nth-child(1) > div > div:nth-child(1) > div:nth-child(1) > a')\n",
    "   first.click()\n",
    "   time.sleep(3)\n",
    "\n",
    "select_first(driver)\n",
    "\n",
    "# 댓글 크롤링\n",
    "source = driver.page_source\n",
    "soup = BeautifulSoup(source, 'html.parser')\n",
    "links = soup.find_all('div',class_='C4VMK')\n",
    "\n",
    "reply=str()\n",
    "for link in links:\n",
    "   for replys in link.find_all('span'):\n",
    "       reply = str.strip(replys.get_text())\n",
    "       print(reply)\n"
   ]
  }
 ],
 "metadata": {
  "colab": {
   "authorship_tag": "ABX9TyM4EEOpxsr5hM7F5x9X/+GG",
   "collapsed_sections": [],
   "name": "selenium.ipynb",
   "provenance": []
  },
  "kernelspec": {
   "display_name": "Python 3 (ipykernel)",
   "language": "python",
   "name": "python3"
  },
  "language_info": {
   "codemirror_mode": {
    "name": "ipython",
    "version": 3
   },
   "file_extension": ".py",
   "mimetype": "text/x-python",
   "name": "python",
   "nbconvert_exporter": "python",
   "pygments_lexer": "ipython3",
   "version": "3.9.9"
  }
 },
 "nbformat": 4,
 "nbformat_minor": 1
}
