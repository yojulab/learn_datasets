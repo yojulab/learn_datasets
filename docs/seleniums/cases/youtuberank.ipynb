{
 "cells": [
  {
   "cell_type": "code",
   "execution_count": 1,
   "id": "7236cae9",
   "metadata": {},
   "outputs": [],
   "source": [
    "from selenium import webdriver"
   ]
  },
  {
   "cell_type": "code",
   "execution_count": 3,
   "id": "2dafad3e",
   "metadata": {},
   "outputs": [],
   "source": [
    "browser = webdriver.Chrome('./chromedriver.exe')"
   ]
  },
  {
   "cell_type": "code",
   "execution_count": 4,
   "id": "90ad1938",
   "metadata": {},
   "outputs": [],
   "source": [
    "browser.get('https://youtube-rank.com/board/bbs/board.php?bo_table=youtube')"
   ]
  },
  {
   "cell_type": "code",
   "execution_count": null,
   "id": "890e4b69",
   "metadata": {
    "collapsed": true
   },
   "outputs": [],
   "source": [
    "html = browser.page_source\n",
    "# html"
   ]
  },
  {
   "cell_type": "code",
   "execution_count": 7,
   "id": "3d66cafd",
   "metadata": {},
   "outputs": [],
   "source": [
    "from bs4 import BeautifulSoup"
   ]
  },
  {
   "cell_type": "code",
   "execution_count": 8,
   "id": "1eab6c2b",
   "metadata": {},
   "outputs": [],
   "source": [
    "soup = BeautifulSoup(html, 'html.parser')"
   ]
  },
  {
   "cell_type": "code",
   "execution_count": null,
   "id": "77273323",
   "metadata": {
    "collapsed": true
   },
   "outputs": [],
   "source": [
    "contents = soup.select('tr.aos-init')\n",
    "print(type(contents))\n",
    "# contents[0]"
   ]
  },
  {
   "cell_type": "code",
   "execution_count": null,
   "id": "11de7802",
   "metadata": {
    "collapsed": true
   },
   "outputs": [],
   "source": [
    "content = contents[0]\n",
    "# content"
   ]
  },
  {
   "cell_type": "code",
   "execution_count": 14,
   "id": "140b855a",
   "metadata": {},
   "outputs": [
    {
     "data": {
      "text/plain": [
       "<p <a=\"\" class=\"category\" href=\"https://youtube-rank.com/board/bbs/board.php?bo_table=youtube&amp;sca=%EC%9D%8C%EC%95%85%2F%EB%8C%84%EC%8A%A4%2F%EA%B0%80%EC%88%98\">[음악/댄스/가수]\n",
       "                                \n",
       "                                </p>"
      ]
     },
     "execution_count": 14,
     "metadata": {},
     "output_type": "execute_result"
    }
   ],
   "source": [
    "category = content.select('p.category')[0]\n",
    "category"
   ]
  },
  {
   "cell_type": "code",
   "execution_count": 15,
   "id": "c4ed4d5b",
   "metadata": {},
   "outputs": [
    {
     "data": {
      "text/plain": [
       "<a href=\"https://youtube-rank.com/board/bbs/board.php?bo_table=youtube&amp;wr_id=3203\">\n",
       "\t\t\t\t\t\t\t\t\n",
       "\t\t\t\t\t\t\t\tBLACKPINK\t\t\t\t\t\t\t</a>"
      ]
     },
     "execution_count": 15,
     "metadata": {},
     "output_type": "execute_result"
    }
   ],
   "source": [
    "title = content.select('h1 > a[href*=\"board\"]')[0]\n",
    "title"
   ]
  },
  {
   "cell_type": "code",
   "execution_count": 17,
   "id": "a5da1581",
   "metadata": {},
   "outputs": [
    {
     "data": {
      "text/plain": [
       "('[음악/댄스/가수]', 'BLACKPINK')"
      ]
     },
     "execution_count": 17,
     "metadata": {},
     "output_type": "execute_result"
    }
   ],
   "source": [
    "category.text.strip(), title.text.strip()"
   ]
  },
  {
   "cell_type": "code",
   "execution_count": null,
   "id": "c66b8bdb",
   "metadata": {
    "collapsed": true
   },
   "outputs": [],
   "source": [
    "songs = [] # or list()\n",
    "for content in contents:\n",
    "    category = content.select('p.category')[0]\n",
    "    title = content.select('h1 > a[href*=\"board\"]')[0]\n",
    "    print(category.text.strip(), title.text.strip())\n",
    "    songs.append([category.text.strip(), title.text.strip()])\n",
    "# songs"
   ]
  },
  {
   "cell_type": "code",
   "execution_count": 20,
   "id": "4b6fe70b",
   "metadata": {},
   "outputs": [],
   "source": [
    "import pandas as pd"
   ]
  },
  {
   "cell_type": "code",
   "execution_count": 21,
   "id": "3e7feb30",
   "metadata": {},
   "outputs": [],
   "source": [
    "pd_data = pd.DataFrame(songs)\n",
    "pd_data.to_excel('./datas/saves/youtuberank.xls')"
   ]
  }
 ],
 "metadata": {
  "kernelspec": {
   "display_name": "Python 3",
   "language": "python",
   "name": "python3"
  },
  "language_info": {
   "codemirror_mode": {
    "name": "ipython",
    "version": 3
   },
   "file_extension": ".py",
   "mimetype": "text/x-python",
   "name": "python",
   "nbconvert_exporter": "python",
   "pygments_lexer": "ipython3",
   "version": "3.6.4"
  }
 },
 "nbformat": 4,
 "nbformat_minor": 5
}
