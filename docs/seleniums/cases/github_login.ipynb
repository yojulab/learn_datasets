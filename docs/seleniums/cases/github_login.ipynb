{
 "cells": [
  {
   "cell_type": "code",
   "execution_count": 1,
   "id": "2ae8fd62",
   "metadata": {},
   "outputs": [],
   "source": [
    "from selenium import webdriver"
   ]
  },
  {
   "cell_type": "code",
   "execution_count": 2,
   "id": "49091f2a",
   "metadata": {},
   "outputs": [],
   "source": [
    "brawser = webdriver.Chrome('./chromedriver.exe')"
   ]
  },
  {
   "cell_type": "code",
   "execution_count": 3,
   "id": "3ab4d3fe",
   "metadata": {},
   "outputs": [],
   "source": [
    "brawser.get('https://github.com/login')"
   ]
  },
  {
   "cell_type": "markdown",
   "id": "35ac76b3",
   "metadata": {},
   "source": [
    "id : input#login_field, password : input#password, button : a.label-link"
   ]
  },
  {
   "cell_type": "code",
   "execution_count": 4,
   "id": "f77f9dce",
   "metadata": {},
   "outputs": [],
   "source": [
    "brawser.find_elements_by_css_selector('input#login_field')[0].send_keys('otter.35@gmail.com')"
   ]
  },
  {
   "cell_type": "code",
   "execution_count": 5,
   "id": "551bcc73",
   "metadata": {},
   "outputs": [],
   "source": [
    "brawser.find_elements_by_css_selector('input#password')[0].send_keys('abcd')\n",
    "\n",
    "brawser.find_elements_by_css_selector('input[type=\"submit\"]')[0].click()"
   ]
  },
  {
   "cell_type": "code",
   "execution_count": 6,
   "id": "ec2ac3de",
   "metadata": {},
   "outputs": [],
   "source": [
    "brawser.get('https://github.com/SanghunOh/learn_MachineLearning')"
   ]
  },
  {
   "cell_type": "code",
   "execution_count": 7,
   "id": "f71aee6e",
   "metadata": {},
   "outputs": [],
   "source": [
    "from bs4 import BeautifulSoup"
   ]
  },
  {
   "cell_type": "code",
   "execution_count": null,
   "id": "0b8813a4",
   "metadata": {
    "collapsed": true
   },
   "outputs": [],
   "source": [
    "html = BeautifulSoup(brawser.page_source, 'html.parser')\n",
    "html"
   ]
  },
  {
   "cell_type": "code",
   "execution_count": 11,
   "id": "0eba6983",
   "metadata": {},
   "outputs": [
    {
     "data": {
      "text/plain": [
       "(bs4.element.ResultSet, 8)"
      ]
     },
     "execution_count": 11,
     "metadata": {},
     "output_type": "execute_result"
    }
   ],
   "source": [
    "tags = html.select('div[role=\"row\"].Box-row')\n",
    "type(tags), len(tags)"
   ]
  },
  {
   "cell_type": "code",
   "execution_count": null,
   "id": "5a77d363",
   "metadata": {},
   "outputs": [],
   "source": []
  }
 ],
 "metadata": {
  "kernelspec": {
   "display_name": "Python 3",
   "language": "python",
   "name": "python3"
  },
  "language_info": {
   "codemirror_mode": {
    "name": "ipython",
    "version": 3
   },
   "file_extension": ".py",
   "mimetype": "text/x-python",
   "name": "python",
   "nbconvert_exporter": "python",
   "pygments_lexer": "ipython3",
   "version": "3.6.4"
  }
 },
 "nbformat": 4,
 "nbformat_minor": 5
}
