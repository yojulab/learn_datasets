{
 "cells": [
  {
   "cell_type": "code",
   "execution_count": 1,
   "id": "e0193e23",
   "metadata": {},
   "outputs": [],
   "source": [
    "from selenium import webdriver"
   ]
  },
  {
   "cell_type": "code",
   "execution_count": 2,
   "id": "44d112c6",
   "metadata": {},
   "outputs": [],
   "source": [
    "# !dir .\\chromedriver.exe"
   ]
  },
  {
   "cell_type": "code",
   "execution_count": 3,
   "id": "c25ed680",
   "metadata": {},
   "outputs": [],
   "source": [
    "browser = webdriver.Chrome('./chromedriver.exe')"
   ]
  },
  {
   "cell_type": "code",
   "execution_count": 4,
   "id": "85ae1279",
   "metadata": {},
   "outputs": [],
   "source": [
    "browser.get('https://www.melon.com/chart/index.htm')"
   ]
  },
  {
   "cell_type": "code",
   "execution_count": 6,
   "id": "a92e17fb",
   "metadata": {},
   "outputs": [],
   "source": [
    "html = browser.page_source"
   ]
  },
  {
   "cell_type": "code",
   "execution_count": 7,
   "id": "6964b52c",
   "metadata": {},
   "outputs": [],
   "source": [
    "from bs4 import BeautifulSoup"
   ]
  },
  {
   "cell_type": "code",
   "execution_count": 9,
   "id": "b35120ce",
   "metadata": {},
   "outputs": [],
   "source": [
    "soup = BeautifulSoup(html, 'html.parser')"
   ]
  },
  {
   "cell_type": "code",
   "execution_count": 10,
   "id": "139d5703",
   "metadata": {},
   "outputs": [],
   "source": [
    "tags = soup.select('span > a')"
   ]
  },
  {
   "cell_type": "code",
   "execution_count": 13,
   "id": "8e4b0a53",
   "metadata": {},
   "outputs": [
    {
     "data": {
      "text/plain": [
       "(211, bs4.element.ResultSet)"
      ]
     },
     "execution_count": 13,
     "metadata": {},
     "output_type": "execute_result"
    }
   ],
   "source": [
    "len(tags), type(tags)"
   ]
  },
  {
   "cell_type": "code",
   "execution_count": 16,
   "id": "e82ef709",
   "metadata": {},
   "outputs": [
    {
     "data": {
      "text/plain": [
       "<a href=\"javascript:melon.play.playSong('19030101',33487342);\" title=\"Next Level 재생\">Next Level</a>"
      ]
     },
     "execution_count": 16,
     "metadata": {},
     "output_type": "execute_result"
    }
   ],
   "source": [
    "tag = tags[0]\n",
    "tag"
   ]
  },
  {
   "cell_type": "code",
   "execution_count": 18,
   "id": "bcb3e091",
   "metadata": {},
   "outputs": [
    {
     "data": {
      "text/plain": [
       "'Next Level'"
      ]
     },
     "execution_count": 18,
     "metadata": {},
     "output_type": "execute_result"
    }
   ],
   "source": [
    "tag.text.strip()"
   ]
  },
  {
   "cell_type": "code",
   "execution_count": 20,
   "id": "65ab0d9f",
   "metadata": {},
   "outputs": [
    {
     "data": {
      "text/plain": [
       "'Next Level 재생'"
      ]
     },
     "execution_count": 20,
     "metadata": {},
     "output_type": "execute_result"
    }
   ],
   "source": [
    "tag['title']"
   ]
  },
  {
   "cell_type": "code",
   "execution_count": 21,
   "id": "8d38f82b",
   "metadata": {
    "collapsed": true
   },
   "outputs": [
    {
     "name": "stdout",
     "output_type": "stream",
     "text": [
      "Next Level Next Level 재생\n",
      "aespa aespa - 페이지 이동\n",
      "Butter Butter 재생\n",
      "방탄소년단 방탄소년단 - 페이지 이동\n",
      "헤픈 우연 헤픈 우연 재생\n",
      "헤이즈 (Heize) 헤이즈 (Heize) - 페이지 이동\n",
      "치맛바람 (Chi Mat Ba Ram) 치맛바람 (Chi Mat Ba Ram) 재생\n",
      "브레이브걸스 브레이브걸스 - 페이지 이동\n",
      "Dun Dun Dance Dun Dun Dance 재생\n",
      "오마이걸 (OH MY GIRL) 오마이걸 (OH MY GIRL) - 페이지 이동\n",
      "Peaches (Feat. Daniel Caesar & Giveon) Peaches (Feat. Daniel Caesar & Giveon) 재생\n",
      "Justin Bieber Justin Bieber - 페이지 이동\n",
      "롤린 (Rollin') 롤린 (Rollin') 재생\n",
      "브레이브걸스 브레이브걸스 - 페이지 이동\n",
      "Alcohol-Free Alcohol-Free 재생\n",
      "TWICE (트와이스) TWICE (트와이스) - 페이지 이동\n",
      "라일락 라일락 재생\n",
      "아이유 아이유 - 페이지 이동\n",
      "ASAP ASAP 재생\n",
      "STAYC(스테이씨) STAYC(스테이씨) - 페이지 이동\n",
      "운전만해 (We Ride) 운전만해 (We Ride) 재생\n",
      "브레이브걸스 브레이브걸스 - 페이지 이동\n",
      "Dynamite Dynamite 재생\n",
      "방탄소년단 방탄소년단 - 페이지 이동\n",
      "Celebrity Celebrity 재생\n",
      "아이유 아이유 - 페이지 이동\n",
      "안녕 (Hello) 안녕 (Hello) 재생\n",
      "조이 (JOY) 조이 (JOY) - 페이지 이동\n",
      "비와 당신 비와 당신 재생\n",
      "이무진 이무진 - 페이지 이동\n",
      "상상더하기 상상더하기 재생\n",
      "MSG워너비 TOP 8 (별루지, 김정수, 강창모, 정기석, 이동휘, 이상이, 박재정, 원슈타인) MSG워너비 TOP 8 (별루지, 김정수, 강창모, 정기석, 이동휘, 이상이, 박재정, 원슈타인) - 페이지 이동\n",
      "상상더하기 상상더하기 재생\n",
      "라붐 (LABOUM) 라붐 (LABOUM) - 페이지 이동\n",
      "사이렌 Remix (Feat. UNEDUCATED KID, Paul Blanco) 사이렌 Remix (Feat. UNEDUCATED KID, Paul Blanco) 재생\n",
      "호미들 호미들 - 페이지 이동\n",
      "Timeless Timeless 재생\n",
      "SG 워너비 SG 워너비 - 페이지 이동\n",
      "내 손을 잡아 내 손을 잡아 재생\n",
      "아이유 아이유 - 페이지 이동\n",
      "멜로디 멜로디 재생\n",
      "ASH ISLAND ASH ISLAND - 페이지 이동\n",
      "밝게 빛나는 별이 되어 비춰줄게 밝게 빛나는 별이 되어 비춰줄게 재생\n",
      "송이한 송이한 - 페이지 이동\n",
      "신호등 신호등 재생\n",
      "이무진 이무진 - 페이지 이동\n",
      "마.피.아. In the morning 마.피.아. In the morning 재생\n",
      "ITZY (있지) ITZY (있지) - 페이지 이동\n",
      "라라라 라라라 재생\n",
      "SG 워너비 SG 워너비 - 페이지 이동\n",
      "LOVE DAY (2021) (바른연애 길잡이 X 양요섭, 정은지) LOVE DAY (2021) (바른연애 길잡이 X 양요섭, 정은지) 재생\n",
      "양요섭 양요섭 - 페이지 이동\n",
      "정은지 정은지 - 페이지 이동\n",
      "밤하늘의 별을(2020) 밤하늘의 별을(2020) 재생\n",
      "경서 경서 - 페이지 이동\n",
      "Savage Love (Laxed - Siren Beat) (BTS Remix) Savage Love (Laxed - Siren Beat) (BTS Remix) 재생\n",
      "Jawsh 685 Jawsh 685 - 페이지 이동\n",
      "Jason Derulo Jason Derulo - 페이지 이동\n",
      "방탄소년단 방탄소년단 - 페이지 이동\n",
      "Lovesick Girls Lovesick Girls 재생\n",
      "BLACKPINK BLACKPINK - 페이지 이동\n",
      "Coin Coin 재생\n",
      "아이유 아이유 - 페이지 이동\n",
      "Dolphin Dolphin 재생\n",
      "오마이걸 (OH MY GIRL) 오마이걸 (OH MY GIRL) - 페이지 이동\n",
      "잠이 오질 않네요 잠이 오질 않네요 재생\n",
      "장범준 장범준 - 페이지 이동\n",
      "내사람 내사람 재생\n",
      "SG 워너비 SG 워너비 - 페이지 이동\n",
      "에잇(Prod.&Feat. SUGA of BTS) 에잇(Prod.&Feat. SUGA of BTS) 재생\n",
      "아이유 아이유 - 페이지 이동\n",
      "아로하 아로하 재생\n",
      "조정석 조정석 - 페이지 이동\n",
      "작은 것들을 위한 시 (Boy With Luv) (Feat. Halsey) 작은 것들을 위한 시 (Boy With Luv) (Feat. Halsey) 재생\n",
      "방탄소년단 방탄소년단 - 페이지 이동\n",
      "취기를 빌려 (취향저격 그녀 X 산들) 취기를 빌려 (취향저격 그녀 X 산들) 재생\n",
      "산들 산들 - 페이지 이동\n",
      "Blueming Blueming 재생\n",
      "아이유 아이유 - 페이지 이동\n",
      "On The Ground On The Ground 재생\n",
      "로제 (ROSÉ) 로제 (ROSÉ) - 페이지 이동\n",
      "어떻게 이별까지 사랑하겠어, 널 사랑하는 거지 어떻게 이별까지 사랑하겠어, 널 사랑하는 거지 재생\n",
      "AKMU (악동뮤지션) AKMU (악동뮤지션) - 페이지 이동\n",
      "추억은 만남보다 이별에 남아 추억은 만남보다 이별에 남아 재생\n",
      "정동하 정동하 - 페이지 이동\n",
      "어푸 (Ah puh) 어푸 (Ah puh) 재생\n",
      "아이유 아이유 - 페이지 이동\n",
      "VVS (Feat. JUSTHIS) (Prod. GroovyRoom) VVS (Feat. JUSTHIS) (Prod. GroovyRoom) 재생\n",
      "미란이 (Mirani) 미란이 (Mirani) - 페이지 이동\n",
      "먼치맨(MUNCHMAN) 먼치맨(MUNCHMAN) - 페이지 이동\n",
      "Khundi Panda Khundi Panda - 페이지 이동\n",
      "머쉬베놈 (MUSHVENOM) 머쉬베놈 (MUSHVENOM) - 페이지 이동\n",
      "Off My Face Off My Face 재생\n",
      "Justin Bieber Justin Bieber - 페이지 이동\n",
      "Life Goes On Life Goes On 재생\n",
      "방탄소년단 방탄소년단 - 페이지 이동\n",
      "나랑 같이 걸을래 (바른연애 길잡이 X 적재) 나랑 같이 걸을래 (바른연애 길잡이 X 적재) 재생\n",
      "적재 적재 - 페이지 이동\n",
      "그날에 나는 맘이 편했을까 그날에 나는 맘이 편했을까 재생\n",
      "이예준 이예준 - 페이지 이동\n",
      "봄날 봄날 재생\n",
      "방탄소년단 방탄소년단 - 페이지 이동\n",
      "12:45 (Stripped) 12:45 (Stripped) 재생\n",
      "Etham Etham - 페이지 이동\n",
      "2002 2002 재생\n",
      "Anne-Marie Anne-Marie - 페이지 이동\n",
      "흔들리는 꽃들 속에서 네 샴푸향이 느껴진거야 흔들리는 꽃들 속에서 네 샴푸향이 느껴진거야 재생\n",
      "장범준 장범준 - 페이지 이동\n",
      "METEOR METEOR 재생\n",
      "창모 (CHANGMO) 창모 (CHANGMO) - 페이지 이동\n",
      "모든 날, 모든 순간 (Every day, Every Moment) 모든 날, 모든 순간 (Every day, Every Moment) 재생\n",
      "폴킴 폴킴 - 페이지 이동\n",
      "그냥 안아달란 말야 그냥 안아달란 말야 재생\n",
      "다비치 다비치 - 페이지 이동\n",
      "오래된 노래 오래된 노래 재생\n",
      "스탠딩 에그 스탠딩 에그 - 페이지 이동\n",
      "너의 번호를 누르고 (Prod. 영화처럼) 너의 번호를 누르고 (Prod. 영화처럼) 재생\n",
      "#안녕 #안녕 - 페이지 이동\n",
      "살짝 설렜어 (Nonstop) 살짝 설렜어 (Nonstop) 재생\n",
      "오마이걸 (OH MY GIRL) 오마이걸 (OH MY GIRL) - 페이지 이동\n",
      "어떻게 지내 (Prod. By VAN.C) 어떻게 지내 (Prod. By VAN.C) 재생\n",
      "오반 (OVAN) 오반 (OVAN) - 페이지 이동\n",
      "Memories Memories 재생\n",
      "Maroon 5 Maroon 5 - 페이지 이동\n",
      "이 밤을 빌려 말해요 (바른연애 길잡이 X 10CM) 이 밤을 빌려 말해요 (바른연애 길잡이 X 10CM) 재생\n",
      "10CM 10CM - 페이지 이동\n",
      "오늘도 빛나는 너에게 (To You My Light) (Feat.이라온) 오늘도 빛나는 너에게 (To You My Light) (Feat.이라온) 재생\n",
      "마크툽 (MAKTUB) 마크툽 (MAKTUB) - 페이지 이동\n",
      "사실 나는 (Feat.전건호) 사실 나는 (Feat.전건호) 재생\n",
      "경서예지 경서예지 - 페이지 이동\n",
      "늦은 밤 너의 집 앞 골목길에서 늦은 밤 너의 집 앞 골목길에서 재생\n",
      "노을 노을 - 페이지 이동\n",
      "How You Like That How You Like That 재생\n",
      "BLACKPINK BLACKPINK - 페이지 이동\n",
      "추적이는 여름 비가 되어 추적이는 여름 비가 되어 재생\n",
      "장범준 장범준 - 페이지 이동\n",
      "힘든 건 사랑이 아니다 힘든 건 사랑이 아니다 재생\n",
      "임창정 임창정 - 페이지 이동\n",
      "오늘따라 더 미운 그대가 오늘따라 더 미운 그대가 재생\n",
      "전상근 전상근 - 페이지 이동\n",
      "체념 체념 재생\n",
      "정상동기 (김정수, 정기석, 이동휘, 이상이) 정상동기 (김정수, 정기석, 이동휘, 이상이) - 페이지 이동\n",
      "이렇게 좋아해 본 적이 없어요 이렇게 좋아해 본 적이 없어요 재생\n",
      "CHEEZE (치즈) CHEEZE (치즈) - 페이지 이동\n",
      "살다가 살다가 재생\n",
      "SG 워너비 SG 워너비 - 페이지 이동\n",
      "Dance Monkey Dance Monkey 재생\n",
      "Tones And I Tones And I - 페이지 이동\n",
      "하루만 더 하루만 더 재생\n",
      "빅마마 빅마마 - 페이지 이동\n",
      "허리춤 허리춤 재생\n",
      "오반 (OVAN) 오반 (OVAN) - 페이지 이동\n",
      "다정히 내 이름을 부르면 다정히 내 이름을 부르면 재생\n",
      "경서예지 경서예지 - 페이지 이동\n",
      "전건호 전건호 - 페이지 이동\n",
      "너의 발걸음에 빛을 비춰줄게 (Prod. 조영수) 너의 발걸음에 빛을 비춰줄게 (Prod. 조영수) 재생\n",
      "케이시 (Kassy) 케이시 (Kassy) - 페이지 이동\n",
      "이제 나만 믿어요 이제 나만 믿어요 재생\n",
      "임영웅 임영웅 - 페이지 이동\n",
      "마음을 드려요 마음을 드려요 재생\n",
      "아이유 아이유 - 페이지 이동\n",
      "Love poem Love poem 재생\n",
      "아이유 아이유 - 페이지 이동\n",
      "Paris In The Rain Paris In The Rain 재생\n",
      "Lauv Lauv - 페이지 이동\n",
      "너를 만나 너를 만나 재생\n",
      "폴킴 폴킴 - 페이지 이동\n",
      "내 마음이 움찔했던 순간 (취향저격 그녀 X 규현) 내 마음이 움찔했던 순간 (취향저격 그녀 X 규현) 재생\n",
      "규현 (KYUHYUN) 규현 (KYUHYUN) - 페이지 이동\n",
      "아이와 나의 바다 아이와 나의 바다 재생\n",
      "아이유 아이유 - 페이지 이동\n",
      "When We Disco (Duet with 선미) When We Disco (Duet with 선미) 재생\n",
      "박진영 박진영 - 페이지 이동\n",
      "우린 어쩌다 헤어진 걸까 우린 어쩌다 헤어진 걸까 재생\n",
      "허각 허각 - 페이지 이동\n",
      "우리 왜 헤어져야 해 우리 왜 헤어져야 해 재생\n",
      "신예영 신예영 - 페이지 이동\n",
      "시작 시작 재생\n",
      "가호 (Gaho) 가호 (Gaho) - 페이지 이동\n",
      "Don't Start Now Don't Start Now 재생\n",
      "Dua Lipa Dua Lipa - 페이지 이동\n",
      "고백 (바른연애 길잡이 X 허각) 고백 (바른연애 길잡이 X 허각) 재생\n",
      "허각 허각 - 페이지 이동\n",
      "Downtown Baby Downtown Baby 재생\n",
      "블루 (BLOO) 블루 (BLOO) - 페이지 이동\n",
      "Maniac Maniac 재생\n",
      "Conan Gray Conan Gray - 페이지 이동\n",
      "If You Love Me (Feat. 주헌 (몬스타엑스)) If You Love Me (Feat. 주헌 (몬스타엑스)) 재생\n",
      "NS 윤지 NS 윤지 - 페이지 이동\n",
      "Ready to love Ready to love 재생\n",
      "세븐틴 세븐틴 - 페이지 이동\n",
      "함께 했는데 이별은 나 혼자인 거야 함께 했는데 이별은 나 혼자인 거야 재생\n",
      "소정 (레이디스 코드) 소정 (레이디스 코드) - 페이지 이동\n",
      "안녕 안녕 재생\n",
      "폴킴 폴킴 - 페이지 이동\n",
      "기다릴게 기다릴게 재생\n",
      "하동균 하동균 - 페이지 이동\n",
      "봉구 봉구 - 페이지 이동\n",
      "봄 안녕 봄 봄 안녕 봄 재생\n",
      "아이유 아이유 - 페이지 이동\n",
      "거짓말이라도 해서 널 보고싶어 거짓말이라도 해서 널 보고싶어 재생\n",
      "백지영 백지영 - 페이지 이동\n",
      "내일이 오면 (Feat. 기리보이, BIG Naughty (서동현)) 내일이 오면 (Feat. 기리보이, BIG Naughty (서동현)) 재생\n",
      "릴보이 (lIlBOI) 릴보이 (lIlBOI) - 페이지 이동\n",
      "맛 (Hot Sauce) 맛 (Hot Sauce) 재생\n",
      "NCT DREAM NCT DREAM - 페이지 이동\n",
      "서울의 잠 못 이루는 밤 (Feat. 이수현) 서울의 잠 못 이루는 밤 (Feat. 이수현) 재생\n",
      "10CM 10CM - 페이지 이동\n",
      "사업자정보확인 사업자정보확인\n"
     ]
    },
    {
     "ename": "KeyError",
     "evalue": "'title'",
     "output_type": "error",
     "traceback": [
      "\u001b[1;31m--------------------------------------------\u001b[0m",
      "\u001b[1;31mKeyError\u001b[0m   Traceback (most recent call last)",
      "\u001b[1;32m<ipython-input-21-1f6f97eecb6f>\u001b[0m in \u001b[0;36m<module>\u001b[1;34m\u001b[0m\n\u001b[0;32m      1\u001b[0m \u001b[1;32mfor\u001b[0m \u001b[0mtag\u001b[0m \u001b[1;32min\u001b[0m \u001b[0mtags\u001b[0m\u001b[1;33m:\u001b[0m\u001b[1;33m\u001b[0m\u001b[0m\n\u001b[1;32m----> 2\u001b[1;33m     \u001b[0mprint\u001b[0m\u001b[1;33m(\u001b[0m\u001b[0mtag\u001b[0m\u001b[1;33m.\u001b[0m\u001b[0mtext\u001b[0m\u001b[1;33m.\u001b[0m\u001b[0mstrip\u001b[0m\u001b[1;33m(\u001b[0m\u001b[1;33m)\u001b[0m\u001b[1;33m,\u001b[0m \u001b[0mtag\u001b[0m\u001b[1;33m[\u001b[0m\u001b[1;34m'title'\u001b[0m\u001b[1;33m]\u001b[0m\u001b[1;33m)\u001b[0m\u001b[1;33m\u001b[0m\u001b[0m\n\u001b[0m",
      "\u001b[1;32mc:\\python\\python36\\lib\\site-packages\\bs4\\element.py\u001b[0m in \u001b[0;36m__getitem__\u001b[1;34m(self, key)\u001b[0m\n\u001b[0;32m   1404\u001b[0m         \"\"\"tag[key] returns the value of the 'key' attribute for the Tag,\n\u001b[0;32m   1405\u001b[0m         and throws an exception if it's not there.\"\"\"\n\u001b[1;32m-> 1406\u001b[1;33m         \u001b[1;32mreturn\u001b[0m \u001b[0mself\u001b[0m\u001b[1;33m.\u001b[0m\u001b[0mattrs\u001b[0m\u001b[1;33m[\u001b[0m\u001b[0mkey\u001b[0m\u001b[1;33m]\u001b[0m\u001b[1;33m\u001b[0m\u001b[0m\n\u001b[0m\u001b[0;32m   1407\u001b[0m \u001b[1;33m\u001b[0m\u001b[0m\n\u001b[0;32m   1408\u001b[0m     \u001b[1;32mdef\u001b[0m \u001b[0m__iter__\u001b[0m\u001b[1;33m(\u001b[0m\u001b[0mself\u001b[0m\u001b[1;33m)\u001b[0m\u001b[1;33m:\u001b[0m\u001b[1;33m\u001b[0m\u001b[0m\n",
      "\u001b[1;31mKeyError\u001b[0m: 'title'"
     ]
    }
   ],
   "source": [
    "for tag in tags:\n",
    "    print(tag.text.strip(), tag['title'])"
   ]
  },
  {
   "cell_type": "code",
   "execution_count": null,
   "id": "b0d93955",
   "metadata": {},
   "outputs": [],
   "source": []
  }
 ],
 "metadata": {
  "kernelspec": {
   "display_name": "Python 3",
   "language": "python",
   "name": "python3"
  },
  "language_info": {
   "codemirror_mode": {
    "name": "ipython",
    "version": 3
   },
   "file_extension": ".py",
   "mimetype": "text/x-python",
   "name": "python",
   "nbconvert_exporter": "python",
   "pygments_lexer": "ipython3",
   "version": "3.6.4"
  }
 },
 "nbformat": 4,
 "nbformat_minor": 5
}
