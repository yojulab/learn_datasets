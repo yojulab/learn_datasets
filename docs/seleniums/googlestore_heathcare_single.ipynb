{
 "cells": [
  {
   "cell_type": "code",
   "execution_count": 1,
   "id": "9e190532-a7a3-4e69-84d1-6af70581543f",
   "metadata": {},
   "outputs": [],
   "source": [
    "from selenium import webdriver"
   ]
  },
  {
   "cell_type": "code",
   "execution_count": 2,
   "id": "e377608a-7b5c-4005-a3f3-e2f78f7c74dd",
   "metadata": {},
   "outputs": [],
   "source": [
    "# open chrome browser\n",
    "browser = webdriver.Chrome(executable_path='../../../../chromedriver.exe')"
   ]
  },
  {
   "cell_type": "code",
   "execution_count": 3,
   "id": "89d5f541-f2dc-4a61-ba8e-2206ff4c26f7",
   "metadata": {},
   "outputs": [],
   "source": [
    "# url in address window\n",
    "browser.get('https://play.google.com/store/search?q=%ED%97%AC%EC%8A%A4%EC%BC%80%EC%96%B4%EC%95%B1&c=apps&hl=ko-KR')"
   ]
  },
  {
   "cell_type": "code",
   "execution_count": 4,
   "id": "545bdec0-21ed-4b5f-8ecd-18252eb8dd9a",
   "metadata": {},
   "outputs": [],
   "source": [
    "browser.implicitly_wait(10)"
   ]
  },
  {
   "cell_type": "markdown",
   "id": "da0ab377-4c4e-479f-84b7-711978116ca8",
   "metadata": {},
   "source": [
    "## 제품 클릭\n",
    "- section > div > div > div > div:nth-child(2) > div > div > div"
   ]
  },
  {
   "cell_type": "code",
   "execution_count": 5,
   "id": "1eebcbd2-fde4-4b8e-a833-42b270859da2",
   "metadata": {},
   "outputs": [],
   "source": [
    "click_path = 'section > div > div > div > div:nth-child(2) > div > div > div'\n",
    "browser.find_element_by_css_selector(click_path).click()"
   ]
  },
  {
   "cell_type": "markdown",
   "id": "71274383-684e-4346-9f5d-291632dcb7a5",
   "metadata": {},
   "source": [
    "## 제품 정보\n",
    "- 서비스명 tag : div > h1 > span\n",
    "- 만든회사명 tag : div.Il7kR > div > div > div > a > span\n",
    "- 앱정보 tag : div:nth-child(1) > c-wiz:nth-child(2) > div > section > div"
   ]
  },
  {
   "cell_type": "code",
   "execution_count": 6,
   "id": "2bf1f14d-8784-42a9-bbf9-78f20de905cd",
   "metadata": {},
   "outputs": [
    {
     "data": {
      "text/plain": [
       "['NH헬스케어',\n",
       " 'NH농협생명',\n",
       " '한국인의 건강관리 NH 헬스케어!\\n\\n지인들과 재밌고 건강하게 즐기는 NH헬스케어만의 새로운 걷기 방법 – 걷기 배틀\\n걷기 목표 달성시 지급되는 포인트로 완성하는 온라인 텃밭 – 랜선 텃밭 가꾸기\\n\\n즐겁고 과학적인 당신만을 위한 건강 솔루션 NH 헬스케어!\\n업데이트 날짜\\n2023. 7. 21.\\n건강/운동']"
      ]
     },
     "execution_count": 6,
     "metadata": {},
     "output_type": "execute_result"
    }
   ],
   "source": [
    "service_name = browser.find_element_by_css_selector('div > h1 > span').text\n",
    "company_name = browser.find_element_by_css_selector('div.Il7kR > div > div > div > a > span').text\n",
    "app_information = browser.find_element_by_css_selector('div:nth-child(1) > c-wiz:nth-child(2) > div > section > div').text\n",
    "\n",
    "[service_name, company_name, app_information]"
   ]
  },
  {
   "cell_type": "code",
   "execution_count": 18,
   "id": "1a71b198-bfbc-4686-a2d0-fdfbe9b1d759",
   "metadata": {},
   "outputs": [
    {
     "data": {
      "text/plain": [
       "'리뷰 473개'"
      ]
     },
     "execution_count": 18,
     "metadata": {},
     "output_type": "execute_result"
    }
   ],
   "source": [
    "#### 리뷰 총 갯수 가져오기\n",
    "## 리뷰 총 개수 tag : div:nth-child(1) > div.g1rdde\n",
    "review_total_count_text = browser.find_element_by_css_selector('div:nth-child(1) > div.g1rdde').text\n",
    "review_total_count_text"
   ]
  },
  {
   "cell_type": "code",
   "execution_count": 19,
   "id": "3a8f5335-f3fc-4a1f-a014-4933d9fc03b5",
   "metadata": {},
   "outputs": [
    {
     "name": "stdout",
     "output_type": "stream",
     "text": [
      "473 473\n"
     ]
    },
    {
     "data": {
      "text/plain": [
       "(473, int)"
      ]
     },
     "execution_count": 19,
     "metadata": {},
     "output_type": "execute_result"
    }
   ],
   "source": [
    "import re # reqexpress function\n",
    "result_list = re.findall(r'\\d+', review_total_count_text)\n",
    "print(result_list[0], int(result_list[0]))\n",
    "\n",
    "review_total_count = int(result_list[0])  # 리뷰 총 갯수\n",
    "review_total_count, type(review_total_count)"
   ]
  },
  {
   "cell_type": "markdown",
   "id": "48fede69-b1b3-4a2d-b99f-f31b84f75ac0",
   "metadata": {},
   "source": [
    "### 리뷰 모두 보기\n",
    "- click tag : div:nth-child(5) > div > div > button > span"
   ]
  },
  {
   "cell_type": "code",
   "execution_count": 7,
   "id": "472959d7-a780-44c5-9303-98f76489724e",
   "metadata": {},
   "outputs": [],
   "source": [
    "import time\n",
    "time.sleep(2)"
   ]
  },
  {
   "cell_type": "code",
   "execution_count": 8,
   "id": "c8c9cd09-6607-4717-9f48-084aceb049a9",
   "metadata": {},
   "outputs": [],
   "source": [
    "browser.find_element_by_xpath('//*/div/div/button/*[contains(text(), \"리뷰\")]').click()"
   ]
  },
  {
   "cell_type": "markdown",
   "id": "a6ccedc5-3c3e-4055-a6b9-f89da921b976",
   "metadata": {},
   "source": [
    "## 리뷰 내용 가져오기\n",
    "- 리뷰 묶음 tag : div.fysCi > div > div:nth-child(2) > div\n",
    "- 내용 tag : div.h3YV2d\n",
    "- 날짜 tag : header > div.Jx4nYe > span\n",
    "- 별점 tag : header > div.Jx4nYe > div"
   ]
  },
  {
   "cell_type": "code",
   "execution_count": 9,
   "id": "e6ce98e0-0326-46a7-857b-e13ece15cf25",
   "metadata": {},
   "outputs": [],
   "source": [
    "# reviews_bundle = browser.find_elements_by_css_selector('div.fysCi > div > div:nth-child(2) > div')\n",
    "# len(reviews_bundle)"
   ]
  },
  {
   "cell_type": "code",
   "execution_count": 10,
   "id": "5a274a3d-f150-44f6-9491-398dadd58709",
   "metadata": {},
   "outputs": [],
   "source": [
    "# content = reviews_bundle[0].find_element_by_css_selector('div.h3YV2d').text\n",
    "# date = reviews_bundle[0].find_element_by_css_selector('header > div.Jx4nYe > span').text\n",
    "# stars = reviews_bundle[0].find_element_by_css_selector('header > div.Jx4nYe > div').get_attribute('aria-label')"
   ]
  },
  {
   "cell_type": "code",
   "execution_count": 11,
   "id": "695342c5-98d2-4156-a1ac-5bf3da6635c6",
   "metadata": {},
   "outputs": [],
   "source": [
    "# [content, date, stars]"
   ]
  },
  {
   "cell_type": "markdown",
   "id": "96b9750d-e88c-4df1-8326-5f5ad4a5386e",
   "metadata": {
    "tags": []
   },
   "source": [
    "## 추가 댓글 가져오기\n",
    "- 마지막 내용을 클릭\n",
    "- 마지막 화면까지 스크롤링"
   ]
  },
  {
   "cell_type": "code",
   "execution_count": 12,
   "id": "18f51db1-ec94-4f76-a821-85e7e1a35084",
   "metadata": {},
   "outputs": [],
   "source": [
    "# reviews_bundle[39].click()"
   ]
  },
  {
   "cell_type": "code",
   "execution_count": 13,
   "id": "da3fae09-7cb1-4cbc-9fb0-8d64bf068516",
   "metadata": {},
   "outputs": [],
   "source": [
    "# reviews_bundle = browser.find_elements_by_css_selector('div.fysCi > div > div:nth-child(2) > div')\n",
    "# len(reviews_bundle)"
   ]
  },
  {
   "cell_type": "code",
   "execution_count": 14,
   "id": "3582dbe5-fc49-4cda-995c-56a86f7ca559",
   "metadata": {
    "tags": []
   },
   "outputs": [],
   "source": [
    "# reviews_bundle[40:]"
   ]
  },
  {
   "cell_type": "markdown",
   "id": "8d073a0a-d3fc-4902-a9f9-5640de76c5d6",
   "metadata": {},
   "source": [
    "### 클릭 갯수"
   ]
  },
  {
   "cell_type": "code",
   "execution_count": 15,
   "id": "1d7057b5-7c23-40a8-ba3e-44aafdb5cc74",
   "metadata": {},
   "outputs": [
    {
     "data": {
      "text/plain": [
       "(0.5, 0.975, 1.0, 1.125, 2.0, 2.225, 2.9, 3.025, 11.825)"
      ]
     },
     "execution_count": 15,
     "metadata": {},
     "output_type": "execute_result"
    }
   ],
   "source": [
    "# review_total_count / review_standard_count_per\n",
    "20 / 40, 39 / 40, 40 / 40, 45 / 40, 80 / 40, 89 / 40, 116 / 40, 121 / 40, 473 / 40"
   ]
  },
  {
   "cell_type": "markdown",
   "id": "938e7e53-f0aa-4624-b280-4ca15888c76b",
   "metadata": {},
   "source": [
    "### 추가 댓글 모두 가져오기"
   ]
  },
  {
   "cell_type": "code",
   "execution_count": 16,
   "id": "44881610-4d1b-4f8a-98c7-65bcef0bf109",
   "metadata": {},
   "outputs": [
    {
     "data": {
      "text/plain": [
       "([1], [1, 2, 3])"
      ]
     },
     "execution_count": 16,
     "metadata": {},
     "output_type": "execute_result"
    }
   ],
   "source": [
    "list(range(1, 2)), list(range(1, 4))"
   ]
  },
  {
   "cell_type": "markdown",
   "id": "926b68b0-f222-47df-ae2e-832a2af392b5",
   "metadata": {},
   "source": []
  },
  {
   "cell_type": "code",
   "execution_count": null,
   "id": "a139e6f2-b399-45a4-b408-47a889b673d5",
   "metadata": {},
   "outputs": [],
   "source": []
  },
  {
   "cell_type": "code",
   "execution_count": 17,
   "id": "5bade714-13c4-46c4-b161-a6e07008d446",
   "metadata": {},
   "outputs": [
    {
     "name": "stdout",
     "output_type": "stream",
     "text": [
      "current reviews_bundle count : 40\n",
      "current reviews_bundle count : 80\n",
      "current reviews_bundle count : 120\n",
      "current reviews_bundle count : 160\n",
      "current reviews_bundle count : 200\n",
      "current reviews_bundle count : 240\n",
      "current reviews_bundle count : 248\n",
      "current reviews_bundle count : 248\n",
      "current reviews_bundle count : 248\n",
      "current reviews_bundle count : 248\n",
      "current reviews_bundle count : 248\n",
      "Done 248\n"
     ]
    }
   ],
   "source": [
    "review_total_count = 473  # 리뷰 총 갯수\n",
    "review_standard_count_per = 40\n",
    "click_count = 0\n",
    "\n",
    "loop_count_int = int(review_total_count / review_standard_count_per)\n",
    "for count in range(1, loop_count_int+1) :\n",
    "    try :\n",
    "        reviews_bundle = browser.find_elements_by_css_selector('div.fysCi > div > div:nth-child(2) > div')\n",
    "        print('current reviews_bundle count : {}'.format(len(reviews_bundle)))\n",
    "        reviews_bundle[len(reviews_bundle)-1].click()\n",
    "        time.sleep(3)\n",
    "    except :\n",
    "        print('pass')\n",
    "        pass\n",
    "print('Done', len(reviews_bundle))"
   ]
  },
  {
   "cell_type": "code",
   "execution_count": 25,
   "id": "d808c05c-21b9-4cc4-9ce5-609dba3108c1",
   "metadata": {},
   "outputs": [
    {
     "name": "stdout",
     "output_type": "stream",
     "text": [
      "current reviews_bundle count : 248\n"
     ]
    }
   ],
   "source": [
    "reviews_bundle = browser.find_elements_by_css_selector('div.fysCi > div > div:nth-child(2) > div')\n",
    "print('current reviews_bundle count : {}'.format(len(reviews_bundle)))\n",
    "reviews_bundle[len(reviews_bundle)-1].click()"
   ]
  },
  {
   "cell_type": "code",
   "execution_count": null,
   "id": "7ff314a8-b9f0-4c42-9cc9-2d77ebdac082",
   "metadata": {},
   "outputs": [],
   "source": []
  }
 ],
 "metadata": {
  "kernelspec": {
   "display_name": "Python 3 (ipykernel)",
   "language": "python",
   "name": "python3"
  },
  "language_info": {
   "codemirror_mode": {
    "name": "ipython",
    "version": 3
   },
   "file_extension": ".py",
   "mimetype": "text/x-python",
   "name": "python",
   "nbconvert_exporter": "python",
   "pygments_lexer": "ipython3",
   "version": "3.9.13"
  }
 },
 "nbformat": 4,
 "nbformat_minor": 5
}
