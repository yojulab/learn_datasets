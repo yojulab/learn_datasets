{
 "cells": [
  {
   "cell_type": "code",
   "execution_count": 1,
   "id": "0190ba1b-dbc8-4096-92f3-a0068a7921f9",
   "metadata": {},
   "outputs": [],
   "source": [
    "from selenium import webdriver"
   ]
  },
  {
   "cell_type": "code",
   "execution_count": 2,
   "id": "ed8f1fff-e6c0-43d3-a8d3-f38be888f78d",
   "metadata": {},
   "outputs": [],
   "source": [
    "# open chrome browser\n",
    "browser = webdriver.Chrome(executable_path='../../../../chromedriver.exe')"
   ]
  },
  {
   "cell_type": "code",
   "execution_count": 3,
   "id": "8ac2da21-6fe5-417f-9032-b490be4bf992",
   "metadata": {
    "tags": []
   },
   "outputs": [],
   "source": [
    "# url in address window\n",
    "browser.get('https://www.w3schools.com/')"
   ]
  },
  {
   "cell_type": "code",
   "execution_count": 4,
   "id": "3607c04b-1b94-43e1-ba12-d514daa385f3",
   "metadata": {},
   "outputs": [
    {
     "data": {
      "text/plain": [
       "True"
      ]
     },
     "execution_count": 4,
     "metadata": {},
     "output_type": "execute_result"
    }
   ],
   "source": [
    "# Screenshot\n",
    "browser.save_screenshot('./begginers.png')"
   ]
  },
  {
   "cell_type": "code",
   "execution_count": 3,
   "id": "743743f9-b525-4c3f-aa10-4ffb54a4c2d5",
   "metadata": {},
   "outputs": [],
   "source": [
    "# 웹 페이지 로드\n",
    "browser.get('https://play.google.com/store/search?q=%ED%97%AC%EC%8A%A4%EC%BC%80%EC%96%B4%EC%95%B1&c=apps&hl=ko-KR')"
   ]
  },
  {
   "cell_type": "code",
   "execution_count": 7,
   "id": "1e2b2984-344d-40d5-9ce5-27ebcdcc0166",
   "metadata": {},
   "outputs": [],
   "source": [
    "# 화면 높이만큼 1번 스크룰링\n",
    "from selenium.webdriver.common.keys import Keys\n",
    "\n",
    "# 스크롤 다운\n",
    "browser.find_element_by_tag_name('body').send_keys(Keys.PAGE_DOWN)"
   ]
  },
  {
   "cell_type": "code",
   "execution_count": 11,
   "id": "ae8efbf6-c473-46ec-935a-394c39568392",
   "metadata": {},
   "outputs": [],
   "source": [
    "# 화면 높이만큼 차례로 아래끝까지 스크룰링\n",
    "\n",
    "from selenium.webdriver.common.keys import Keys\n",
    "import time\n",
    "\n",
    "# Chrome WebDriver 객체 생성\n",
    "\n",
    "# 웹 페이지 로드\n",
    "browser.get('https://play.google.com/store/search?q=%ED%97%AC%EC%8A%A4%EC%BC%80%EC%96%B4%EC%95%B1&c=apps&hl=ko-KR')\n",
    "\n",
    "# 현재 화면의 높이 가져오기\n",
    "screen_height = browser.execute_script(\"return window.innerHeight\")\n",
    "\n",
    "# 현재 문서의 전체 높이 가져오기\n",
    "document_height = browser.execute_script(\"return document.documentElement.scrollHeight\")\n",
    "\n",
    "# 스크롤 다운하여 페이지 맨 아래까지 이동하기\n",
    "while True:\n",
    "    # 스크롤 다운 실행 (페이지 맨 아래로 이동)\n",
    "    browser.find_element_by_tag_name('body').send_keys(Keys.PAGE_DOWN)\n",
    "\n",
    "    # 잠시 대기하여 새로운 내용 로딩을 기다림 (선택적으로 사용)\n",
    "    time.sleep(1)\n",
    "\n",
    "    # 현재 스크롤 위치 확인\n",
    "    current_scroll_position = browser.execute_script(\"return window.pageYOffset + arguments[0];\", screen_height)\n",
    "\n",
    "    # 전체 문서 높이 갱신\n",
    "    document_height = browser.execute_script(\"return document.documentElement.scrollHeight\")\n",
    "\n",
    "    # 전체 문서 높이와 현재 스크롤 위치 비교하여 종료 여부 결정\n",
    "    if current_scroll_position >= document_height:\n",
    "        break\n",
    "\n"
   ]
  },
  {
   "cell_type": "code",
   "execution_count": 9,
   "id": "a72ff79d-e9d4-4a2d-b72d-3a3ddcc88bff",
   "metadata": {},
   "outputs": [],
   "source": [
    "browser.quit()"
   ]
  }
 ],
 "metadata": {
  "kernelspec": {
   "display_name": "Python 3 (ipykernel)",
   "language": "python",
   "name": "python3"
  },
  "language_info": {
   "codemirror_mode": {
    "name": "ipython",
    "version": 3
   },
   "file_extension": ".py",
   "mimetype": "text/x-python",
   "name": "python",
   "nbconvert_exporter": "python",
   "pygments_lexer": "ipython3",
   "version": "3.9.13"
  }
 },
 "nbformat": 4,
 "nbformat_minor": 5
}
