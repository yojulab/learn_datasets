{
 "cells": [
  {
   "cell_type": "code",
   "execution_count": 14,
   "id": "0190ba1b-dbc8-4096-92f3-a0068a7921f9",
   "metadata": {},
   "outputs": [],
   "source": [
    "from selenium import webdriver\n",
    "import time"
   ]
  },
  {
   "cell_type": "code",
   "execution_count": 11,
   "id": "ed8f1fff-e6c0-43d3-a8d3-f38be888f78d",
   "metadata": {},
   "outputs": [],
   "source": [
    "# open chrome browser\n",
    "browser = webdriver.Chrome(executable_path='../../../../chromedriver.exe')"
   ]
  },
  {
   "cell_type": "markdown",
   "id": "e1995aaf-fd0f-4c73-8b36-954f1262218a",
   "metadata": {},
   "source": [
    "### login\n",
    "- user_email tag : #user_email\n",
    "- password tag : #user_password\n",
    "- submit button tag : fieldset > button"
   ]
  },
  {
   "cell_type": "code",
   "execution_count": 12,
   "id": "8ac2da21-6fe5-417f-9032-b490be4bf992",
   "metadata": {
    "tags": []
   },
   "outputs": [],
   "source": [
    "browser.implicitly_wait(10)\n",
    "browser.get('https://www.jobplanet.co.kr/users/sign_in?_nav=gb')\n",
    "browser.find_element_by_css_selector('#user_email').send_keys('*********')\n",
    "browser.find_element_by_css_selector('#user_password').send_keys('*******')\n",
    "browser.find_element_by_css_selector('fieldset > button').click()"
   ]
  },
  {
   "cell_type": "markdown",
   "id": "497a7eb3-256a-421e-b754-a132d6ddee83",
   "metadata": {},
   "source": [
    "### 검색어로 검색 (분석가)"
   ]
  },
  {
   "cell_type": "code",
   "execution_count": 13,
   "id": "15fa901a-da26-4696-8141-3affdff483b7",
   "metadata": {},
   "outputs": [],
   "source": [
    "browser.implicitly_wait(10)\n",
    "search_word = 'https://www.jobplanet.co.kr/job/search?_rs_act=index&_rs_con=search&_rs_element=see_more_job_postings_top&q=%EB%B6%84%EC%84%9D%EA%B0%80'\n",
    "browser.get(search_word)"
   ]
  },
  {
   "cell_type": "code",
   "execution_count": 9,
   "id": "a72ff79d-e9d4-4a2d-b72d-3a3ddcc88bff",
   "metadata": {},
   "outputs": [],
   "source": [
    "browser.quit()"
   ]
  }
 ],
 "metadata": {
  "kernelspec": {
   "display_name": "Python 3 (ipykernel)",
   "language": "python",
   "name": "python3"
  },
  "language_info": {
   "codemirror_mode": {
    "name": "ipython",
    "version": 3
   },
   "file_extension": ".py",
   "mimetype": "text/x-python",
   "name": "python",
   "nbconvert_exporter": "python",
   "pygments_lexer": "ipython3",
   "version": "3.9.13"
  }
 },
 "nbformat": 4,
 "nbformat_minor": 5
}
