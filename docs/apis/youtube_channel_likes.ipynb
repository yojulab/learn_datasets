{
  "nbformat": 4,
  "nbformat_minor": 0,
  "metadata": {
    "colab": {
      "name": "youtube_channel_viewcounts_analyst.ipynb",
      "provenance": [],
      "collapsed_sections": [],
      "authorship_tag": "ABX9TyPQ4czBLHhIWs+c2Yo5q9VK",
      "include_colab_link": true
    },
    "kernelspec": {
      "name": "python3",
      "display_name": "Python 3"
    },
    "language_info": {
      "name": "python"
    }
  },
  "cells": [
    {
      "cell_type": "markdown",
      "metadata": {
        "id": "view-in-github",
        "colab_type": "text"
      },
      "source": [
        "<a href=\"https://colab.research.google.com/github/SanghunOh/with_webscraping/blob/main/codes/APIs/youtube_channel_viewcounts_analyst.ipynb\" target=\"_parent\"><img src=\"https://colab.research.google.com/assets/colab-badge.svg\" alt=\"Open In Colab\"/></a>"
      ]
    },
    {
      "cell_type": "markdown",
      "source": [
        "##Youtube API key 생성\n",
        "https://console.cloud.google.com/apis/dashboard"
      ],
      "metadata": {
        "id": "2FHl1EEVGtY4"
      }
    },
    {
      "cell_type": "markdown",
      "source": [
        "##make class with google api"
      ],
      "metadata": {
        "id": "z251UFGGpObU"
      }
    },
    {
      "cell_type": "code",
      "execution_count": null,
      "metadata": {
        "id": "yIRnfK14GsvP"
      },
      "outputs": [],
      "source": [
        "from googleapiclient.discovery import build\n",
        "import pandas as pd\n",
        "import operator\n",
        "\n",
        "\n",
        "class Factory_chellenge_youtube_api:\n",
        "    def __init__(self, _api_key):\n",
        "        self.google_api_key = _api_key\n",
        "        self.youtube_api_service_name = \"youtube\"\n",
        "        self.youtube_api_version = 'v3'\n",
        "\n",
        "    def videoID_likes(self, _channelId, _maxResults=6):\n",
        "        youtube = build(self.youtube_api_service_name, self.youtube_api_version, developerKey=self.google_api_key)\n",
        "\n",
        "        search_response = youtube.search().list(\n",
        "            channelId=_channelId,\n",
        "            order='viewCount',\n",
        "            part='snippet',\n",
        "            maxResults=_maxResults\n",
        "        ).execute()\n",
        "        # print(search_response)\n",
        "        # 검색을 위한 videoID 추출\n",
        "        videoIds = []\n",
        "        for i in range(0, len(search_response['items'])):\n",
        "            videoIds.append((search_response['items'][i]['id']['videoId']))\n",
        "\n",
        "        video_title_lst = []  # Video 이름을 담는 리스트\n",
        "        channel_rating_good = []  # 채널 좋아요 수를 담는 리스트\n",
        "        dicts = {}  # 채널 이름 + 좋아요 수\n",
        "\n",
        "        # 영상이름, 조회수 , 좋아요 등 정보 등 추출\n",
        "        for k in range(0, len(search_response['items'])):\n",
        "            videoIdslists = youtube.videos().list(\n",
        "                part='snippet, statistics',\n",
        "                id=videoIds[k],\n",
        "            ).execute()\n",
        "\n",
        "            # Video Name\n",
        "            video_title_lst.append(videoIdslists['items'][0]['snippet'].get('title'))\n",
        "\n",
        "            # 좋아요 입력\n",
        "            channel_rating_good.append(videoIdslists['items'][0]['statistics'].get('likeCount'))\n",
        "\n",
        "        for title_plus_rating in zip(video_title_lst, channel_rating_good):\n",
        "            dicts[title_plus_rating[0]] = int(title_plus_rating[1])\n",
        "        sdicts = sorted(dicts.items(), key=operator.itemgetter(1), reverse=True)\n",
        "\n",
        "        return sdicts\n"
      ]
    },
    {
      "cell_type": "code",
      "source": [
        "Factory_chellenge = Factory_chellenge_youtube_api('<google api key>')  # 최초 class 선언\n",
        "channelID_likes_sum = Factory_chellenge.videoID_likes('UCekRAdqYAcVNn_0DmJc0Rdg', 10)  # 좋아요 + 조회수 추출"
      ],
      "metadata": {
        "id": "1NGCw_UKpUml"
      },
      "execution_count": null,
      "outputs": []
    },
    {
      "cell_type": "code",
      "source": [
        "channelID_likes_sum"
      ],
      "metadata": {
        "colab": {
          "base_uri": "https://localhost:8080/"
        },
        "id": "kE-e48bdph0n",
        "outputId": "9a67e8cd-344b-461a-cb54-1715bbe730e5"
      },
      "execution_count": null,
      "outputs": [
        {
          "output_type": "execute_result",
          "data": {
            "text/plain": [
              "[('PLAYLIST | 답답할 때 듣자마자 신나게 C코드 잡게 만들었던 🎤팝-펑크 라떼', 74),\n",
              " ('PLAYLIST | 도입부부터 분위기 미쳐버린 플레이리스트 광고없는 분위기 깡패 노래모음', 29),\n",
              " ('PLAYLIST | 2021년 수고했어. 2022년은 즐겁고 행복한 일들만 있을거야! 2021년 마무리하며 듣기 좋은 플레이리스트 광고없는 음악 모음',\n",
              "  14),\n",
              " ('PLAYLIST | 가을바람 불어오는 갈대숲에서 가을분위기 딥(DEEP)하게 취하기🍁', 10),\n",
              " ('PLAYLIST | 청소기 잠깐 돌리려다 대청소하게 되는 신나는 플레이리스트 광고없는 청소 노동요', 8),\n",
              " ('PLAYLIST | 프로젝트 시작 전 자존감 급속충전', 7),\n",
              " ('PLAYLIST | 여름휴가 놓친 나를 위한 사무실 휴가지 만드는 플리🎵', 6),\n",
              " ('PLAYLIST | 영화 다시 찾아보게 만드는 카라멜팝콘 같은 사운드트랙(영화 OST & 삽입곡)', 6),\n",
              " ('PLAYLIST | 봄 드라이브 갈 때 조수석 준비물은 이걸로 끝. 광고없는 봄 감성 노래모음', 5),\n",
              " ('PLAYLIST | 지친 하루를 보내고 마음이 복잡할 때 날 위로하는 플레이리스트', 4)]"
            ]
          },
          "metadata": {},
          "execution_count": 3
        }
      ]
    },
    {
      "cell_type": "code",
      "source": [
        "df = pd.DataFrame(channelID_likes_sum)\n",
        "df.columns = ['Video_title', 'Video_likes']\n",
        "df"
      ],
      "metadata": {
        "colab": {
          "base_uri": "https://localhost:8080/",
          "height": 363
        },
        "id": "RLUCZp5UpmBr",
        "outputId": "ced5a3da-0052-472d-dd4d-06e5c8f338a9"
      },
      "execution_count": null,
      "outputs": [
        {
          "output_type": "execute_result",
          "data": {
            "text/plain": [
              "                                         Video_title  Video_likes\n",
              "0     PLAYLIST | 답답할 때 듣자마자 신나게 C코드 잡게 만들었던 🎤팝-펑크 라떼           74\n",
              "1  PLAYLIST | 도입부부터 분위기 미쳐버린 플레이리스트 광고없는 분위기 깡패 노래모음           29\n",
              "2  PLAYLIST | 2021년 수고했어. 2022년은 즐겁고 행복한 일들만 있을거야...           14\n",
              "3    PLAYLIST | 가을바람 불어오는 갈대숲에서 가을분위기 딥(DEEP)하게 취하기🍁           10\n",
              "4  PLAYLIST | 청소기 잠깐 돌리려다 대청소하게 되는 신나는 플레이리스트 광고없...            8\n",
              "5                      PLAYLIST | 프로젝트 시작 전 자존감 급속충전            7\n",
              "6           PLAYLIST | 여름휴가 놓친 나를 위한 사무실 휴가지 만드는 플리🎵            6\n",
              "7  PLAYLIST | 영화 다시 찾아보게 만드는 카라멜팝콘 같은 사운드트랙(영화 OS...            6\n",
              "8  PLAYLIST | 봄 드라이브 갈 때 조수석 준비물은 이걸로 끝. 광고없는 봄 감...            5\n",
              "9      PLAYLIST | 지친 하루를 보내고 마음이 복잡할 때 날 위로하는 플레이리스트            4"
            ],
            "text/html": [
              "\n",
              "  <div id=\"df-51074e7e-7d82-4ed6-be29-c141e8eec0b7\">\n",
              "    <div class=\"colab-df-container\">\n",
              "      <div>\n",
              "<style scoped>\n",
              "    .dataframe tbody tr th:only-of-type {\n",
              "        vertical-align: middle;\n",
              "    }\n",
              "\n",
              "    .dataframe tbody tr th {\n",
              "        vertical-align: top;\n",
              "    }\n",
              "\n",
              "    .dataframe thead th {\n",
              "        text-align: right;\n",
              "    }\n",
              "</style>\n",
              "<table border=\"1\" class=\"dataframe\">\n",
              "  <thead>\n",
              "    <tr style=\"text-align: right;\">\n",
              "      <th></th>\n",
              "      <th>Video_title</th>\n",
              "      <th>Video_likes</th>\n",
              "    </tr>\n",
              "  </thead>\n",
              "  <tbody>\n",
              "    <tr>\n",
              "      <th>0</th>\n",
              "      <td>PLAYLIST | 답답할 때 듣자마자 신나게 C코드 잡게 만들었던 🎤팝-펑크 라떼</td>\n",
              "      <td>74</td>\n",
              "    </tr>\n",
              "    <tr>\n",
              "      <th>1</th>\n",
              "      <td>PLAYLIST | 도입부부터 분위기 미쳐버린 플레이리스트 광고없는 분위기 깡패 노래모음</td>\n",
              "      <td>29</td>\n",
              "    </tr>\n",
              "    <tr>\n",
              "      <th>2</th>\n",
              "      <td>PLAYLIST | 2021년 수고했어. 2022년은 즐겁고 행복한 일들만 있을거야...</td>\n",
              "      <td>14</td>\n",
              "    </tr>\n",
              "    <tr>\n",
              "      <th>3</th>\n",
              "      <td>PLAYLIST | 가을바람 불어오는 갈대숲에서 가을분위기 딥(DEEP)하게 취하기🍁</td>\n",
              "      <td>10</td>\n",
              "    </tr>\n",
              "    <tr>\n",
              "      <th>4</th>\n",
              "      <td>PLAYLIST | 청소기 잠깐 돌리려다 대청소하게 되는 신나는 플레이리스트 광고없...</td>\n",
              "      <td>8</td>\n",
              "    </tr>\n",
              "    <tr>\n",
              "      <th>5</th>\n",
              "      <td>PLAYLIST | 프로젝트 시작 전 자존감 급속충전</td>\n",
              "      <td>7</td>\n",
              "    </tr>\n",
              "    <tr>\n",
              "      <th>6</th>\n",
              "      <td>PLAYLIST | 여름휴가 놓친 나를 위한 사무실 휴가지 만드는 플리🎵</td>\n",
              "      <td>6</td>\n",
              "    </tr>\n",
              "    <tr>\n",
              "      <th>7</th>\n",
              "      <td>PLAYLIST | 영화 다시 찾아보게 만드는 카라멜팝콘 같은 사운드트랙(영화 OS...</td>\n",
              "      <td>6</td>\n",
              "    </tr>\n",
              "    <tr>\n",
              "      <th>8</th>\n",
              "      <td>PLAYLIST | 봄 드라이브 갈 때 조수석 준비물은 이걸로 끝. 광고없는 봄 감...</td>\n",
              "      <td>5</td>\n",
              "    </tr>\n",
              "    <tr>\n",
              "      <th>9</th>\n",
              "      <td>PLAYLIST | 지친 하루를 보내고 마음이 복잡할 때 날 위로하는 플레이리스트</td>\n",
              "      <td>4</td>\n",
              "    </tr>\n",
              "  </tbody>\n",
              "</table>\n",
              "</div>\n",
              "      <button class=\"colab-df-convert\" onclick=\"convertToInteractive('df-51074e7e-7d82-4ed6-be29-c141e8eec0b7')\"\n",
              "              title=\"Convert this dataframe to an interactive table.\"\n",
              "              style=\"display:none;\">\n",
              "        \n",
              "  <svg xmlns=\"http://www.w3.org/2000/svg\" height=\"24px\"viewBox=\"0 0 24 24\"\n",
              "       width=\"24px\">\n",
              "    <path d=\"M0 0h24v24H0V0z\" fill=\"none\"/>\n",
              "    <path d=\"M18.56 5.44l.94 2.06.94-2.06 2.06-.94-2.06-.94-.94-2.06-.94 2.06-2.06.94zm-11 1L8.5 8.5l.94-2.06 2.06-.94-2.06-.94L8.5 2.5l-.94 2.06-2.06.94zm10 10l.94 2.06.94-2.06 2.06-.94-2.06-.94-.94-2.06-.94 2.06-2.06.94z\"/><path d=\"M17.41 7.96l-1.37-1.37c-.4-.4-.92-.59-1.43-.59-.52 0-1.04.2-1.43.59L10.3 9.45l-7.72 7.72c-.78.78-.78 2.05 0 2.83L4 21.41c.39.39.9.59 1.41.59.51 0 1.02-.2 1.41-.59l7.78-7.78 2.81-2.81c.8-.78.8-2.07 0-2.86zM5.41 20L4 18.59l7.72-7.72 1.47 1.35L5.41 20z\"/>\n",
              "  </svg>\n",
              "      </button>\n",
              "      \n",
              "  <style>\n",
              "    .colab-df-container {\n",
              "      display:flex;\n",
              "      flex-wrap:wrap;\n",
              "      gap: 12px;\n",
              "    }\n",
              "\n",
              "    .colab-df-convert {\n",
              "      background-color: #E8F0FE;\n",
              "      border: none;\n",
              "      border-radius: 50%;\n",
              "      cursor: pointer;\n",
              "      display: none;\n",
              "      fill: #1967D2;\n",
              "      height: 32px;\n",
              "      padding: 0 0 0 0;\n",
              "      width: 32px;\n",
              "    }\n",
              "\n",
              "    .colab-df-convert:hover {\n",
              "      background-color: #E2EBFA;\n",
              "      box-shadow: 0px 1px 2px rgba(60, 64, 67, 0.3), 0px 1px 3px 1px rgba(60, 64, 67, 0.15);\n",
              "      fill: #174EA6;\n",
              "    }\n",
              "\n",
              "    [theme=dark] .colab-df-convert {\n",
              "      background-color: #3B4455;\n",
              "      fill: #D2E3FC;\n",
              "    }\n",
              "\n",
              "    [theme=dark] .colab-df-convert:hover {\n",
              "      background-color: #434B5C;\n",
              "      box-shadow: 0px 1px 3px 1px rgba(0, 0, 0, 0.15);\n",
              "      filter: drop-shadow(0px 1px 2px rgba(0, 0, 0, 0.3));\n",
              "      fill: #FFFFFF;\n",
              "    }\n",
              "  </style>\n",
              "\n",
              "      <script>\n",
              "        const buttonEl =\n",
              "          document.querySelector('#df-51074e7e-7d82-4ed6-be29-c141e8eec0b7 button.colab-df-convert');\n",
              "        buttonEl.style.display =\n",
              "          google.colab.kernel.accessAllowed ? 'block' : 'none';\n",
              "\n",
              "        async function convertToInteractive(key) {\n",
              "          const element = document.querySelector('#df-51074e7e-7d82-4ed6-be29-c141e8eec0b7');\n",
              "          const dataTable =\n",
              "            await google.colab.kernel.invokeFunction('convertToInteractive',\n",
              "                                                     [key], {});\n",
              "          if (!dataTable) return;\n",
              "\n",
              "          const docLinkHtml = 'Like what you see? Visit the ' +\n",
              "            '<a target=\"_blank\" href=https://colab.research.google.com/notebooks/data_table.ipynb>data table notebook</a>'\n",
              "            + ' to learn more about interactive tables.';\n",
              "          element.innerHTML = '';\n",
              "          dataTable['output_type'] = 'display_data';\n",
              "          await google.colab.output.renderOutput(dataTable, element);\n",
              "          const docLink = document.createElement('div');\n",
              "          docLink.innerHTML = docLinkHtml;\n",
              "          element.appendChild(docLink);\n",
              "        }\n",
              "      </script>\n",
              "    </div>\n",
              "  </div>\n",
              "  "
            ]
          },
          "metadata": {},
          "execution_count": 17
        }
      ]
    },
    {
      "cell_type": "code",
      "source": [
        "df_copy = df.copy()\n",
        "df_copy['Video_title'] = df['Video_title'].str.slice(start=0, stop=20)"
      ],
      "metadata": {
        "id": "-gxS4Um5uE2_"
      },
      "execution_count": null,
      "outputs": []
    },
    {
      "cell_type": "markdown",
      "source": [
        "###matplot 한글 처리"
      ],
      "metadata": {
        "id": "sGb-qftcsClk"
      }
    },
    {
      "cell_type": "code",
      "source": [
        "!sudo apt-get install -y fonts-nanum\n",
        "!sudo fc-cache -fv\n",
        "!rm ~/.cache/matplotlib -rf"
      ],
      "metadata": {
        "id": "D60g5OfGsJBj"
      },
      "execution_count": null,
      "outputs": []
    },
    {
      "cell_type": "code",
      "source": [
        "import matplotlib.pyplot as plt\n",
        "\n",
        "plt.rc('font', family='NanumBarunGothic') "
      ],
      "metadata": {
        "id": "6Sr8fD54sJuh"
      },
      "execution_count": null,
      "outputs": []
    },
    {
      "cell_type": "code",
      "source": [
        "df_copy.set_index('Video_title', inplace=True)\n",
        "plt.rcParams[\"figure.figsize\"] = (20, 7)\n",
        "df_copy.plot.bar()\n",
        "plt.grid(axis='y')\n",
        "plt.xticks(rotation=20)"
      ],
      "metadata": {
        "colab": {
          "base_uri": "https://localhost:8080/",
          "height": 521
        },
        "id": "whYsdYnNuR_4",
        "outputId": "6f9786d1-b53a-44fe-e236-cc69b29a06f7"
      },
      "execution_count": null,
      "outputs": [
        {
          "output_type": "execute_result",
          "data": {
            "text/plain": [
              "(array([0, 1, 2, 3, 4, 5, 6, 7, 8, 9]),\n",
              " <a list of 10 Text major ticklabel objects>)"
            ]
          },
          "metadata": {},
          "execution_count": 19
        },
        {
          "output_type": "display_data",
          "data": {
            "text/plain": [
              "<Figure size 1440x504 with 1 Axes>"
            ],
            "image/png": "[encoded data removed]"
          },
          "metadata": {
            "needs_background": "light"
          }
        }
      ]
    },
    {
      "cell_type": "code",
      "source": [
        ""
      ],
      "metadata": {
        "id": "fP6Ww98Np60H"
      },
      "execution_count": null,
      "outputs": []
    }
  ]
}