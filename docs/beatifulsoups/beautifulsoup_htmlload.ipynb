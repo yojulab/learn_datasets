{
 "cells": [
  {
   "cell_type": "code",
   "execution_count": 2,
   "id": "55a9274e",
   "metadata": {},
   "outputs": [
    {
     "name": "stdout",
     "output_type": "stream",
     "text": [
      "Collecting bs4\n",
      "  Downloading bs4-0.0.1.tar.gz (1.1 kB)\n",
      "Requirement already satisfied: beautifulsoup4 in c:\\python\\python36\\lib\\site-packages (from bs4) (4.9.3)\n",
      "Requirement already satisfied: soupsieve>1.2 in c:\\python\\python36\\lib\\site-packages (from beautifulsoup4->bs4) (2.2.1)\n",
      "Using legacy 'setup.py install' for bs4, since package 'wheel' is not installed.\n",
      "Installing collected packages: bs4\n",
      "    Running setup.py install for bs4: started\n",
      "    Running setup.py install for bs4: finished with status 'done'\n",
      "Successfully installed bs4-0.0.1\n"
     ]
    }
   ],
   "source": [
    "!python -m pip install bs4"
   ]
  },
  {
   "cell_type": "code",
   "execution_count": 3,
   "id": "9687c251",
   "metadata": {},
   "outputs": [],
   "source": [
    "%load_ext autoreload\n",
    "%autoreload 2"
   ]
  },
  {
   "cell_type": "code",
   "execution_count": 4,
   "id": "bf9f3560",
   "metadata": {},
   "outputs": [],
   "source": [
    "from bs4 import BeautifulSoup"
   ]
  },
  {
   "cell_type": "code",
   "execution_count": 5,
   "id": "26ca07df",
   "metadata": {},
   "outputs": [],
   "source": [
    "html = '<html><p>first string</p></html>'"
   ]
  },
  {
   "cell_type": "code",
   "execution_count": 7,
   "id": "f319065b",
   "metadata": {},
   "outputs": [],
   "source": [
    "bs = BeautifulSoup(html)"
   ]
  },
  {
   "cell_type": "code",
   "execution_count": 11,
   "id": "9b53b283",
   "metadata": {},
   "outputs": [
    {
     "data": {
      "text/plain": [
       "(bs4.BeautifulSoup, bs4.element.Tag)"
      ]
     },
     "execution_count": 11,
     "metadata": {},
     "output_type": "execute_result"
    }
   ],
   "source": [
    "type(bs), type(bs.p)"
   ]
  },
  {
   "cell_type": "code",
   "execution_count": 14,
   "id": "f8af8314",
   "metadata": {},
   "outputs": [
    {
     "name": "stdout",
     "output_type": "stream",
     "text": [
      " C 드라이브의 볼륨에는 이름이 없습니다.\n",
      " 볼륨 일련 번호: 78D5-6279\n",
      "\n",
      " C:\\Develops\\test_webscraping\\datas\files 디렉터리\n",
      "\n",
      "2021-06-24  오후 01:54                57 sample01.html\n",
      "               1개 파일                  57 바이트\n",
      "               0개 디렉터리  207,633,473,536 바이트 남음\n"
     ]
    }
   ],
   "source": [
    "!dir .\\datas\files\\sample01.html"
   ]
  },
  {
   "cell_type": "code",
   "execution_count": 17,
   "id": "ad1fccd6",
   "metadata": {},
   "outputs": [],
   "source": [
    "path = './datas\files/sample01.html'\n",
    "bs = BeautifulSoup(path)"
   ]
  },
  {
   "cell_type": "code",
   "execution_count": 18,
   "id": "dd480e69",
   "metadata": {},
   "outputs": [],
   "source": [
    "import requests"
   ]
  },
  {
   "cell_type": "code",
   "execution_count": 19,
   "id": "976971eb",
   "metadata": {},
   "outputs": [],
   "source": [
    "req = requests.get('https://www.google.com/')"
   ]
  },
  {
   "cell_type": "code",
   "execution_count": 20,
   "id": "dced21a0",
   "metadata": {},
   "outputs": [
    {
     "data": {
      "text/plain": [
       "200"
      ]
     },
     "execution_count": 20,
     "metadata": {},
     "output_type": "execute_result"
    }
   ],
   "source": [
    "req.status_code"
   ]
  },
  {
   "cell_type": "code",
   "execution_count": 21,
   "id": "b9257df1",
   "metadata": {},
   "outputs": [
    {
     "data": {
      "text/plain": [
       "b'<!doctype html><html itemscope=\"\" itemtype=\"http://schema.org/WebPage\" lang=\"ko\"><head><meta content=\"text/html; charset=UTF-8\" http-equiv=\"Content-Type\"><meta content=\"/images/branding/googleg/1x/googleg_standard_color_128dp.png\" itemprop=\"image\"><title>Google</title><script nonce=\"+0IIxQLD2WBu84dywtGIdQ==\">(function(){window.google={kEI:\\'BRfUYIruDumFr7wP39GPyAo\\',kEXPI:\\'0,772215,1,530320,56873,954,5104,207,4804,2316,383,246,5,1354,5251,16231,10,1106274,1197738,514,30,328985,51224,16114,6057,22627,17572,4858,1362,9290,3022,2823,14764,4020,978,13228,3847,4192,6430,14528,4517,2777,919,2372,2709,1593,1279,2212,532,147,1103,840,6297,4120,2023,1777,520,14670,3228,2844,7,12354,5096,7876,4929,108,3408,907,2,941,2614,2397,10745,3,346,230,6459,149,5991,7984,4,1252,276,2304,1236,5227,576,4684,2014,4,18371,2658,4243,2458,655,31,13628,2305,638,1494,619,4967,10535,665,5824,2533,2048,2046,18,2239,881,6,613,295,3,3541,1,14710,1814,283,38,874,5992,6754,432,552,4788,2,1394,1390,1416,712,1003,2,3057,2017,521,2,1,3,3170,453,1997,2801,1931,627,905,1453,926,91,2201,129,1275,4172,406,1576,3,512,1606,171,1002,2586,1807,58,100,2,363,677,1160,2292,214,28,537,1624,2,603,1400,176,830,434,937,617,783,178,1143,3673,368,2,299,204,3,37,88,1476,191,596,138,1569,645,423,253,54,16,1448,319,2068,530,219,38,585,240,1313,77,955,434,2,6,65,2,6,24,218,1,730,1515,235,68,241,228,1456,5,70,103,132,747,857,1745,315,103,1148,5621429,3893,194,32,63,155,2,58,5996810,47,2800650,882,444,1,2,80,1,1796,1,9,2,2551,1,748,141,801,557,1,4265,1,1,2,1331,3299,843,2609,155,17,13,72,139,4,2,20,2,169,13,19,46,5,39,96,548,29,2,2,1,2,1,2,2,7,4,1,2,2,2,2,2,2,353,380,6,33,8,86,176,25,31,2,2,2,2,2,9,9,2,9,2,4,27,23955059,2867254,1143019,268,1835,26467,2,2374,3,120,3,6,338,3,1010,444,886,74,920,1,275\\',kBL:\\'agTH\\'};google.sn=\\'webhp\\';google.kHL=\\'ko\\';})();(function(){\\nvar f=this||self;var h,k=[];function l(a){for(var b;a&&(!a.getAttribute||!(b=a.getAttribute(\"eid\")));)a=a.parentNode;return b||h}function m(a){for(var b=null;a&&(!a.getAttribute||!(b=a.getAttribute(\"leid\")));)a=a.parentNode;return b}\\nfunction n(a,b,c,d,g){var e=\"\";c||-1!==b.search(\"&ei=\")||(e=\"&ei=\"+l(d),-1===b.search(\"&lei=\")&&(d=m(d))&&(e+=\"&lei=\"+d));d=\"\";!c&&f._cshid&&-1===b.search(\"&cshid=\")&&\"slh\"!==a&&(d=\"&cshid=\"+f._cshid);c=c||\"/\"+(g||\"gen_204\")+\"?atyp=i&ct=\"+a+\"&cad=\"+b+e+\"&zx=\"+Date.now()+d;/^http:/i.test(c)&&\"https:\"===window.location.protocol&&(google.ml&&google.ml(Error(\"a\"),!1,{src:c,glmm:1}),c=\"\");return c};h=google.kEI;google.getEI=l;google.getLEI=m;google.ml=function(){return null};google.log=function(a,b,c,d,g){if(c=n(a,b,c,d,g)){a=new Image;var e=k.length;k[e]=a;a.onerror=a.onload=a.onabort=function(){delete k[e]};a.src=c}};google.logUrl=n;}).call(this);(function(){\\ngoogle.y={};google.sy=[];google.x=function(a,b){if(a)var c=a.id;else{do c=Math.random();while(google.y[c])}google.y[c]=[a,b];return!1};google.sx=function(a){google.sy.push(a)};google.lm=[];google.plm=function(a){google.lm.push.apply(google.lm,a)};google.lq=[];google.load=function(a,b,c){google.lq.push([[a],b,c])};google.loadAll=function(a,b){google.lq.push([a,b])};google.bx=!1;google.lx=function(){};}).call(this);google.f={};(function(){\\ndocument.documentElement.addEventListener(\"submit\",function(b){var a;if(a=b.target){var c=a.getAttribute(\"data-submitfalse\");a=\"1\"==c||\"q\"==c&&!a.elements.q.value?!0:!1}else a=!1;a&&(b.preventDefault(),b.stopPropagation())},!0);document.documentElement.addEventListener(\"click\",function(b){var a;a:{for(a=b.target;a&&a!=document.documentElement;a=a.parentElement)if(\"A\"==a.tagName){a=\"1\"==a.getAttribute(\"data-nohref\");break a}a=!1}a&&b.preventDefault()},!0);}).call(this);</script><style>#gbar,#guser{font-size:13px;padding-top:1px !important;}#gbar{height:22px}#guser{padding-bottom:7px !important;text-align:right}.gbh,.gbd{border-top:1px solid #c9d7f1;font-size:1px}.gbh{height:0;position:absolute;top:24px;width:100%}@media all{.gb1{height:22px;margin-right:.5em;vertical-align:top}#gbar{float:left}}a.gb1,a.gb4{text-decoration:underline !important}a.gb1,a.gb4{color:#00c !important}.gbi .gb4{color:#dd8e27 !important}.gbf .gb4{color:#900 !important}\\n</style><style>body,td,a,p,.h{font-family:&#44404;&#47548;,&#46027;&#50880;,arial,sans-serif}.ko{font-size:9pt}body{margin:0;overflow-y:scroll}#gog{padding:3px 8px 0}td{line-height:.8em}.gac_m td{line-height:17px}form{margin-bottom:20px}.h{color:#1558d6}em{font-weight:bold;font-style:normal}.lst{height:25px;width:496px}.gsfi,.lst{font:18px arial,sans-serif}.gsfs{font:17px arial,sans-serif}.ds{display:inline-box;display:inline-block;margin:3px 0 4px;margin-left:4px}input{font-family:inherit}body{background:#fff;color:#000}a{color:#4b11a8;text-decoration:none}a:hover,a:active{text-decoration:underline}.fl a{color:#1558d6}a:visited{color:#4b11a8}.sblc{padding-top:5px}.sblc a{display:block;margin:2px 0;margin-left:13px;font-size:11px}.lsbb{background:#f8f9fa;border:solid 1px;border-color:#dadce0 #70757a #70757a #dadce0;height:30px}.lsbb{display:block}#WqQANb a{display:inline-block;margin:0 12px}.lsb{background:url(/images/nav_logo229.png) 0 -261px repeat-x;border:none;color:#000;cursor:pointer;height:30px;margin:0;outline:0;font:15px arial,sans-serif;vertical-align:top}.lsb:active{background:#dadce0}.lst:focus{outline:none}.tiah{width:458px}</style><script nonce=\"+0IIxQLD2WBu84dywtGIdQ==\"></script></head><body bgcolor=\"#fff\"><script nonce=\"+0IIxQLD2WBu84dywtGIdQ==\">(function(){var src=\\'/images/nav_logo229.png\\';var iesg=false;document.body.onload = function(){window.n && window.n();if (document.images){new Image().src=src;}\\nif (!iesg){document.f&&document.f.q.focus();document.gbqf&&document.gbqf.q.focus();}\\n}\\n})();</script><div id=\"mngb\"><div id=gbar><nobr><b class=gb1>&#44160;&#49353;</b> <a class=gb1 href=\"https://www.google.co.kr/imghp?hl=ko&tab=wi\">&#51060;&#48120;&#51648;</a> <a class=gb1 href=\"https://maps.google.co.kr/maps?hl=ko&tab=wl\">&#51648;&#46020;</a> <a class=gb1 href=\"https://play.google.com/?hl=ko&tab=w8\">Play</a> <a class=gb1 href=\"https://www.youtube.com/?gl=KR&tab=w1\">YouTube</a> <a class=gb1 href=\"https://news.google.com/?tab=wn\">&#45684;&#49828;</a> <a class=gb1 href=\"https://mail.google.com/mail/?tab=wm\">Gmail</a> <a class=gb1 href=\"https://drive.google.com/?tab=wo\">&#46300;&#46972;&#51060;&#48652;</a> <a class=gb1 style=\"text-decoration:none\" href=\"https://www.google.co.kr/intl/ko/about/products?tab=wh\"><u>&#45908;&#48372;&#44592;</u> &raquo;</a></nobr></div><div id=guser width=100%><nobr><span id=gbn class=gbi></span><span id=gbf class=gbf></span><span id=gbe></span><a href=\"http://www.google.co.kr/history/optout?hl=ko\" class=gb4>&#50937; &#44592;&#47197;</a> | <a  href=\"/preferences?hl=ko\" class=gb4>&#49444;&#51221;</a> | <a target=_top id=gb_70 href=\"https://accounts.google.com/ServiceLogin?hl=ko&passive=true&continue=https://www.google.com/&ec=GAZAAQ\" class=gb4>&#47196;&#44536;&#51064;</a></nobr></div><div class=gbh style=left:0></div><div class=gbh style=right:0></div></div><center><br clear=\"all\" id=\"lgpd\"><div id=\"lga\"><img alt=\"Google\" height=\"92\" src=\"/images/branding/googlelogo/1x/googlelogo_white_background_color_272x92dp.png\" style=\"padding:28px 0 14px\" width=\"272\" id=\"hplogo\"><br><br></div><form action=\"/search\" name=\"f\"><table cellpadding=\"0\" cellspacing=\"0\"><tr valign=\"top\"><td width=\"25%\">&nbsp;</td><td align=\"center\" nowrap=\"\"><input name=\"ie\" value=\"ISO-8859-1\" type=\"hidden\"><input value=\"ko\" name=\"hl\" type=\"hidden\"><input name=\"source\" type=\"hidden\" value=\"hp\"><input name=\"biw\" type=\"hidden\"><input name=\"bih\" type=\"hidden\"><div class=\"ds\" style=\"height:32px;margin:4px 0\"><div style=\"position:relative;zoom:1\"><input class=\"lst tiah\" style=\"margin:0;padding:5px 8px 0 6px;vertical-align:top;color:#000;padding-right:38px\" autocomplete=\"off\" value=\"\" title=\"Google &#44160;&#49353;\" maxlength=\"2048\" name=\"q\" size=\"57\"><img src=\"/textinputassistant/tia.png\" style=\"position:absolute;cursor:pointer;right:5px;top:4px;z-index:300\" data-script-url=\"/textinputassistant/11/ko_tia.js\" id=\"tsuid1\" alt=\"\" height=\"23\" width=\"27\"><script nonce=\"+0IIxQLD2WBu84dywtGIdQ==\">(function(){var id=\\'tsuid1\\';document.getElementById(id).onclick = function(){var s = document.createElement(\\'script\\');s.src = this.getAttribute(\\'data-script-url\\');(document.getElementById(\\'xjsc\\')||document.body).appendChild(s);};})();</script></div></div><br style=\"line-height:0\"><span class=\"ds\"><span class=\"lsbb\"><input class=\"lsb\" value=\"Google &#44160;&#49353;\" name=\"btnG\" type=\"submit\"></span></span><span class=\"ds\"><span class=\"lsbb\"><input class=\"lsb\" id=\"tsuid2\" value=\"I&#8217;m Feeling Lucky\" name=\"btnI\" type=\"submit\"><script nonce=\"+0IIxQLD2WBu84dywtGIdQ==\">(function(){var id=\\'tsuid2\\';document.getElementById(id).onclick = function(){if (this.form.q.value){this.checked = 1;if (this.form.iflsig)this.form.iflsig.disabled = false;}\\nelse top.location=\\'/doodles/\\';};})();</script><input value=\"AINFCbYAAAAAYNQlFQ_13cAjCnf-PAZndF4hBl4-Uxk2\" name=\"iflsig\" type=\"hidden\"></span></span></td><td class=\"fl sblc\" align=\"left\" nowrap=\"\" width=\"25%\"><a href=\"/advanced_search?hl=ko&amp;authuser=0\">&#44256;&#44553;&#44160;&#49353;</a></td></tr></table><input id=\"gbv\" name=\"gbv\" type=\"hidden\" value=\"1\"><script nonce=\"+0IIxQLD2WBu84dywtGIdQ==\">(function(){\\nvar a,b=\"1\";if(document&&document.getElementById)if(\"undefined\"!=typeof XMLHttpRequest)b=\"2\";else if(\"undefined\"!=typeof ActiveXObject){var c,d,e=[\"MSXML2.XMLHTTP.6.0\",\"MSXML2.XMLHTTP.3.0\",\"MSXML2.XMLHTTP\",\"Microsoft.XMLHTTP\"];for(c=0;d=e[c++];)try{new ActiveXObject(d),b=\"2\"}catch(h){}}a=b;if(\"2\"==a&&-1==location.search.indexOf(\"&gbv=2\")){var f=google.gbvu,g=document.getElementById(\"gbv\");g&&(g.value=a);f&&window.setTimeout(function(){location.href=f},0)};}).call(this);</script></form><div id=\"gac_scont\"></div><div style=\"font-size:83%;min-height:3.5em\"><br></div><span id=\"footer\"><div style=\"font-size:10pt\"><div style=\"margin:19px auto;text-align:center\" id=\"WqQANb\"><a href=\"/intl/ko/ads/\">&#44305;&#44256; &#54532;&#47196;&#44536;&#47016;</a><a href=\"http://www.google.co.kr/intl/ko/services/\">&#48708;&#51592;&#45768;&#49828; &#49556;&#47336;&#49496;</a><a href=\"/intl/ko/about.html\">Google &#51221;&#48372;</a><a href=\"https://www.google.com/setprefdomain?prefdom=KR&amp;prev=https://www.google.co.kr/&amp;sig=K_NurXfrptqgvropVviCVjXtYZcoI%3D\">Google.co.kr</a></div></div><p style=\"font-size:8pt;color:#70757a\">&copy; 2021 - <a href=\"/intl/ko/policies/privacy/\">&#44060;&#51064;&#51221;&#48372;&#52376;&#47532;&#48169;&#52840;</a> - <a href=\"/intl/ko/policies/terms/\">&#50557;&#44288;</a></p></span></center><script nonce=\"+0IIxQLD2WBu84dywtGIdQ==\">(function(){window.google.cdo={height:0,width:0};(function(){\\nvar a=window.innerWidth,b=window.innerHeight;if(!a||!b){var c=window.document,d=\"CSS1Compat\"==c.compatMode?c.documentElement:c.body;a=d.clientWidth;b=d.clientHeight}a&&b&&(a!=google.cdo.width||b!=google.cdo.height)&&google.log(\"\",\"\",\"/client_204?&atyp=i&biw=\"+a+\"&bih=\"+b+\"&ei=\"+google.kEI);}).call(this);})();</script> <script nonce=\"+0IIxQLD2WBu84dywtGIdQ==\">(function(){google.xjs={ck:\\'\\',cs:\\'\\',excm:[],pml:false};})();</script>  <script nonce=\"+0IIxQLD2WBu84dywtGIdQ==\">(function(){var u=\\'/xjs/_/js/k\\\\x3dxjs.hp.en.bNRncfKZN5g.O/m\\\\x3dsb_he,d/am\\\\x3dAHgCLA/d\\\\x3d1/ed\\\\x3d1/rs\\\\x3dACT90oFl-HySFMZvEoQrPEJNgqPeHOlmnA\\';\\nvar e=this||self,f=function(a){return a};var g;var l=function(a,b){this.g=b===h?a:\"\"};l.prototype.toString=function(){return this.g+\"\"};var h={};function m(){var a=u;google.lx=function(){n(a);google.lx=function(){}};google.bx||google.lx()}\\nfunction n(a){google.timers&&google.timers.load&&google.tick&&google.tick(\"load\",\"xjsls\");var b=document;var c=\"SCRIPT\";\"application/xhtml+xml\"===b.contentType&&(c=c.toLowerCase());c=b.createElement(c);if(void 0===g){b=null;var k=e.trustedTypes;if(k&&k.createPolicy){try{b=k.createPolicy(\"goog#html\",{createHTML:f,createScript:f,createScriptURL:f})}catch(p){e.console&&e.console.error(p.message)}g=b}else g=b}a=(b=g)?b.createScriptURL(a):a;a=new l(a,h);c.src=a instanceof l&&a.constructor===l?a.g:\"type_error:TrustedResourceUrl\";var d;a=(c.ownerDocument&&c.ownerDocument.defaultView||window).document;(d=(a=null===(d=a.querySelector)||void 0===d?void 0:d.call(a,\"script[nonce]\"))?a.nonce||a.getAttribute(\"nonce\")||\"\":\"\")&&c.setAttribute(\"nonce\",d);document.body.appendChild(c);google.psa=!0};setTimeout(function(){m()},0);})();(function(){window.google.xjsu=\\'/xjs/_/js/k\\\\x3dxjs.hp.en.bNRncfKZN5g.O/m\\\\x3dsb_he,d/am\\\\x3dAHgCLA/d\\\\x3d1/ed\\\\x3d1/rs\\\\x3dACT90oFl-HySFMZvEoQrPEJNgqPeHOlmnA\\';})();function _DumpException(e){throw e;}\\nfunction _F_installCss(c){}\\n(function(){google.jl={attn:false,blt:\\'none\\',dw:false,emtn:0,ine:false,lls:\\'default\\',pdt:0,snet:true,ubm:false,uwp:true};})();(function(){var pmc=\\'{\\\\x22d\\\\x22:{},\\\\x22sb_he\\\\x22:{\\\\x22agen\\\\x22:true,\\\\x22cgen\\\\x22:true,\\\\x22client\\\\x22:\\\\x22heirloom-hp\\\\x22,\\\\x22dh\\\\x22:true,\\\\x22dhqt\\\\x22:true,\\\\x22ds\\\\x22:\\\\x22\\\\x22,\\\\x22ffql\\\\x22:\\\\x22ko\\\\x22,\\\\x22fl\\\\x22:true,\\\\x22host\\\\x22:\\\\x22google.com\\\\x22,\\\\x22isbh\\\\x22:28,\\\\x22jsonp\\\\x22:true,\\\\x22msgs\\\\x22:{\\\\x22cibl\\\\x22:\\\\x22&#44160;&#49353;&#50612; &#51648;&#50864;&#44592;\\\\x22,\\\\x22dym\\\\x22:\\\\x22&#51060;&#44163;&#51012; &#52286;&#51004;&#49512;&#45208;&#50836;?\\\\x22,\\\\x22lcky\\\\x22:\\\\x22I&#8217;m Feeling Lucky\\\\x22,\\\\x22lml\\\\x22:\\\\x22&#51088;&#49464;&#55176; &#50508;&#50500;&#48372;&#44592;\\\\x22,\\\\x22oskt\\\\x22:\\\\x22&#51077;&#47141; &#46020;&#44396;\\\\x22,\\\\x22psrc\\\\x22:\\\\x22&#44160;&#49353;&#50612;&#44032; \\\\\\\\u003Ca href\\\\x3d\\\\\\\\\\\\x22/history\\\\\\\\\\\\x22\\\\\\\\u003E&#50937; &#44592;&#47197;\\\\\\\\u003C/a\\\\\\\\u003E&#50640;&#49436; &#49325;&#51228;&#46104;&#50632;&#49845;&#45768;&#45796;.\\\\x22,\\\\x22psrl\\\\x22:\\\\x22&#49325;&#51228;\\\\x22,\\\\x22sbit\\\\x22:\\\\x22&#51060;&#48120;&#51648;&#47196; &#44160;&#49353;\\\\x22,\\\\x22srch\\\\x22:\\\\x22Google &#44160;&#49353;\\\\x22},\\\\x22nrft\\\\x22:false,\\\\x22ovr\\\\x22:{},\\\\x22pq\\\\x22:\\\\x22\\\\x22,\\\\x22refpd\\\\x22:true,\\\\x22refspre\\\\x22:true,\\\\x22rfs\\\\x22:[],\\\\x22sbas\\\\x22:\\\\x220 3px 8px 0 rgba(0,0,0,0.2),0 0 0 1px rgba(0,0,0,0.08)\\\\x22,\\\\x22sbpl\\\\x22:16,\\\\x22sbpr\\\\x22:16,\\\\x22scd\\\\x22:10,\\\\x22stok\\\\x22:\\\\x22Mn2ehimLy3qvyBJDo3KPVghgL0Y\\\\x22,\\\\x22uhde\\\\x22:false}}\\';google.pmc=JSON.parse(pmc);})();</script>        </body></html>'"
      ]
     },
     "execution_count": 21,
     "metadata": {},
     "output_type": "execute_result"
    }
   ],
   "source": [
    "req.content"
   ]
  },
  {
   "cell_type": "code",
   "execution_count": null,
   "id": "3f04b01f",
   "metadata": {},
   "outputs": [],
   "source": []
  },
  {
   "cell_type": "code",
   "execution_count": null,
   "id": "3496e7ec",
   "metadata": {},
   "outputs": [],
   "source": []
  },
  {
   "cell_type": "code",
   "execution_count": null,
   "id": "357f06c7",
   "metadata": {},
   "outputs": [],
   "source": []
  }
 ],
 "metadata": {
  "kernelspec": {
   "display_name": "Python 3",
   "language": "python",
   "name": "python3"
  },
  "language_info": {
   "codemirror_mode": {
    "name": "ipython",
    "version": 3
   },
   "file_extension": ".py",
   "mimetype": "text/x-python",
   "name": "python",
   "nbconvert_exporter": "python",
   "pygments_lexer": "ipython3",
   "version": "3.6.4"
  }
 },
 "nbformat": 4,
 "nbformat_minor": 5
}
