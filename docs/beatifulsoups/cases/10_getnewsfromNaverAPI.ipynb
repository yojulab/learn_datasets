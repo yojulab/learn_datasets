{
  "nbformat": 4,
  "nbformat_minor": 0,
  "metadata": {
    "kernelspec": {
      "display_name": "Python 3",
      "language": "python",
      "name": "python3"
    },
    "language_info": {
      "codemirror_mode": {
        "name": "ipython",
        "version": 3
      },
      "file_extension": ".py",
      "mimetype": "text/x-python",
      "name": "python",
      "nbconvert_exporter": "python",
      "pygments_lexer": "ipython3",
      "version": "3.7.3"
    },
    "colab": {
      "name": "10_getnewsfromNaverAPI.ipynb",
      "provenance": [],
      "include_colab_link": true
    }
  },
  "cells": [
    {
      "cell_type": "markdown",
      "metadata": {
        "id": "view-in-github",
        "colab_type": "text"
      },
      "source": [
        "<a href=\"https://colab.research.google.com/github/SanghunOh/with_webscraping/blob/main/codes/beatifulsoups/cases/10_getnewsfromNaverAPI.ipynb\" target=\"_parent\"><img src=\"https://colab.research.google.com/assets/colab-badge.svg\" alt=\"Open In Colab\"/></a>"
      ]
    },
    {
      "cell_type": "markdown",
      "metadata": {
        "id": "Fqrm4MKYSTk7"
      },
      "source": [
        "# 실습2. 크롤링"
      ]
    },
    {
      "cell_type": "markdown",
      "metadata": {
        "id": "CQGBnYOUSTlA"
      },
      "source": [
        "1.  reuqest.get으로 스크래핑\n",
        "1.  임의의 header를 넣어준다\n",
        "1. json으로 tag 정렬"
      ]
    },
    {
      "cell_type": "code",
      "metadata": {
        "id": "VLOpAugYSTlC"
      },
      "source": [
        "import requests\n",
        "from bs4 import BeautifulSoup\n",
        "import pandas as pd\n",
        "import json"
      ],
      "execution_count": 1,
      "outputs": []
    },
    {
      "cell_type": "code",
      "metadata": {
        "id": "_NPwQ1iISTlJ"
      },
      "source": [
        "url = 'https://openapi.naver.com/v1/search/news.json?query=스마트'\n",
        "\n",
        "# 다음은 header를 검사하므로 임의의 header를 넣어줌\n",
        "header = {'X-Naver-Client-Id': '4zjZ2m1cpG8bsWtiVx0X',\n",
        "          'X-Naver-Client-Secret' : 'yPdLCpxrca'}"
      ],
      "execution_count": 2,
      "outputs": []
    },
    {
      "cell_type": "code",
      "metadata": {
        "id": "AhpVPrypSTlQ",
        "outputId": "e08708bf-0e0e-4df5-f4ce-f2c8eb577f0c",
        "colab": {
          "base_uri": "https://localhost:8080/"
        }
      },
      "source": [
        "r3 = requests.get(url, headers = header) # headers 인자로 fake 접속하기\n",
        "r3.status_code"
      ],
      "execution_count": 3,
      "outputs": [
        {
          "output_type": "execute_result",
          "data": {
            "text/plain": [
              "200"
            ]
          },
          "metadata": {},
          "execution_count": 3
        }
      ]
    },
    {
      "cell_type": "code",
      "metadata": {
        "id": "KgF6hVErSTlZ",
        "outputId": "c9ec63d1-23f7-41cc-87c1-c5fb759b263d",
        "colab": {
          "base_uri": "https://localhost:8080/"
        }
      },
      "source": [
        "r3.text, type(r3.text)"
      ],
      "execution_count": 4,
      "outputs": [
        {
          "output_type": "execute_result",
          "data": {
            "text/plain": [
              "('{\\n\\t\"lastBuildDate\":\"Mon, 04 Jul 2022 18:00:17 +0900\",\\n\\t\"total\":5564209,\\n\\t\"start\":1,\\n\\t\"display\":10,\\n\\t\"items\":[\\n\\t\\t{\\n\\t\\t\\t\"title\":\"김충섭 김천시장 &quot;일자리 창출·우량기업 유치하겠다&quot;\",\\n\\t\\t\\t\"originallink\":\"http:\\\\/\\\\/www.newsis.com\\\\/view\\\\/?id=NISX20220704_0001930850&cID=10810&pID=10800\",\\n\\t\\t\\t\"link\":\"https:\\\\/\\\\/n.news.naver.com\\\\/mnews\\\\/article\\\\/003\\\\/0011284847?sid=102\",\\n\\t\\t\\t\"description\":\"김 시장은 &quot;남부내륙철도, 대구권 광역전철 김천 연장 등전국을 아우르는 십자축 광역철도 구축, <b>스마트<\\\\/b> 그린물류 규제특구 조성에도 행정력을 집중하겠다&quot;고 했다. 그러면서 &quot;앞으로 4년은 김천의 도시 브랜드 가치를... \",\\n\\t\\t\\t\"pubDate\":\"Mon, 04 Jul 2022 17:58:00 +0900\"\\n\\t\\t},\\n\\t\\t{\\n\\t\\t\\t\"title\":\"KT, 2022 국제안전보건전시회 참가....AI 가상펜스 등 특화 기술 10종 선보여\",\\n\\t\\t\\t\"originallink\":\"http:\\\\/\\\\/www.worktoday.co.kr\\\\/news\\\\/articleView.html?idxno=26492\",\\n\\t\\t\\t\"link\":\"http:\\\\/\\\\/www.worktoday.co.kr\\\\/news\\\\/articleView.html?idxno=26492\",\\n\\t\\t\\t\"description\":\"기반 <b>스마트<\\\\/b> 안전모\\', 4종 센서로 화재 징후를 감지해 유사시 119에 자동으로 신고하는 \\'소방안전 DX 서비스\\' 등을 선보이고, 부스에서 산재 예방의 중요성을 일깨울 수 있는 각종 시연도 진행한다. 이 행사에는 전국 각... \",\\n\\t\\t\\t\"pubDate\":\"Mon, 04 Jul 2022 17:58:00 +0900\"\\n\\t\\t},\\n\\t\\t{\\n\\t\\t\\t\"title\":\"[인사] 한양대 외\",\\n\\t\\t\\t\"originallink\":\"http:\\\\/\\\\/www.readersnews.com\\\\/news\\\\/articleView.html?idxno=106181\",\\n\\t\\t\\t\"link\":\"http:\\\\/\\\\/www.readersnews.com\\\\/news\\\\/articleView.html?idxno=106181\",\\n\\t\\t\\t\"description\":\"김차진 ■ <b>스마트<\\\\/b>에프엔 ▲ 건설부동산팀장 이하영 ■ 경상국립대 ▲ 도서관장 문선옥 ▲ 인재개발원장 조권구 ▲ 학생생활관장 송도선 ▲ 국제어학원장 권혁창 ▲ 출판부장 김경민 ▲ 인권센터장 남궁술... \",\\n\\t\\t\\t\"pubDate\":\"Mon, 04 Jul 2022 17:58:00 +0900\"\\n\\t\\t},\\n\\t\\t{\\n\\t\\t\\t\"title\":\"충북여성재단, 교육사업 수요 조사\",\\n\\t\\t\\t\"originallink\":\"https:\\\\/\\\\/www.ccdailynews.com\\\\/news\\\\/articleView.html?idxno=2140057\",\\n\\t\\t\\t\"link\":\"https:\\\\/\\\\/www.ccdailynews.com\\\\/news\\\\/articleView.html?idxno=2140057\",\\n\\t\\t\\t\"description\":\"재단 홈페이지(https:\\\\/\\\\/www.cbwf.re.kr)에 접속하거나 <b>스마트<\\\\/b>폰에서 구글 설문 링크(https:\\\\/\\\\/url.kr\\\\/nym58w)를 통해 작성 후 제출하면 된다. 참여자 중 100명에게 소정의 기프티콘이 제공된다. 지난 2017년 출범한 재단은 충북의... \",\\n\\t\\t\\t\"pubDate\":\"Mon, 04 Jul 2022 17:56:00 +0900\"\\n\\t\\t},\\n\\t\\t{\\n\\t\\t\\t\"title\":\"LG전자 \\'접근성 개선\\' 2030 ESG 전략 과제로 선정\",\\n\\t\\t\\t\"originallink\":\"https:\\\\/\\\\/www.dailyimpact.co.kr\\\\/news\\\\/articleView.html?idxno=81610\",\\n\\t\\t\\t\"link\":\"https:\\\\/\\\\/www.dailyimpact.co.kr\\\\/news\\\\/articleView.html?idxno=81610\",\\n\\t\\t\\t\"description\":\"회의 내용을 바탕으로 TV와 냉장고, 세탁기, <b>스마트<\\\\/b> 가전제품 등의 접근성을 개선하고 있다. 작년 5월에는 국내에서도 접근성 자문단을 발족했다. 장애인 접근성 전문가, 다양한 유형의 장애인으로 구성된 자문단을 통해... \",\\n\\t\\t\\t\"pubDate\":\"Mon, 04 Jul 2022 17:56:00 +0900\"\\n\\t\\t},\\n\\t\\t{\\n\\t\\t\\t\"title\":\"\\'단순하지 않다\\'…카카오모빌리티 매각설 둘러싼 경우의 수\",\\n\\t\\t\\t\"originallink\":\"http:\\\\/\\\\/www.edaily.co.kr\\\\/news\\\\/newspath.asp?newsid=02945446632391240\",\\n\\t\\t\\t\"link\":\"https:\\\\/\\\\/n.news.naver.com\\\\/mnews\\\\/article\\\\/018\\\\/0005259578?sid=101\",\\n\\t\\t\\t\"description\":\"소규모 대리운전 업체를 인수하며 골목상권을 침해한다는 지적이 잇따랐고 ‘<b>스마트<\\\\/b>호출’ 서비스 도입 이후 요금을 올리며 비난을 받기도 했다. 투자 유치로 몸집을 불린 뒤 IPO로 막을 내리는 ‘뜨거운 안녕’에... \",\\n\\t\\t\\t\"pubDate\":\"Mon, 04 Jul 2022 17:54:00 +0900\"\\n\\t\\t},\\n\\t\\t{\\n\\t\\t\\t\"title\":\"건강에 대한 모든 것,\\'2022 메디엑스포 코리아\\'역대급 성과\",\\n\\t\\t\\t\"originallink\":\"http:\\\\/\\\\/www.discoverynews.kr\\\\/news\\\\/articleView.html?idxno=832483\",\\n\\t\\t\\t\"link\":\"http:\\\\/\\\\/www.discoverynews.kr\\\\/news\\\\/articleView.html?idxno=832483\",\\n\\t\\t\\t\"description\":\"\\'건강 100세, <b>스마트<\\\\/b> 의료·헬스케어와 함께\\'를 주제로 열린 올해 행사는 \\'대한민국건강의료산업전\\', \\'KOAMEX... 한편 올해 메디엑스포 코리아는 첨단의료기기전을 신규 런칭해 <b>스마트<\\\\/b> 의료·헬스케어관을 조성하는 등... \",\\n\\t\\t\\t\"pubDate\":\"Mon, 04 Jul 2022 17:54:00 +0900\"\\n\\t\\t},\\n\\t\\t{\\n\\t\\t\\t\"title\":\"한싹, 창립 30주년 기념식 통해 새로운 비전 제시\",\\n\\t\\t\\t\"originallink\":\"http:\\\\/\\\\/www.cctvnews.co.kr\\\\/news\\\\/articleView.html?idxno=232850\",\\n\\t\\t\\t\"link\":\"http:\\\\/\\\\/www.cctvnews.co.kr\\\\/news\\\\/articleView.html?idxno=232850\",\\n\\t\\t\\t\"description\":\"또한 <b>스마트<\\\\/b>시티, <b>스마트<\\\\/b>공장, 자율주행차, 홈네트워크 등 ICT 융합 산업의 보안 위협 대응을 위한 사물인터넷(IoT), 운영 기술(OT) 관련 신규 보안 솔루션을 출시하고, 주요 정보 통신 기반 시설 등 보안등급이 높은... \",\\n\\t\\t\\t\"pubDate\":\"Mon, 04 Jul 2022 17:54:00 +0900\"\\n\\t\\t},\\n\\t\\t{\\n\\t\\t\\t\"title\":\"은행권, \\'기업대출\\'로 대출한파 뚫는다\",\\n\\t\\t\\t\"originallink\":\"http:\\\\/\\\\/www.econovill.com\\\\/news\\\\/articleView.html?idxno=580656\",\\n\\t\\t\\t\"link\":\"http:\\\\/\\\\/www.econovill.com\\\\/news\\\\/articleView.html?idxno=580656\",\\n\\t\\t\\t\"description\":\"우리은행은 지난 6월 30일 \\'네이버 <b>스마트<\\\\/b>플레이스 대출\\'을 출시했다. 네이버의 중소상공인 업체 정보 관리·운영 플랫폼인 \\'<b>스마트<\\\\/b>플레이스\\' 전용 대출상품으로, 여기엔 250만명의 소상공인 매장이 등록돼있다. 지난해... \",\\n\\t\\t\\t\"pubDate\":\"Mon, 04 Jul 2022 17:54:00 +0900\"\\n\\t\\t},\\n\\t\\t{\\n\\t\\t\\t\"title\":\"증권가, 올 삼성전자 영업익 전망 3조 하향…조선사, 컨선 발주 63% 급감\",\\n\\t\\t\\t\"originallink\":\"https:\\\\/\\\\/www.sedaily.com\\\\/NewsView\\\\/268E4FG3F9\",\\n\\t\\t\\t\"link\":\"https:\\\\/\\\\/n.news.naver.com\\\\/mnews\\\\/article\\\\/011\\\\/0004072453?sid=101\",\\n\\t\\t\\t\"description\":\"무엇보다 <b>스마트<\\\\/b>폰·가전 등 세트(완성품) 판매 부진이 실적의 발목을 잡은 것으로 풀이된다. 이 때문에 올... 마이크론 측은 세계 각국 <b>스마트<\\\\/b>폰·PC 판매량이 예상했던 것보다 감소하고 있어 매출 하락이 불가피할... \",\\n\\t\\t\\t\"pubDate\":\"Mon, 04 Jul 2022 17:53:00 +0900\"\\n\\t\\t}\\n\\t]\\n}',\n",
              " str)"
            ]
          },
          "metadata": {},
          "execution_count": 4
        }
      ]
    },
    {
      "cell_type": "code",
      "metadata": {
        "id": "sK6aNps_STlw",
        "colab": {
          "base_uri": "https://localhost:8080/"
        },
        "outputId": "a51e0c20-f126-445f-e2ff-1271b4dbb023"
      },
      "source": [
        "rt_dict = json.loads(r3.content)\n",
        "rt_dict"
      ],
      "execution_count": 5,
      "outputs": [
        {
          "output_type": "execute_result",
          "data": {
            "text/plain": [
              "{'display': 10,\n",
              " 'items': [{'description': '김 시장은 &quot;남부내륙철도, 대구권 광역전철 김천 연장 등전국을 아우르는 십자축 광역철도 구축, <b>스마트</b> 그린물류 규제특구 조성에도 행정력을 집중하겠다&quot;고 했다. 그러면서 &quot;앞으로 4년은 김천의 도시 브랜드 가치를... ',\n",
              "   'link': 'https://n.news.naver.com/mnews/article/003/0011284847?sid=102',\n",
              "   'originallink': 'http://www.newsis.com/view/?id=NISX20220704_0001930850&cID=10810&pID=10800',\n",
              "   'pubDate': 'Mon, 04 Jul 2022 17:58:00 +0900',\n",
              "   'title': '김충섭 김천시장 &quot;일자리 창출·우량기업 유치하겠다&quot;'},\n",
              "  {'description': \"기반 <b>스마트</b> 안전모', 4종 센서로 화재 징후를 감지해 유사시 119에 자동으로 신고하는 '소방안전 DX 서비스' 등을 선보이고, 부스에서 산재 예방의 중요성을 일깨울 수 있는 각종 시연도 진행한다. 이 행사에는 전국 각... \",\n",
              "   'link': 'http://www.worktoday.co.kr/news/articleView.html?idxno=26492',\n",
              "   'originallink': 'http://www.worktoday.co.kr/news/articleView.html?idxno=26492',\n",
              "   'pubDate': 'Mon, 04 Jul 2022 17:58:00 +0900',\n",
              "   'title': 'KT, 2022 국제안전보건전시회 참가....AI 가상펜스 등 특화 기술 10종 선보여'},\n",
              "  {'description': '김차진 ■ <b>스마트</b>에프엔 ▲ 건설부동산팀장 이하영 ■ 경상국립대 ▲ 도서관장 문선옥 ▲ 인재개발원장 조권구 ▲ 학생생활관장 송도선 ▲ 국제어학원장 권혁창 ▲ 출판부장 김경민 ▲ 인권센터장 남궁술... ',\n",
              "   'link': 'http://www.readersnews.com/news/articleView.html?idxno=106181',\n",
              "   'originallink': 'http://www.readersnews.com/news/articleView.html?idxno=106181',\n",
              "   'pubDate': 'Mon, 04 Jul 2022 17:58:00 +0900',\n",
              "   'title': '[인사] 한양대 외'},\n",
              "  {'description': '재단 홈페이지(https://www.cbwf.re.kr)에 접속하거나 <b>스마트</b>폰에서 구글 설문 링크(https://url.kr/nym58w)를 통해 작성 후 제출하면 된다. 참여자 중 100명에게 소정의 기프티콘이 제공된다. 지난 2017년 출범한 재단은 충북의... ',\n",
              "   'link': 'https://www.ccdailynews.com/news/articleView.html?idxno=2140057',\n",
              "   'originallink': 'https://www.ccdailynews.com/news/articleView.html?idxno=2140057',\n",
              "   'pubDate': 'Mon, 04 Jul 2022 17:56:00 +0900',\n",
              "   'title': '충북여성재단, 교육사업 수요 조사'},\n",
              "  {'description': '회의 내용을 바탕으로 TV와 냉장고, 세탁기, <b>스마트</b> 가전제품 등의 접근성을 개선하고 있다. 작년 5월에는 국내에서도 접근성 자문단을 발족했다. 장애인 접근성 전문가, 다양한 유형의 장애인으로 구성된 자문단을 통해... ',\n",
              "   'link': 'https://www.dailyimpact.co.kr/news/articleView.html?idxno=81610',\n",
              "   'originallink': 'https://www.dailyimpact.co.kr/news/articleView.html?idxno=81610',\n",
              "   'pubDate': 'Mon, 04 Jul 2022 17:56:00 +0900',\n",
              "   'title': \"LG전자 '접근성 개선' 2030 ESG 전략 과제로 선정\"},\n",
              "  {'description': '소규모 대리운전 업체를 인수하며 골목상권을 침해한다는 지적이 잇따랐고 ‘<b>스마트</b>호출’ 서비스 도입 이후 요금을 올리며 비난을 받기도 했다. 투자 유치로 몸집을 불린 뒤 IPO로 막을 내리는 ‘뜨거운 안녕’에... ',\n",
              "   'link': 'https://n.news.naver.com/mnews/article/018/0005259578?sid=101',\n",
              "   'originallink': 'http://www.edaily.co.kr/news/newspath.asp?newsid=02945446632391240',\n",
              "   'pubDate': 'Mon, 04 Jul 2022 17:54:00 +0900',\n",
              "   'title': \"'단순하지 않다'…카카오모빌리티 매각설 둘러싼 경우의 수\"},\n",
              "  {'description': \"'건강 100세, <b>스마트</b> 의료·헬스케어와 함께'를 주제로 열린 올해 행사는 '대한민국건강의료산업전', 'KOAMEX... 한편 올해 메디엑스포 코리아는 첨단의료기기전을 신규 런칭해 <b>스마트</b> 의료·헬스케어관을 조성하는 등... \",\n",
              "   'link': 'http://www.discoverynews.kr/news/articleView.html?idxno=832483',\n",
              "   'originallink': 'http://www.discoverynews.kr/news/articleView.html?idxno=832483',\n",
              "   'pubDate': 'Mon, 04 Jul 2022 17:54:00 +0900',\n",
              "   'title': \"건강에 대한 모든 것,'2022 메디엑스포 코리아'역대급 성과\"},\n",
              "  {'description': '또한 <b>스마트</b>시티, <b>스마트</b>공장, 자율주행차, 홈네트워크 등 ICT 융합 산업의 보안 위협 대응을 위한 사물인터넷(IoT), 운영 기술(OT) 관련 신규 보안 솔루션을 출시하고, 주요 정보 통신 기반 시설 등 보안등급이 높은... ',\n",
              "   'link': 'http://www.cctvnews.co.kr/news/articleView.html?idxno=232850',\n",
              "   'originallink': 'http://www.cctvnews.co.kr/news/articleView.html?idxno=232850',\n",
              "   'pubDate': 'Mon, 04 Jul 2022 17:54:00 +0900',\n",
              "   'title': '한싹, 창립 30주년 기념식 통해 새로운 비전 제시'},\n",
              "  {'description': \"우리은행은 지난 6월 30일 '네이버 <b>스마트</b>플레이스 대출'을 출시했다. 네이버의 중소상공인 업체 정보 관리·운영 플랫폼인 '<b>스마트</b>플레이스' 전용 대출상품으로, 여기엔 250만명의 소상공인 매장이 등록돼있다. 지난해... \",\n",
              "   'link': 'http://www.econovill.com/news/articleView.html?idxno=580656',\n",
              "   'originallink': 'http://www.econovill.com/news/articleView.html?idxno=580656',\n",
              "   'pubDate': 'Mon, 04 Jul 2022 17:54:00 +0900',\n",
              "   'title': \"은행권, '기업대출'로 대출한파 뚫는다\"},\n",
              "  {'description': '무엇보다 <b>스마트</b>폰·가전 등 세트(완성품) 판매 부진이 실적의 발목을 잡은 것으로 풀이된다. 이 때문에 올... 마이크론 측은 세계 각국 <b>스마트</b>폰·PC 판매량이 예상했던 것보다 감소하고 있어 매출 하락이 불가피할... ',\n",
              "   'link': 'https://n.news.naver.com/mnews/article/011/0004072453?sid=101',\n",
              "   'originallink': 'https://www.sedaily.com/NewsView/268E4FG3F9',\n",
              "   'pubDate': 'Mon, 04 Jul 2022 17:53:00 +0900',\n",
              "   'title': '증권가, 올 삼성전자 영업익 전망 3조 하향…조선사, 컨선 발주 63% 급감'}],\n",
              " 'lastBuildDate': 'Mon, 04 Jul 2022 18:00:17 +0900',\n",
              " 'start': 1,\n",
              " 'total': 5564209}"
            ]
          },
          "metadata": {},
          "execution_count": 5
        }
      ]
    },
    {
      "cell_type": "code",
      "metadata": {
        "id": "VfIUNYU8STl2",
        "colab": {
          "base_uri": "https://localhost:8080/"
        },
        "outputId": "ea41b078-de4e-4ebc-8e68-14bde841148a"
      },
      "source": [
        "rt_dict.keys()"
      ],
      "execution_count": 6,
      "outputs": [
        {
          "output_type": "execute_result",
          "data": {
            "text/plain": [
              "dict_keys(['lastBuildDate', 'total', 'start', 'display', 'items'])"
            ]
          },
          "metadata": {},
          "execution_count": 6
        }
      ]
    },
    {
      "cell_type": "code",
      "metadata": {
        "id": "lnNIm94pSTl6",
        "colab": {
          "base_uri": "https://localhost:8080/"
        },
        "outputId": "fdeeab7f-30ac-46e8-d25e-1c150080a622"
      },
      "source": [
        "rt_dict['items']"
      ],
      "execution_count": 7,
      "outputs": [
        {
          "output_type": "execute_result",
          "data": {
            "text/plain": [
              "[{'description': '김 시장은 &quot;남부내륙철도, 대구권 광역전철 김천 연장 등전국을 아우르는 십자축 광역철도 구축, <b>스마트</b> 그린물류 규제특구 조성에도 행정력을 집중하겠다&quot;고 했다. 그러면서 &quot;앞으로 4년은 김천의 도시 브랜드 가치를... ',\n",
              "  'link': 'https://n.news.naver.com/mnews/article/003/0011284847?sid=102',\n",
              "  'originallink': 'http://www.newsis.com/view/?id=NISX20220704_0001930850&cID=10810&pID=10800',\n",
              "  'pubDate': 'Mon, 04 Jul 2022 17:58:00 +0900',\n",
              "  'title': '김충섭 김천시장 &quot;일자리 창출·우량기업 유치하겠다&quot;'},\n",
              " {'description': \"기반 <b>스마트</b> 안전모', 4종 센서로 화재 징후를 감지해 유사시 119에 자동으로 신고하는 '소방안전 DX 서비스' 등을 선보이고, 부스에서 산재 예방의 중요성을 일깨울 수 있는 각종 시연도 진행한다. 이 행사에는 전국 각... \",\n",
              "  'link': 'http://www.worktoday.co.kr/news/articleView.html?idxno=26492',\n",
              "  'originallink': 'http://www.worktoday.co.kr/news/articleView.html?idxno=26492',\n",
              "  'pubDate': 'Mon, 04 Jul 2022 17:58:00 +0900',\n",
              "  'title': 'KT, 2022 국제안전보건전시회 참가....AI 가상펜스 등 특화 기술 10종 선보여'},\n",
              " {'description': '김차진 ■ <b>스마트</b>에프엔 ▲ 건설부동산팀장 이하영 ■ 경상국립대 ▲ 도서관장 문선옥 ▲ 인재개발원장 조권구 ▲ 학생생활관장 송도선 ▲ 국제어학원장 권혁창 ▲ 출판부장 김경민 ▲ 인권센터장 남궁술... ',\n",
              "  'link': 'http://www.readersnews.com/news/articleView.html?idxno=106181',\n",
              "  'originallink': 'http://www.readersnews.com/news/articleView.html?idxno=106181',\n",
              "  'pubDate': 'Mon, 04 Jul 2022 17:58:00 +0900',\n",
              "  'title': '[인사] 한양대 외'},\n",
              " {'description': '재단 홈페이지(https://www.cbwf.re.kr)에 접속하거나 <b>스마트</b>폰에서 구글 설문 링크(https://url.kr/nym58w)를 통해 작성 후 제출하면 된다. 참여자 중 100명에게 소정의 기프티콘이 제공된다. 지난 2017년 출범한 재단은 충북의... ',\n",
              "  'link': 'https://www.ccdailynews.com/news/articleView.html?idxno=2140057',\n",
              "  'originallink': 'https://www.ccdailynews.com/news/articleView.html?idxno=2140057',\n",
              "  'pubDate': 'Mon, 04 Jul 2022 17:56:00 +0900',\n",
              "  'title': '충북여성재단, 교육사업 수요 조사'},\n",
              " {'description': '회의 내용을 바탕으로 TV와 냉장고, 세탁기, <b>스마트</b> 가전제품 등의 접근성을 개선하고 있다. 작년 5월에는 국내에서도 접근성 자문단을 발족했다. 장애인 접근성 전문가, 다양한 유형의 장애인으로 구성된 자문단을 통해... ',\n",
              "  'link': 'https://www.dailyimpact.co.kr/news/articleView.html?idxno=81610',\n",
              "  'originallink': 'https://www.dailyimpact.co.kr/news/articleView.html?idxno=81610',\n",
              "  'pubDate': 'Mon, 04 Jul 2022 17:56:00 +0900',\n",
              "  'title': \"LG전자 '접근성 개선' 2030 ESG 전략 과제로 선정\"},\n",
              " {'description': '소규모 대리운전 업체를 인수하며 골목상권을 침해한다는 지적이 잇따랐고 ‘<b>스마트</b>호출’ 서비스 도입 이후 요금을 올리며 비난을 받기도 했다. 투자 유치로 몸집을 불린 뒤 IPO로 막을 내리는 ‘뜨거운 안녕’에... ',\n",
              "  'link': 'https://n.news.naver.com/mnews/article/018/0005259578?sid=101',\n",
              "  'originallink': 'http://www.edaily.co.kr/news/newspath.asp?newsid=02945446632391240',\n",
              "  'pubDate': 'Mon, 04 Jul 2022 17:54:00 +0900',\n",
              "  'title': \"'단순하지 않다'…카카오모빌리티 매각설 둘러싼 경우의 수\"},\n",
              " {'description': \"'건강 100세, <b>스마트</b> 의료·헬스케어와 함께'를 주제로 열린 올해 행사는 '대한민국건강의료산업전', 'KOAMEX... 한편 올해 메디엑스포 코리아는 첨단의료기기전을 신규 런칭해 <b>스마트</b> 의료·헬스케어관을 조성하는 등... \",\n",
              "  'link': 'http://www.discoverynews.kr/news/articleView.html?idxno=832483',\n",
              "  'originallink': 'http://www.discoverynews.kr/news/articleView.html?idxno=832483',\n",
              "  'pubDate': 'Mon, 04 Jul 2022 17:54:00 +0900',\n",
              "  'title': \"건강에 대한 모든 것,'2022 메디엑스포 코리아'역대급 성과\"},\n",
              " {'description': '또한 <b>스마트</b>시티, <b>스마트</b>공장, 자율주행차, 홈네트워크 등 ICT 융합 산업의 보안 위협 대응을 위한 사물인터넷(IoT), 운영 기술(OT) 관련 신규 보안 솔루션을 출시하고, 주요 정보 통신 기반 시설 등 보안등급이 높은... ',\n",
              "  'link': 'http://www.cctvnews.co.kr/news/articleView.html?idxno=232850',\n",
              "  'originallink': 'http://www.cctvnews.co.kr/news/articleView.html?idxno=232850',\n",
              "  'pubDate': 'Mon, 04 Jul 2022 17:54:00 +0900',\n",
              "  'title': '한싹, 창립 30주년 기념식 통해 새로운 비전 제시'},\n",
              " {'description': \"우리은행은 지난 6월 30일 '네이버 <b>스마트</b>플레이스 대출'을 출시했다. 네이버의 중소상공인 업체 정보 관리·운영 플랫폼인 '<b>스마트</b>플레이스' 전용 대출상품으로, 여기엔 250만명의 소상공인 매장이 등록돼있다. 지난해... \",\n",
              "  'link': 'http://www.econovill.com/news/articleView.html?idxno=580656',\n",
              "  'originallink': 'http://www.econovill.com/news/articleView.html?idxno=580656',\n",
              "  'pubDate': 'Mon, 04 Jul 2022 17:54:00 +0900',\n",
              "  'title': \"은행권, '기업대출'로 대출한파 뚫는다\"},\n",
              " {'description': '무엇보다 <b>스마트</b>폰·가전 등 세트(완성품) 판매 부진이 실적의 발목을 잡은 것으로 풀이된다. 이 때문에 올... 마이크론 측은 세계 각국 <b>스마트</b>폰·PC 판매량이 예상했던 것보다 감소하고 있어 매출 하락이 불가피할... ',\n",
              "  'link': 'https://n.news.naver.com/mnews/article/011/0004072453?sid=101',\n",
              "  'originallink': 'https://www.sedaily.com/NewsView/268E4FG3F9',\n",
              "  'pubDate': 'Mon, 04 Jul 2022 17:53:00 +0900',\n",
              "  'title': '증권가, 올 삼성전자 영업익 전망 3조 하향…조선사, 컨선 발주 63% 급감'}]"
            ]
          },
          "metadata": {},
          "execution_count": 7
        }
      ]
    },
    {
      "cell_type": "code",
      "metadata": {
        "id": "4bPOXOKbSTmM",
        "outputId": "27cd2a6b-c9e1-4718-902c-90bb0c545919",
        "colab": {
          "base_uri": "https://localhost:8080/",
          "height": 615
        }
      },
      "source": [
        "pd.DataFrame(rt_dict['items'])"
      ],
      "execution_count": 8,
      "outputs": [
        {
          "output_type": "execute_result",
          "data": {
            "text/plain": [
              "                                              title  \\\n",
              "0            김충섭 김천시장 &quot;일자리 창출·우량기업 유치하겠다&quot;   \n",
              "1  KT, 2022 국제안전보건전시회 참가....AI 가상펜스 등 특화 기술 10종 선보여   \n",
              "2                                        [인사] 한양대 외   \n",
              "3                                충북여성재단, 교육사업 수요 조사   \n",
              "4                  LG전자 '접근성 개선' 2030 ESG 전략 과제로 선정   \n",
              "5                   '단순하지 않다'…카카오모빌리티 매각설 둘러싼 경우의 수   \n",
              "6                건강에 대한 모든 것,'2022 메디엑스포 코리아'역대급 성과   \n",
              "7                      한싹, 창립 30주년 기념식 통해 새로운 비전 제시   \n",
              "8                             은행권, '기업대출'로 대출한파 뚫는다   \n",
              "9        증권가, 올 삼성전자 영업익 전망 3조 하향…조선사, 컨선 발주 63% 급감   \n",
              "\n",
              "                                        originallink  \\\n",
              "0  http://www.newsis.com/view/?id=NISX20220704_00...   \n",
              "1  http://www.worktoday.co.kr/news/articleView.ht...   \n",
              "2  http://www.readersnews.com/news/articleView.ht...   \n",
              "3  https://www.ccdailynews.com/news/articleView.h...   \n",
              "4  https://www.dailyimpact.co.kr/news/articleView...   \n",
              "5  http://www.edaily.co.kr/news/newspath.asp?news...   \n",
              "6  http://www.discoverynews.kr/news/articleView.h...   \n",
              "7  http://www.cctvnews.co.kr/news/articleView.htm...   \n",
              "8  http://www.econovill.com/news/articleView.html...   \n",
              "9        https://www.sedaily.com/NewsView/268E4FG3F9   \n",
              "\n",
              "                                                link  \\\n",
              "0  https://n.news.naver.com/mnews/article/003/001...   \n",
              "1  http://www.worktoday.co.kr/news/articleView.ht...   \n",
              "2  http://www.readersnews.com/news/articleView.ht...   \n",
              "3  https://www.ccdailynews.com/news/articleView.h...   \n",
              "4  https://www.dailyimpact.co.kr/news/articleView...   \n",
              "5  https://n.news.naver.com/mnews/article/018/000...   \n",
              "6  http://www.discoverynews.kr/news/articleView.h...   \n",
              "7  http://www.cctvnews.co.kr/news/articleView.htm...   \n",
              "8  http://www.econovill.com/news/articleView.html...   \n",
              "9  https://n.news.naver.com/mnews/article/011/000...   \n",
              "\n",
              "                                         description  \\\n",
              "0  김 시장은 &quot;남부내륙철도, 대구권 광역전철 김천 연장 등전국을 아우르는 십...   \n",
              "1  기반 <b>스마트</b> 안전모', 4종 센서로 화재 징후를 감지해 유사시 119에...   \n",
              "2  김차진 ■ <b>스마트</b>에프엔 ▲ 건설부동산팀장 이하영 ■ 경상국립대 ▲ 도서...   \n",
              "3  재단 홈페이지(https://www.cbwf.re.kr)에 접속하거나 <b>스마트<...   \n",
              "4  회의 내용을 바탕으로 TV와 냉장고, 세탁기, <b>스마트</b> 가전제품 등의 접...   \n",
              "5  소규모 대리운전 업체를 인수하며 골목상권을 침해한다는 지적이 잇따랐고 ‘<b>스마트...   \n",
              "6  '건강 100세, <b>스마트</b> 의료·헬스케어와 함께'를 주제로 열린 올해 행...   \n",
              "7  또한 <b>스마트</b>시티, <b>스마트</b>공장, 자율주행차, 홈네트워크 등 ...   \n",
              "8  우리은행은 지난 6월 30일 '네이버 <b>스마트</b>플레이스 대출'을 출시했다....   \n",
              "9  무엇보다 <b>스마트</b>폰·가전 등 세트(완성품) 판매 부진이 실적의 발목을 잡...   \n",
              "\n",
              "                           pubDate  \n",
              "0  Mon, 04 Jul 2022 17:58:00 +0900  \n",
              "1  Mon, 04 Jul 2022 17:58:00 +0900  \n",
              "2  Mon, 04 Jul 2022 17:58:00 +0900  \n",
              "3  Mon, 04 Jul 2022 17:56:00 +0900  \n",
              "4  Mon, 04 Jul 2022 17:56:00 +0900  \n",
              "5  Mon, 04 Jul 2022 17:54:00 +0900  \n",
              "6  Mon, 04 Jul 2022 17:54:00 +0900  \n",
              "7  Mon, 04 Jul 2022 17:54:00 +0900  \n",
              "8  Mon, 04 Jul 2022 17:54:00 +0900  \n",
              "9  Mon, 04 Jul 2022 17:53:00 +0900  "
            ],
            "text/html": [
              "\n",
              "  <div id=\"df-867c527e-ac09-4590-9beb-98d5a3023521\">\n",
              "    <div class=\"colab-df-container\">\n",
              "      <div>\n",
              "<style scoped>\n",
              "    .dataframe tbody tr th:only-of-type {\n",
              "        vertical-align: middle;\n",
              "    }\n",
              "\n",
              "    .dataframe tbody tr th {\n",
              "        vertical-align: top;\n",
              "    }\n",
              "\n",
              "    .dataframe thead th {\n",
              "        text-align: right;\n",
              "    }\n",
              "</style>\n",
              "<table border=\"1\" class=\"dataframe\">\n",
              "  <thead>\n",
              "    <tr style=\"text-align: right;\">\n",
              "      <th></th>\n",
              "      <th>title</th>\n",
              "      <th>originallink</th>\n",
              "      <th>link</th>\n",
              "      <th>description</th>\n",
              "      <th>pubDate</th>\n",
              "    </tr>\n",
              "  </thead>\n",
              "  <tbody>\n",
              "    <tr>\n",
              "      <th>0</th>\n",
              "      <td>김충섭 김천시장 &amp;quot;일자리 창출·우량기업 유치하겠다&amp;quot;</td>\n",
              "      <td>http://www.newsis.com/view/?id=NISX20220704_00...</td>\n",
              "      <td>https://n.news.naver.com/mnews/article/003/001...</td>\n",
              "      <td>김 시장은 &amp;quot;남부내륙철도, 대구권 광역전철 김천 연장 등전국을 아우르는 십...</td>\n",
              "      <td>Mon, 04 Jul 2022 17:58:00 +0900</td>\n",
              "    </tr>\n",
              "    <tr>\n",
              "      <th>1</th>\n",
              "      <td>KT, 2022 국제안전보건전시회 참가....AI 가상펜스 등 특화 기술 10종 선보여</td>\n",
              "      <td>http://www.worktoday.co.kr/news/articleView.ht...</td>\n",
              "      <td>http://www.worktoday.co.kr/news/articleView.ht...</td>\n",
              "      <td>기반 &lt;b&gt;스마트&lt;/b&gt; 안전모', 4종 센서로 화재 징후를 감지해 유사시 119에...</td>\n",
              "      <td>Mon, 04 Jul 2022 17:58:00 +0900</td>\n",
              "    </tr>\n",
              "    <tr>\n",
              "      <th>2</th>\n",
              "      <td>[인사] 한양대 외</td>\n",
              "      <td>http://www.readersnews.com/news/articleView.ht...</td>\n",
              "      <td>http://www.readersnews.com/news/articleView.ht...</td>\n",
              "      <td>김차진 ■ &lt;b&gt;스마트&lt;/b&gt;에프엔 ▲ 건설부동산팀장 이하영 ■ 경상국립대 ▲ 도서...</td>\n",
              "      <td>Mon, 04 Jul 2022 17:58:00 +0900</td>\n",
              "    </tr>\n",
              "    <tr>\n",
              "      <th>3</th>\n",
              "      <td>충북여성재단, 교육사업 수요 조사</td>\n",
              "      <td>https://www.ccdailynews.com/news/articleView.h...</td>\n",
              "      <td>https://www.ccdailynews.com/news/articleView.h...</td>\n",
              "      <td>재단 홈페이지(https://www.cbwf.re.kr)에 접속하거나 &lt;b&gt;스마트&lt;...</td>\n",
              "      <td>Mon, 04 Jul 2022 17:56:00 +0900</td>\n",
              "    </tr>\n",
              "    <tr>\n",
              "      <th>4</th>\n",
              "      <td>LG전자 '접근성 개선' 2030 ESG 전략 과제로 선정</td>\n",
              "      <td>https://www.dailyimpact.co.kr/news/articleView...</td>\n",
              "      <td>https://www.dailyimpact.co.kr/news/articleView...</td>\n",
              "      <td>회의 내용을 바탕으로 TV와 냉장고, 세탁기, &lt;b&gt;스마트&lt;/b&gt; 가전제품 등의 접...</td>\n",
              "      <td>Mon, 04 Jul 2022 17:56:00 +0900</td>\n",
              "    </tr>\n",
              "    <tr>\n",
              "      <th>5</th>\n",
              "      <td>'단순하지 않다'…카카오모빌리티 매각설 둘러싼 경우의 수</td>\n",
              "      <td>http://www.edaily.co.kr/news/newspath.asp?news...</td>\n",
              "      <td>https://n.news.naver.com/mnews/article/018/000...</td>\n",
              "      <td>소규모 대리운전 업체를 인수하며 골목상권을 침해한다는 지적이 잇따랐고 ‘&lt;b&gt;스마트...</td>\n",
              "      <td>Mon, 04 Jul 2022 17:54:00 +0900</td>\n",
              "    </tr>\n",
              "    <tr>\n",
              "      <th>6</th>\n",
              "      <td>건강에 대한 모든 것,'2022 메디엑스포 코리아'역대급 성과</td>\n",
              "      <td>http://www.discoverynews.kr/news/articleView.h...</td>\n",
              "      <td>http://www.discoverynews.kr/news/articleView.h...</td>\n",
              "      <td>'건강 100세, &lt;b&gt;스마트&lt;/b&gt; 의료·헬스케어와 함께'를 주제로 열린 올해 행...</td>\n",
              "      <td>Mon, 04 Jul 2022 17:54:00 +0900</td>\n",
              "    </tr>\n",
              "    <tr>\n",
              "      <th>7</th>\n",
              "      <td>한싹, 창립 30주년 기념식 통해 새로운 비전 제시</td>\n",
              "      <td>http://www.cctvnews.co.kr/news/articleView.htm...</td>\n",
              "      <td>http://www.cctvnews.co.kr/news/articleView.htm...</td>\n",
              "      <td>또한 &lt;b&gt;스마트&lt;/b&gt;시티, &lt;b&gt;스마트&lt;/b&gt;공장, 자율주행차, 홈네트워크 등 ...</td>\n",
              "      <td>Mon, 04 Jul 2022 17:54:00 +0900</td>\n",
              "    </tr>\n",
              "    <tr>\n",
              "      <th>8</th>\n",
              "      <td>은행권, '기업대출'로 대출한파 뚫는다</td>\n",
              "      <td>http://www.econovill.com/news/articleView.html...</td>\n",
              "      <td>http://www.econovill.com/news/articleView.html...</td>\n",
              "      <td>우리은행은 지난 6월 30일 '네이버 &lt;b&gt;스마트&lt;/b&gt;플레이스 대출'을 출시했다....</td>\n",
              "      <td>Mon, 04 Jul 2022 17:54:00 +0900</td>\n",
              "    </tr>\n",
              "    <tr>\n",
              "      <th>9</th>\n",
              "      <td>증권가, 올 삼성전자 영업익 전망 3조 하향…조선사, 컨선 발주 63% 급감</td>\n",
              "      <td>https://www.sedaily.com/NewsView/268E4FG3F9</td>\n",
              "      <td>https://n.news.naver.com/mnews/article/011/000...</td>\n",
              "      <td>무엇보다 &lt;b&gt;스마트&lt;/b&gt;폰·가전 등 세트(완성품) 판매 부진이 실적의 발목을 잡...</td>\n",
              "      <td>Mon, 04 Jul 2022 17:53:00 +0900</td>\n",
              "    </tr>\n",
              "  </tbody>\n",
              "</table>\n",
              "</div>\n",
              "      <button class=\"colab-df-convert\" onclick=\"convertToInteractive('df-867c527e-ac09-4590-9beb-98d5a3023521')\"\n",
              "              title=\"Convert this dataframe to an interactive table.\"\n",
              "              style=\"display:none;\">\n",
              "        \n",
              "  <svg xmlns=\"http://www.w3.org/2000/svg\" height=\"24px\"viewBox=\"0 0 24 24\"\n",
              "       width=\"24px\">\n",
              "    <path d=\"M0 0h24v24H0V0z\" fill=\"none\"/>\n",
              "    <path d=\"M18.56 5.44l.94 2.06.94-2.06 2.06-.94-2.06-.94-.94-2.06-.94 2.06-2.06.94zm-11 1L8.5 8.5l.94-2.06 2.06-.94-2.06-.94L8.5 2.5l-.94 2.06-2.06.94zm10 10l.94 2.06.94-2.06 2.06-.94-2.06-.94-.94-2.06-.94 2.06-2.06.94z\"/><path d=\"M17.41 7.96l-1.37-1.37c-.4-.4-.92-.59-1.43-.59-.52 0-1.04.2-1.43.59L10.3 9.45l-7.72 7.72c-.78.78-.78 2.05 0 2.83L4 21.41c.39.39.9.59 1.41.59.51 0 1.02-.2 1.41-.59l7.78-7.78 2.81-2.81c.8-.78.8-2.07 0-2.86zM5.41 20L4 18.59l7.72-7.72 1.47 1.35L5.41 20z\"/>\n",
              "  </svg>\n",
              "      </button>\n",
              "      \n",
              "  <style>\n",
              "    .colab-df-container {\n",
              "      display:flex;\n",
              "      flex-wrap:wrap;\n",
              "      gap: 12px;\n",
              "    }\n",
              "\n",
              "    .colab-df-convert {\n",
              "      background-color: #E8F0FE;\n",
              "      border: none;\n",
              "      border-radius: 50%;\n",
              "      cursor: pointer;\n",
              "      display: none;\n",
              "      fill: #1967D2;\n",
              "      height: 32px;\n",
              "      padding: 0 0 0 0;\n",
              "      width: 32px;\n",
              "    }\n",
              "\n",
              "    .colab-df-convert:hover {\n",
              "      background-color: #E2EBFA;\n",
              "      box-shadow: 0px 1px 2px rgba(60, 64, 67, 0.3), 0px 1px 3px 1px rgba(60, 64, 67, 0.15);\n",
              "      fill: #174EA6;\n",
              "    }\n",
              "\n",
              "    [theme=dark] .colab-df-convert {\n",
              "      background-color: #3B4455;\n",
              "      fill: #D2E3FC;\n",
              "    }\n",
              "\n",
              "    [theme=dark] .colab-df-convert:hover {\n",
              "      background-color: #434B5C;\n",
              "      box-shadow: 0px 1px 3px 1px rgba(0, 0, 0, 0.15);\n",
              "      filter: drop-shadow(0px 1px 2px rgba(0, 0, 0, 0.3));\n",
              "      fill: #FFFFFF;\n",
              "    }\n",
              "  </style>\n",
              "\n",
              "      <script>\n",
              "        const buttonEl =\n",
              "          document.querySelector('#df-867c527e-ac09-4590-9beb-98d5a3023521 button.colab-df-convert');\n",
              "        buttonEl.style.display =\n",
              "          google.colab.kernel.accessAllowed ? 'block' : 'none';\n",
              "\n",
              "        async function convertToInteractive(key) {\n",
              "          const element = document.querySelector('#df-867c527e-ac09-4590-9beb-98d5a3023521');\n",
              "          const dataTable =\n",
              "            await google.colab.kernel.invokeFunction('convertToInteractive',\n",
              "                                                     [key], {});\n",
              "          if (!dataTable) return;\n",
              "\n",
              "          const docLinkHtml = 'Like what you see? Visit the ' +\n",
              "            '<a target=\"_blank\" href=https://colab.research.google.com/notebooks/data_table.ipynb>data table notebook</a>'\n",
              "            + ' to learn more about interactive tables.';\n",
              "          element.innerHTML = '';\n",
              "          dataTable['output_type'] = 'display_data';\n",
              "          await google.colab.output.renderOutput(dataTable, element);\n",
              "          const docLink = document.createElement('div');\n",
              "          docLink.innerHTML = docLinkHtml;\n",
              "          element.appendChild(docLink);\n",
              "        }\n",
              "      </script>\n",
              "    </div>\n",
              "  </div>\n",
              "  "
            ]
          },
          "metadata": {},
          "execution_count": 8
        }
      ]
    },
    {
      "cell_type": "code",
      "metadata": {
        "id": "wNov_EuWSTmS"
      },
      "source": [
        ""
      ],
      "execution_count": 8,
      "outputs": []
    }
  ]
}