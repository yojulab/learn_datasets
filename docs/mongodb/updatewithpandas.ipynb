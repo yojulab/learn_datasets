{
 "cells": [
  {
   "cell_type": "code",
   "execution_count": 1,
   "id": "03aa19d5-86ba-43ab-9442-8231ee2159cb",
   "metadata": {},
   "outputs": [],
   "source": [
    "import pymongo as mg\n",
    "import pandas as pd"
   ]
  },
  {
   "cell_type": "code",
   "execution_count": 2,
   "id": "9f0a8bb6-820d-4bd3-a3cc-9bf3f189abea",
   "metadata": {},
   "outputs": [],
   "source": [
    "client = mg.MongoClient(host='mongodb://localhost:27017')"
   ]
  },
  {
   "cell_type": "code",
   "execution_count": 3,
   "id": "636acf47-89b4-4f99-aa6b-adb65402a13d",
   "metadata": {},
   "outputs": [],
   "source": [
    "database = client['study_data_analytics']"
   ]
  },
  {
   "cell_type": "code",
   "execution_count": 4,
   "id": "a753d2b1-ca88-4c89-8b8c-265dc6d14849",
   "metadata": {},
   "outputs": [],
   "source": [
    "collection = database['collect_update']"
   ]
  },
  {
   "cell_type": "code",
   "execution_count": 9,
   "id": "52eba772-42e0-4b34-8b67-33f88050bda3",
   "metadata": {},
   "outputs": [],
   "source": [
    "cursor_data = collection.find({})"
   ]
  },
  {
   "cell_type": "code",
   "execution_count": 10,
   "id": "fd1f5834-be05-4f3e-8cf9-2b9281dc4320",
   "metadata": {},
   "outputs": [
    {
     "data": {
      "text/html": [
       "<div>\n",
       "<style scoped>\n",
       "    .dataframe tbody tr th:only-of-type {\n",
       "        vertical-align: middle;\n",
       "    }\n",
       "\n",
       "    .dataframe tbody tr th {\n",
       "        vertical-align: top;\n",
       "    }\n",
       "\n",
       "    .dataframe thead th {\n",
       "        text-align: right;\n",
       "    }\n",
       "</style>\n",
       "<table border=\"1\" class=\"dataframe\">\n",
       "  <thead>\n",
       "    <tr style=\"text-align: right;\">\n",
       "      <th></th>\n",
       "      <th>_id</th>\n",
       "      <th>name</th>\n",
       "      <th>age</th>\n",
       "      <th>city</th>\n",
       "    </tr>\n",
       "  </thead>\n",
       "  <tbody>\n",
       "    <tr>\n",
       "      <th>0</th>\n",
       "      <td>65012a4d8c33eba4be7534cd</td>\n",
       "      <td>Alice</td>\n",
       "      <td>26</td>\n",
       "      <td>Seoul</td>\n",
       "    </tr>\n",
       "    <tr>\n",
       "      <th>1</th>\n",
       "      <td>65012a4d8c33eba4be7534ce</td>\n",
       "      <td>Bob</td>\n",
       "      <td>30</td>\n",
       "      <td>Busan</td>\n",
       "    </tr>\n",
       "  </tbody>\n",
       "</table>\n",
       "</div>"
      ],
      "text/plain": [
       "                        _id   name  age   city\n",
       "0  65012a4d8c33eba4be7534cd  Alice   26  Seoul\n",
       "1  65012a4d8c33eba4be7534ce    Bob   30  Busan"
      ]
     },
     "execution_count": 10,
     "metadata": {},
     "output_type": "execute_result"
    }
   ],
   "source": [
    "df_collect_update = pd.DataFrame(list(cursor_data))\n",
    "df_collect_update[:2]"
   ]
  },
  {
   "cell_type": "code",
   "execution_count": 15,
   "id": "0972acf1",
   "metadata": {},
   "outputs": [
    {
     "data": {
      "text/html": [
       "<div>\n",
       "<style scoped>\n",
       "    .dataframe tbody tr th:only-of-type {\n",
       "        vertical-align: middle;\n",
       "    }\n",
       "\n",
       "    .dataframe tbody tr th {\n",
       "        vertical-align: top;\n",
       "    }\n",
       "\n",
       "    .dataframe thead th {\n",
       "        text-align: right;\n",
       "    }\n",
       "</style>\n",
       "<table border=\"1\" class=\"dataframe\">\n",
       "  <thead>\n",
       "    <tr style=\"text-align: right;\">\n",
       "      <th></th>\n",
       "      <th>_id</th>\n",
       "      <th>name</th>\n",
       "      <th>age</th>\n",
       "      <th>city</th>\n",
       "      <th>update</th>\n",
       "    </tr>\n",
       "  </thead>\n",
       "  <tbody>\n",
       "    <tr>\n",
       "      <th>0</th>\n",
       "      <td>65012a4d8c33eba4be7534cd</td>\n",
       "      <td>Alice</td>\n",
       "      <td>26</td>\n",
       "      <td>Seoul</td>\n",
       "      <td>2023-09-13 04:08:57.801975</td>\n",
       "    </tr>\n",
       "    <tr>\n",
       "      <th>1</th>\n",
       "      <td>65012a4d8c33eba4be7534ce</td>\n",
       "      <td>Bob</td>\n",
       "      <td>30</td>\n",
       "      <td>Busan</td>\n",
       "      <td>2023-09-13 04:08:57.801975</td>\n",
       "    </tr>\n",
       "  </tbody>\n",
       "</table>\n",
       "</div>"
      ],
      "text/plain": [
       "                        _id   name  age   city                     update\n",
       "0  65012a4d8c33eba4be7534cd  Alice   26  Seoul 2023-09-13 04:08:57.801975\n",
       "1  65012a4d8c33eba4be7534ce    Bob   30  Busan 2023-09-13 04:08:57.801975"
      ]
     },
     "execution_count": 15,
     "metadata": {},
     "output_type": "execute_result"
    }
   ],
   "source": [
    "from datetime import datetime\n",
    "df_collect_update['update'] = datetime.utcnow()\n",
    "df_collect_update[:2]"
   ]
  },
  {
   "cell_type": "code",
   "execution_count": 16,
   "id": "f8ef6e06",
   "metadata": {},
   "outputs": [
    {
     "data": {
      "text/plain": [
       "{'_id': {0: ObjectId('65012a4d8c33eba4be7534cd'),\n",
       "  1: ObjectId('65012a4d8c33eba4be7534ce'),\n",
       "  2: ObjectId('65012a4d8c33eba4be7534cf')},\n",
       " 'name': {0: 'Alice', 1: 'Bob', 2: 'Charlie'},\n",
       " 'age': {0: 26, 1: 30, 2: 35},\n",
       " 'city': {0: 'Seoul', 1: 'Busan', 2: 'Incheon'},\n",
       " 'update': {0: Timestamp('2023-09-13 13:03:01.860351'),\n",
       "  1: Timestamp('2023-09-13 13:03:01.860351'),\n",
       "  2: Timestamp('2023-09-13 13:03:01.860351')}}"
      ]
     },
     "execution_count": 16,
     "metadata": {},
     "output_type": "execute_result"
    }
   ],
   "source": [
    "dict_collect_update"
   ]
  },
  {
   "cell_type": "code",
   "execution_count": 18,
   "id": "cebd11d5",
   "metadata": {},
   "outputs": [],
   "source": [
    "collection_new = database['collect_update_new']\n",
    "dict_collect_update = df_collect_update.to_dict(orient='records')\n",
    "result = collection_new.insert_many(dict_collect_update)"
   ]
  },
  {
   "cell_type": "code",
   "execution_count": 20,
   "id": "7d6481ee",
   "metadata": {},
   "outputs": [
    {
     "data": {
      "text/plain": [
       "[ObjectId('65012a4d8c33eba4be7534cd'),\n",
       " ObjectId('65012a4d8c33eba4be7534ce'),\n",
       " ObjectId('65012a4d8c33eba4be7534cf')]"
      ]
     },
     "execution_count": 20,
     "metadata": {},
     "output_type": "execute_result"
    }
   ],
   "source": [
    "result.inserted_ids"
   ]
  },
  {
   "cell_type": "code",
   "execution_count": null,
   "id": "10ef7d2c",
   "metadata": {},
   "outputs": [],
   "source": []
  }
 ],
 "metadata": {
  "kernelspec": {
   "display_name": "Python 3 (ipykernel)",
   "language": "python",
   "name": "python3"
  },
  "language_info": {
   "codemirror_mode": {
    "name": "ipython",
    "version": 3
   },
   "file_extension": ".py",
   "mimetype": "text/x-python",
   "name": "python",
   "nbconvert_exporter": "python",
   "pygments_lexer": "ipython3",
   "version": "3.9.13"
  }
 },
 "nbformat": 4,
 "nbformat_minor": 5
}
