{
  "nbformat": 4,
  "nbformat_minor": 0,
  "metadata": {
    "colab": {
      "name": "pivot_table.ipynb",
      "provenance": [],
      "authorship_tag": "ABX9TyOG04MAqeydLCg3I/dw4WQ1",
      "include_colab_link": true
    },
    "kernelspec": {
      "name": "python3",
      "display_name": "Python 3"
    },
    "language_info": {
      "name": "python"
    }
  },
  "cells": [
    {
      "cell_type": "markdown",
      "metadata": {
        "id": "view-in-github",
        "colab_type": "text"
      },
      "source": [
        "<a href=\"https://colab.research.google.com/github/SanghunOh/with_preprocess/blob/main/data_information/sklearn_dataset.ipynb\" target=\"_parent\"><img src=\"https://colab.research.google.com/assets/colab-badge.svg\" alt=\"Open In Colab\"/></a>"
      ]
    },
    {
      "cell_type": "markdown",
      "source": [
        "##sklearn datasets\n",
        "https://scikit-learn.org/stable/datasets/toy_dataset.html"
      ],
      "metadata": {
        "id": "ivD-WZE0Vz0i"
      }
    },
    {
      "cell_type": "markdown",
      "source": [
        "###iris "
      ],
      "metadata": {
        "id": "Q2MeQ_7eV_sH"
      }
    },
    {
      "cell_type": "code",
      "source": [
        "from sklearn.datasets import load_iris\n",
        "iris = load_iris()\n",
        "iris.keys()"
      ],
      "metadata": {
        "colab": {
          "base_uri": "https://localhost:8080/"
        },
        "id": "51-5jSXrVl_J",
        "outputId": "28e11198-ae17-4386-ae14-91eec2b62da2"
      },
      "execution_count": 3,
      "outputs": [
        {
          "output_type": "execute_result",
          "data": {
            "text/plain": [
              "dict_keys(['data', 'target', 'frame', 'target_names', 'DESCR', 'feature_names', 'filename', 'data_module'])"
            ]
          },
          "metadata": {},
          "execution_count": 3
        }
      ]
    },
    {
      "cell_type": "code",
      "source": [
        ""
      ],
      "metadata": {
        "id": "LqRBm7bjVoyX"
      },
      "execution_count": null,
      "outputs": []
    }
  ]
}